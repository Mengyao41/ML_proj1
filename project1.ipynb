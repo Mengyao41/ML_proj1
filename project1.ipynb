{
 "cells": [
  {
   "cell_type": "markdown",
   "metadata": {
    "id": "rOyOkJJA7Foy"
   },
   "source": [
    "# Machine Learning in Python - Group Project 1\n",
    "\n",
    "**Due Friday, March 10th by 16.00 pm.**\n",
    "\n",
    "*include contributors names here (such as Name1, Name2, ...)*"
   ]
  },
  {
   "cell_type": "markdown",
   "metadata": {
    "id": "PqPpPRE37Fo0"
   },
   "source": [
    "## General Setup"
   ]
  },
  {
   "cell_type": "code",
   "execution_count": 1,
   "metadata": {},
   "outputs": [],
   "source": [
    "# From the instructions, we can see that the data is taken from this library (but then modified) so we install this\n",
    "# package and use the data for feature engineering!\n",
    "#!pip install schrutepy\n",
    "#!pip install nltk"
   ]
  },
  {
   "cell_type": "code",
   "execution_count": 2,
   "metadata": {
    "id": "jb4qh-pi7Fo1"
   },
   "outputs": [],
   "source": [
    "# Add any additional libraries or submodules below\n",
    "\n",
    "# Data libraries\n",
    "import numpy as np\n",
    "import pandas as pd\n",
    "from schrutepy import schrutepy\n",
    "import itertools\n",
    "\n",
    "# Sentiment Analysis\n",
    "import nltk\n",
    "from nltk.sentiment.vader import SentimentIntensityAnalyzer\n",
    "\n",
    "# download the vader lexicon \n",
    "#nltk.download('vader_lexicon')\n",
    "\n",
    "\"\"\"Hutto, C.J. & Gilbert, E.E. (2014). VADER: A Parsimonious Rule-based Model for\n",
    "Sentiment Analysis of Social Media Text. Eighth International Conference on\n",
    "Weblogs and Social Media (ICWSM-14). Ann Arbor, MI, June 2014.\"\"\"\n",
    "\n",
    "# Plotting libraries\n",
    "import matplotlib.pyplot as plt\n",
    "import seaborn as sns\n",
    "\n",
    "# Plotting defaults\n",
    "plt.rcParams['figure.figsize'] = (8,5)\n",
    "plt.rcParams['figure.dpi'] = 80\n",
    "\n",
    "# sklearn modules that are necessary\n",
    "from sklearn.preprocessing import PowerTransformer"
   ]
  },
  {
   "cell_type": "code",
   "execution_count": 3,
   "metadata": {
    "id": "hjs5785u7Fo1"
   },
   "outputs": [],
   "source": [
    "# First we load the data \n",
    "data = pd.read_csv(\"the_office.csv\")\n",
    "# and our external data from SchrutePy. (Referenced at end)\n",
    "data_from_schrutepy = schrutepy.load_schrute()"
   ]
  },
  {
   "cell_type": "markdown",
   "metadata": {},
   "source": [
    "After making sure that all the necessary libraries or submodules are uploaded here, please follow the given skeleton to create your project report. \n",
    "- Your completed assignment must follow this structure \n",
    "- You should not add or remove any of these sections, if you feel it is necessary you may add extra subsections within each (such as *2.1. Encoding*). \n",
    "\n",
    "**Do not forget to remove the instructions for each section in the final document.**"
   ]
  },
  {
   "cell_type": "markdown",
   "metadata": {
    "id": "K314dGEL7Fo1"
   },
   "source": [
    "## 1. Introduction\n",
    "\n",
    "*This section should include a brief introduction to the task and the data (assume this is a report you are delivering to a client).* \n",
    "\n",
    "- If you use any additional data sources, you should introduce them here and discuss why they were included.\n",
    "\n",
    "- Briefly outline the approaches being used and the conclusions that you are able to draw."
   ]
  },
  {
   "cell_type": "code",
   "execution_count": 4,
   "metadata": {},
   "outputs": [
    {
     "data": {
      "text/plain": [
       "'FINISH'"
      ]
     },
     "execution_count": 4,
     "metadata": {},
     "output_type": "execute_result"
    }
   ],
   "source": [
    "\"\"\"FINISH\"\"\""
   ]
  },
  {
   "cell_type": "markdown",
   "metadata": {
    "id": "3P6Vdzbo7Fo2"
   },
   "source": [
    "## 2. Exploratory Data Analysis and Feature Engineering"
   ]
  },
  {
   "cell_type": "markdown",
   "metadata": {
    "id": "Arg9_dYE7Fo2"
   },
   "source": [
    "*Include a detailed discussion of the data with a particular emphasis on the features of the data that are relevant for the subsequent modeling.* \n",
    "\n",
    "- Including visualizations of the data is strongly encouraged - all code and plots must also be described in the write up. \n",
    "- Think carefully about whether each plot needs to be included in your final draft - your report should include figures but they should be as focused and impactful as possible.\n",
    "\n",
    "*Additionally, this section should also implement and describe any preprocessing / feature engineering of the data.*\n",
    "\n",
    "- Specifically, this should be any code that you use to generate new columns in the data frame `d`. All of this processing is explicitly meant to occur before we split the data in to training and testing subsets. \n",
    "- Processing that will be performed as part of an sklearn pipeline can be mentioned here but should be implemented in the following section.*\n",
    "\n",
    "**All code and figures should be accompanied by text that provides an overview / context to what is being done or presented.**"
   ]
  },
  {
   "cell_type": "markdown",
   "metadata": {},
   "source": [
    "### 2.1 Exploratory Data Analysis"
   ]
  },
  {
   "cell_type": "markdown",
   "metadata": {},
   "source": [
    "First we will explore the given dataset and show what the SchrutePy dataset looks like, which we downloaded from the package SchrutePy (reference below). This was hinted at in the instructions and will give us extra data to make our model.\n",
    "\n",
    "Below is the given dataset from the_office.csv"
   ]
  },
  {
   "cell_type": "code",
   "execution_count": 5,
   "metadata": {},
   "outputs": [
    {
     "data": {
      "text/html": [
       "<div>\n",
       "<style scoped>\n",
       "    .dataframe tbody tr th:only-of-type {\n",
       "        vertical-align: middle;\n",
       "    }\n",
       "\n",
       "    .dataframe tbody tr th {\n",
       "        vertical-align: top;\n",
       "    }\n",
       "\n",
       "    .dataframe thead th {\n",
       "        text-align: right;\n",
       "    }\n",
       "</style>\n",
       "<table border=\"1\" class=\"dataframe\">\n",
       "  <thead>\n",
       "    <tr style=\"text-align: right;\">\n",
       "      <th></th>\n",
       "      <th>season</th>\n",
       "      <th>episode</th>\n",
       "      <th>episode_name</th>\n",
       "      <th>director</th>\n",
       "      <th>writer</th>\n",
       "      <th>imdb_rating</th>\n",
       "      <th>total_votes</th>\n",
       "      <th>air_date</th>\n",
       "      <th>n_lines</th>\n",
       "      <th>n_directions</th>\n",
       "      <th>n_words</th>\n",
       "      <th>n_speak_char</th>\n",
       "      <th>main_chars</th>\n",
       "    </tr>\n",
       "  </thead>\n",
       "  <tbody>\n",
       "    <tr>\n",
       "      <th>0</th>\n",
       "      <td>1</td>\n",
       "      <td>1</td>\n",
       "      <td>Pilot</td>\n",
       "      <td>Ken Kwapis</td>\n",
       "      <td>Ricky Gervais;Stephen Merchant;Greg Daniels</td>\n",
       "      <td>7.6</td>\n",
       "      <td>3706</td>\n",
       "      <td>2005-03-24</td>\n",
       "      <td>229</td>\n",
       "      <td>27</td>\n",
       "      <td>2757</td>\n",
       "      <td>15</td>\n",
       "      <td>Angela;Dwight;Jim;Kevin;Michael;Oscar;Pam;Phyl...</td>\n",
       "    </tr>\n",
       "    <tr>\n",
       "      <th>1</th>\n",
       "      <td>1</td>\n",
       "      <td>2</td>\n",
       "      <td>Diversity Day</td>\n",
       "      <td>Ken Kwapis</td>\n",
       "      <td>B.J. Novak</td>\n",
       "      <td>8.3</td>\n",
       "      <td>3566</td>\n",
       "      <td>2005-03-29</td>\n",
       "      <td>203</td>\n",
       "      <td>20</td>\n",
       "      <td>2808</td>\n",
       "      <td>12</td>\n",
       "      <td>Angela;Dwight;Jim;Kelly;Kevin;Michael;Oscar;Pa...</td>\n",
       "    </tr>\n",
       "  </tbody>\n",
       "</table>\n",
       "</div>"
      ],
      "text/plain": [
       "   season  episode   episode_name    director  \\\n",
       "0       1        1          Pilot  Ken Kwapis   \n",
       "1       1        2  Diversity Day  Ken Kwapis   \n",
       "\n",
       "                                        writer  imdb_rating  total_votes  \\\n",
       "0  Ricky Gervais;Stephen Merchant;Greg Daniels          7.6         3706   \n",
       "1                                   B.J. Novak          8.3         3566   \n",
       "\n",
       "     air_date  n_lines  n_directions  n_words  n_speak_char  \\\n",
       "0  2005-03-24      229            27     2757            15   \n",
       "1  2005-03-29      203            20     2808            12   \n",
       "\n",
       "                                          main_chars  \n",
       "0  Angela;Dwight;Jim;Kevin;Michael;Oscar;Pam;Phyl...  \n",
       "1  Angela;Dwight;Jim;Kelly;Kevin;Michael;Oscar;Pa...  "
      ]
     },
     "execution_count": 5,
     "metadata": {},
     "output_type": "execute_result"
    }
   ],
   "source": [
    "data.head(2)"
   ]
  },
  {
   "cell_type": "markdown",
   "metadata": {},
   "source": [
    "And here is the external dataset we use from SchrutePy:"
   ]
  },
  {
   "cell_type": "code",
   "execution_count": 6,
   "metadata": {},
   "outputs": [
    {
     "data": {
      "text/html": [
       "<div>\n",
       "<style scoped>\n",
       "    .dataframe tbody tr th:only-of-type {\n",
       "        vertical-align: middle;\n",
       "    }\n",
       "\n",
       "    .dataframe tbody tr th {\n",
       "        vertical-align: top;\n",
       "    }\n",
       "\n",
       "    .dataframe thead th {\n",
       "        text-align: right;\n",
       "    }\n",
       "</style>\n",
       "<table border=\"1\" class=\"dataframe\">\n",
       "  <thead>\n",
       "    <tr style=\"text-align: right;\">\n",
       "      <th></th>\n",
       "      <th>index</th>\n",
       "      <th>season</th>\n",
       "      <th>episode</th>\n",
       "      <th>episode_name</th>\n",
       "      <th>director</th>\n",
       "      <th>writer</th>\n",
       "      <th>character</th>\n",
       "      <th>text</th>\n",
       "      <th>text_w_direction</th>\n",
       "    </tr>\n",
       "  </thead>\n",
       "  <tbody>\n",
       "    <tr>\n",
       "      <th>0</th>\n",
       "      <td>1</td>\n",
       "      <td>1</td>\n",
       "      <td>1</td>\n",
       "      <td>Pilot</td>\n",
       "      <td>Ken Kwapis</td>\n",
       "      <td>Ricky Gervais;Stephen Merchant;Greg Daniels</td>\n",
       "      <td>Michael</td>\n",
       "      <td>All right Jim. Your quarterlies look very good...</td>\n",
       "      <td>All right Jim. Your quarterlies look very good...</td>\n",
       "    </tr>\n",
       "    <tr>\n",
       "      <th>1</th>\n",
       "      <td>2</td>\n",
       "      <td>1</td>\n",
       "      <td>1</td>\n",
       "      <td>Pilot</td>\n",
       "      <td>Ken Kwapis</td>\n",
       "      <td>Ricky Gervais;Stephen Merchant;Greg Daniels</td>\n",
       "      <td>Jim</td>\n",
       "      <td>Oh, I told you. I couldn't close it. So...</td>\n",
       "      <td>Oh, I told you. I couldn't close it. So...</td>\n",
       "    </tr>\n",
       "  </tbody>\n",
       "</table>\n",
       "</div>"
      ],
      "text/plain": [
       "   index  season  episode episode_name    director  \\\n",
       "0      1       1        1        Pilot  Ken Kwapis   \n",
       "1      2       1        1        Pilot  Ken Kwapis   \n",
       "\n",
       "                                        writer character  \\\n",
       "0  Ricky Gervais;Stephen Merchant;Greg Daniels   Michael   \n",
       "1  Ricky Gervais;Stephen Merchant;Greg Daniels       Jim   \n",
       "\n",
       "                                                text  \\\n",
       "0  All right Jim. Your quarterlies look very good...   \n",
       "1         Oh, I told you. I couldn't close it. So...   \n",
       "\n",
       "                                    text_w_direction  \n",
       "0  All right Jim. Your quarterlies look very good...  \n",
       "1         Oh, I told you. I couldn't close it. So...  "
      ]
     },
     "execution_count": 6,
     "metadata": {},
     "output_type": "execute_result"
    }
   ],
   "source": [
    "data_from_schrutepy.head(2)"
   ]
  },
  {
   "cell_type": "markdown",
   "metadata": {},
   "source": [
    "This gives us a quick overview of what our columns are, how the data is inputted and how the overall structure of the data is. This is important for us so we can create efficient code later!\n",
    "Now lets quickly describe our data:"
   ]
  },
  {
   "cell_type": "code",
   "execution_count": 7,
   "metadata": {},
   "outputs": [
    {
     "data": {
      "text/html": [
       "<div>\n",
       "<style scoped>\n",
       "    .dataframe tbody tr th:only-of-type {\n",
       "        vertical-align: middle;\n",
       "    }\n",
       "\n",
       "    .dataframe tbody tr th {\n",
       "        vertical-align: top;\n",
       "    }\n",
       "\n",
       "    .dataframe thead th {\n",
       "        text-align: right;\n",
       "    }\n",
       "</style>\n",
       "<table border=\"1\" class=\"dataframe\">\n",
       "  <thead>\n",
       "    <tr style=\"text-align: right;\">\n",
       "      <th></th>\n",
       "      <th>count</th>\n",
       "      <th>mean</th>\n",
       "      <th>std</th>\n",
       "      <th>min</th>\n",
       "      <th>25%</th>\n",
       "      <th>50%</th>\n",
       "      <th>75%</th>\n",
       "      <th>max</th>\n",
       "    </tr>\n",
       "  </thead>\n",
       "  <tbody>\n",
       "    <tr>\n",
       "      <th>season</th>\n",
       "      <td>186.0</td>\n",
       "      <td>5.46</td>\n",
       "      <td>2.40</td>\n",
       "      <td>1.0</td>\n",
       "      <td>3.00</td>\n",
       "      <td>6.0</td>\n",
       "      <td>7.75</td>\n",
       "      <td>9.0</td>\n",
       "    </tr>\n",
       "    <tr>\n",
       "      <th>episode</th>\n",
       "      <td>186.0</td>\n",
       "      <td>12.48</td>\n",
       "      <td>7.23</td>\n",
       "      <td>1.0</td>\n",
       "      <td>6.00</td>\n",
       "      <td>12.0</td>\n",
       "      <td>18.00</td>\n",
       "      <td>28.0</td>\n",
       "    </tr>\n",
       "    <tr>\n",
       "      <th>imdb_rating</th>\n",
       "      <td>186.0</td>\n",
       "      <td>8.25</td>\n",
       "      <td>0.54</td>\n",
       "      <td>6.7</td>\n",
       "      <td>7.90</td>\n",
       "      <td>8.2</td>\n",
       "      <td>8.60</td>\n",
       "      <td>9.7</td>\n",
       "    </tr>\n",
       "    <tr>\n",
       "      <th>total_votes</th>\n",
       "      <td>186.0</td>\n",
       "      <td>2129.54</td>\n",
       "      <td>790.79</td>\n",
       "      <td>1393.0</td>\n",
       "      <td>1628.50</td>\n",
       "      <td>1954.0</td>\n",
       "      <td>2385.00</td>\n",
       "      <td>7934.0</td>\n",
       "    </tr>\n",
       "    <tr>\n",
       "      <th>n_lines</th>\n",
       "      <td>186.0</td>\n",
       "      <td>296.40</td>\n",
       "      <td>82.00</td>\n",
       "      <td>131.0</td>\n",
       "      <td>255.25</td>\n",
       "      <td>281.0</td>\n",
       "      <td>314.50</td>\n",
       "      <td>625.0</td>\n",
       "    </tr>\n",
       "    <tr>\n",
       "      <th>n_directions</th>\n",
       "      <td>186.0</td>\n",
       "      <td>50.15</td>\n",
       "      <td>23.94</td>\n",
       "      <td>11.0</td>\n",
       "      <td>34.00</td>\n",
       "      <td>46.0</td>\n",
       "      <td>60.00</td>\n",
       "      <td>166.0</td>\n",
       "    </tr>\n",
       "    <tr>\n",
       "      <th>n_words</th>\n",
       "      <td>186.0</td>\n",
       "      <td>3053.51</td>\n",
       "      <td>799.27</td>\n",
       "      <td>1098.0</td>\n",
       "      <td>2670.25</td>\n",
       "      <td>2872.5</td>\n",
       "      <td>3141.00</td>\n",
       "      <td>6076.0</td>\n",
       "    </tr>\n",
       "    <tr>\n",
       "      <th>n_speak_char</th>\n",
       "      <td>186.0</td>\n",
       "      <td>20.69</td>\n",
       "      <td>5.09</td>\n",
       "      <td>12.0</td>\n",
       "      <td>17.00</td>\n",
       "      <td>20.0</td>\n",
       "      <td>23.00</td>\n",
       "      <td>54.0</td>\n",
       "    </tr>\n",
       "  </tbody>\n",
       "</table>\n",
       "</div>"
      ],
      "text/plain": [
       "              count     mean     std     min      25%     50%      75%     max\n",
       "season        186.0     5.46    2.40     1.0     3.00     6.0     7.75     9.0\n",
       "episode       186.0    12.48    7.23     1.0     6.00    12.0    18.00    28.0\n",
       "imdb_rating   186.0     8.25    0.54     6.7     7.90     8.2     8.60     9.7\n",
       "total_votes   186.0  2129.54  790.79  1393.0  1628.50  1954.0  2385.00  7934.0\n",
       "n_lines       186.0   296.40   82.00   131.0   255.25   281.0   314.50   625.0\n",
       "n_directions  186.0    50.15   23.94    11.0    34.00    46.0    60.00   166.0\n",
       "n_words       186.0  3053.51  799.27  1098.0  2670.25  2872.5  3141.00  6076.0\n",
       "n_speak_char  186.0    20.69    5.09    12.0    17.00    20.0    23.00    54.0"
      ]
     },
     "metadata": {},
     "output_type": "display_data"
    }
   ],
   "source": [
    "display(data.describe().T.round(2))"
   ]
  },
  {
   "cell_type": "markdown",
   "metadata": {},
   "source": [
    "We can see we have 186 episodes in total, average rating of 8.25 (good show), several other parameters which will be important later when we feature engineer. We can see for example there is quite a large standard deviation in the amount of votes, which could skew our ratings. We also see our rating (target variable) has a standard deviation of 0.54, whereas the mean is 8.25. This shows there is enough spread of rating to make non-uniform predictions."
   ]
  },
  {
   "cell_type": "markdown",
   "metadata": {},
   "source": [
    "Are there any missing values?"
   ]
  },
  {
   "cell_type": "code",
   "execution_count": 8,
   "metadata": {},
   "outputs": [
    {
     "name": "stdout",
     "output_type": "stream",
     "text": [
      "The DataFrame: data, has  0  NaN values\n"
     ]
    }
   ],
   "source": [
    "print('The DataFrame: data, has ',data.isna().sum().sum(),' NaN values')"
   ]
  },
  {
   "cell_type": "markdown",
   "metadata": {},
   "source": [
    "What about our external dataset?"
   ]
  },
  {
   "cell_type": "code",
   "execution_count": 9,
   "metadata": {},
   "outputs": [
    {
     "data": {
      "text/plain": [
       "index                 0\n",
       "season                0\n",
       "episode               0\n",
       "episode_name          0\n",
       "director              0\n",
       "writer                0\n",
       "character             0\n",
       "text                374\n",
       "text_w_direction      5\n",
       "dtype: int64"
      ]
     },
     "execution_count": 9,
     "metadata": {},
     "output_type": "execute_result"
    }
   ],
   "source": [
    "data_from_schrutepy.isna().sum()"
   ]
  },
  {
   "cell_type": "markdown",
   "metadata": {},
   "source": [
    "We can see we have the columns text and text_w_directions have NaN values. However, we will not be using these anyways since its just the script! So we do not have to worry about it :)"
   ]
  },
  {
   "cell_type": "code",
   "execution_count": 10,
   "metadata": {},
   "outputs": [],
   "source": [
    "# We will no get our numerical data so we can visualize it:\n",
    "num_data = data.copy()\n",
    "num_data = num_data.drop(columns = ['episode_name', 'director', 'writer', 'air_date', 'main_chars'])"
   ]
  },
  {
   "cell_type": "markdown",
   "metadata": {},
   "source": [
    "Now lets take a look at the distribution of the columns. (except of course the season number, episode, and air date)"
   ]
  },
  {
   "cell_type": "code",
   "execution_count": 11,
   "metadata": {},
   "outputs": [
    {
     "data": {
      "image/png": "[encoded data removed]",
      "text/plain": [
       "<Figure size 1200x560 with 6 Axes>"
      ]
     },
     "metadata": {},
     "output_type": "display_data"
    }
   ],
   "source": [
    "fig, axes = plt.subplots(figsize=(15,7), ncols=3, nrows=2)\n",
    "axes = axes.flatten()\n",
    "\n",
    "#define our columns\n",
    "lst = ['imdb_rating','total_votes', 'n_lines', 'n_directions','n_words', 'n_speak_char']\n",
    "\n",
    "for i, ax in enumerate(axes):\n",
    "    sns.histplot(data = num_data[lst[i]], bins=30, ax=ax)\n",
    "    ax.set_title(num_data[lst[i]].name)\n",
    "    ax.set_ylabel(\"\")\n",
    "    ax.set_xlabel(\"\")\n",
    "\n",
    "plt.tight_layout()\n",
    "plt.show()"
   ]
  },
  {
   "cell_type": "markdown",
   "metadata": {},
   "source": [
    "Seeing the distribution is important because it lets us see several hints such as the Skewness, Gaussian-ness, etc. We can see the IMDB rating follows what seems like a normal distribution, whereas total votes decreasing seemingly exponentially. While the mathematical relation isn't necessarily important for each of the variables, it is important to understand total votes is skewed."
   ]
  },
  {
   "cell_type": "markdown",
   "metadata": {},
   "source": [
    "The graphs above allow us to visualise the distributions of all of our numerical features. We can see that some features are skewed and others follow a normal gaussian distribution. From this information, we will implement a box cox transformation to transform all non-gaussian features to gaussian. This will be done in the feature engineering section. Doing so will improve the predictions made by our linear regression model further down the line. \n"
   ]
  },
  {
   "cell_type": "markdown",
   "metadata": {},
   "source": [
    "Now before we move on to visualizing the correlation between variables, we want to see a breakdown of the relationship between writers and directors. After group discussion, we already know we want to include writers and directors in our model, but we need to make encoding of these variables. \n",
    "\n",
    "What is important to us is not the directors which had one hit wonders: the directors which had directed one episode and got lucky with a good rating. Maybe they are really good, but we are looking for consistency. The director for our final episode has to be consistently good.\n",
    "\n",
    "<b> We set a threshold to choose which directors to encode in our model:</b> we want directors to have directed at least ***5 shows*** and then from there select the ***best 5***  "
   ]
  },
  {
   "cell_type": "code",
   "execution_count": 12,
   "metadata": {},
   "outputs": [
    {
     "name": "stderr",
     "output_type": "stream",
     "text": [
      "/var/folders/y5/hx36dcps0wj9r1hxwq1x3zj80000gn/T/ipykernel_86861/2634553987.py:4: FutureWarning: The default value of numeric_only in DataFrameGroupBy.sum is deprecated. In a future version, numeric_only will default to False. Either specify numeric_only or select only columns which should be valid for the function.\n",
      "  director = director.groupby('director')[['director', 'imdb_rating', 'freq']].sum()\n"
     ]
    },
    {
     "data": {
      "text/html": [
       "<div>\n",
       "<style scoped>\n",
       "    .dataframe tbody tr th:only-of-type {\n",
       "        vertical-align: middle;\n",
       "    }\n",
       "\n",
       "    .dataframe tbody tr th {\n",
       "        vertical-align: top;\n",
       "    }\n",
       "\n",
       "    .dataframe thead th {\n",
       "        text-align: right;\n",
       "    }\n",
       "</style>\n",
       "<table border=\"1\" class=\"dataframe\">\n",
       "  <thead>\n",
       "    <tr style=\"text-align: right;\">\n",
       "      <th></th>\n",
       "      <th>freq</th>\n",
       "      <th>mean_rating</th>\n",
       "    </tr>\n",
       "    <tr>\n",
       "      <th>director</th>\n",
       "      <th></th>\n",
       "      <th></th>\n",
       "    </tr>\n",
       "  </thead>\n",
       "  <tbody>\n",
       "    <tr>\n",
       "      <th>Paul Feig</th>\n",
       "      <td>14</td>\n",
       "      <td>8.69</td>\n",
       "    </tr>\n",
       "    <tr>\n",
       "      <th>Ken Kwapis</th>\n",
       "      <td>12</td>\n",
       "      <td>8.54</td>\n",
       "    </tr>\n",
       "    <tr>\n",
       "      <th>Greg Daniels</th>\n",
       "      <td>14</td>\n",
       "      <td>8.52</td>\n",
       "    </tr>\n",
       "    <tr>\n",
       "      <th>Ken Whittingham</th>\n",
       "      <td>8</td>\n",
       "      <td>8.36</td>\n",
       "    </tr>\n",
       "    <tr>\n",
       "      <th>Charles McDougall</th>\n",
       "      <td>6</td>\n",
       "      <td>8.30</td>\n",
       "    </tr>\n",
       "    <tr>\n",
       "      <th>Jeffrey Blitz</th>\n",
       "      <td>11</td>\n",
       "      <td>8.30</td>\n",
       "    </tr>\n",
       "  </tbody>\n",
       "</table>\n",
       "</div>"
      ],
      "text/plain": [
       "                   freq  mean_rating\n",
       "director                            \n",
       "Paul Feig            14         8.69\n",
       "Ken Kwapis           12         8.54\n",
       "Greg Daniels         14         8.52\n",
       "Ken Whittingham       8         8.36\n",
       "Charles McDougall     6         8.30\n",
       "Jeffrey Blitz        11         8.30"
      ]
     },
     "execution_count": 12,
     "metadata": {},
     "output_type": "execute_result"
    }
   ],
   "source": [
    "#get director dataframe which has their ratings and get a new column calculating the amount of times they directed\n",
    "director = data[['director', 'imdb_rating']].reindex(columns=list(['director', 'imdb_rating', 'freq']), fill_value=1)\n",
    "#calculates the sum\n",
    "director = director.groupby('director')[['director', 'imdb_rating', 'freq']].sum() \n",
    "director['mean_rating'] = round(director['imdb_rating'] / director['freq'], 2)\n",
    "# and sort the values for us on frequency (explained below) with a mean rating in the 75% percentile. \n",
    "director[director['freq']>=5].drop(columns = 'imdb_rating').sort_values(by='mean_rating', ascending=False).head(6)"
   ]
  },
  {
   "cell_type": "markdown",
   "metadata": {},
   "source": [
    "We find that using this criteria, we get some of the consistnently best directors. Fortunately for us, we can see that all our directors with high frequency also have fairly good ratings, with Paul Feig having a very high rating consistently! We see that Jeffery Blitz has the same rating as Charles McDougall so we use Jeffery since he has a higher frequency!\n",
    "\n",
    "Now lets do the same with writer. Here some times the writers collab. We will NOT split up the writers individually because we believe collaborations between writers can lead to better results than the writers individually together!"
   ]
  },
  {
   "cell_type": "code",
   "execution_count": 13,
   "metadata": {},
   "outputs": [
    {
     "name": "stderr",
     "output_type": "stream",
     "text": [
      "/var/folders/y5/hx36dcps0wj9r1hxwq1x3zj80000gn/T/ipykernel_86861/4186175787.py:4: FutureWarning: The default value of numeric_only in DataFrameGroupBy.sum is deprecated. In a future version, numeric_only will default to False. Either specify numeric_only or select only columns which should be valid for the function.\n",
      "  writer = writer.groupby('writer')[['writer', 'imdb_rating', 'freq']].sum()\n"
     ]
    },
    {
     "data": {
      "text/html": [
       "<div>\n",
       "<style scoped>\n",
       "    .dataframe tbody tr th:only-of-type {\n",
       "        vertical-align: middle;\n",
       "    }\n",
       "\n",
       "    .dataframe tbody tr th {\n",
       "        vertical-align: top;\n",
       "    }\n",
       "\n",
       "    .dataframe thead th {\n",
       "        text-align: right;\n",
       "    }\n",
       "</style>\n",
       "<table border=\"1\" class=\"dataframe\">\n",
       "  <thead>\n",
       "    <tr style=\"text-align: right;\">\n",
       "      <th></th>\n",
       "      <th>freq</th>\n",
       "      <th>mean_rating</th>\n",
       "    </tr>\n",
       "    <tr>\n",
       "      <th>writer</th>\n",
       "      <th></th>\n",
       "      <th></th>\n",
       "    </tr>\n",
       "  </thead>\n",
       "  <tbody>\n",
       "    <tr>\n",
       "      <th>Greg Daniels</th>\n",
       "      <td>9</td>\n",
       "      <td>8.74</td>\n",
       "    </tr>\n",
       "    <tr>\n",
       "      <th>Gene Stupnitsky;Lee Eisenberg</th>\n",
       "      <td>7</td>\n",
       "      <td>8.51</td>\n",
       "    </tr>\n",
       "    <tr>\n",
       "      <th>Michael Schur</th>\n",
       "      <td>7</td>\n",
       "      <td>8.49</td>\n",
       "    </tr>\n",
       "    <tr>\n",
       "      <th>Paul Lieberstein</th>\n",
       "      <td>13</td>\n",
       "      <td>8.40</td>\n",
       "    </tr>\n",
       "    <tr>\n",
       "      <th>B.J. Novak</th>\n",
       "      <td>15</td>\n",
       "      <td>8.37</td>\n",
       "    </tr>\n",
       "    <tr>\n",
       "      <th>Lee Eisenberg;Gene Stupnitsky</th>\n",
       "      <td>6</td>\n",
       "      <td>8.35</td>\n",
       "    </tr>\n",
       "  </tbody>\n",
       "</table>\n",
       "</div>"
      ],
      "text/plain": [
       "                               freq  mean_rating\n",
       "writer                                          \n",
       "Greg Daniels                      9         8.74\n",
       "Gene Stupnitsky;Lee Eisenberg     7         8.51\n",
       "Michael Schur                     7         8.49\n",
       "Paul Lieberstein                 13         8.40\n",
       "B.J. Novak                       15         8.37\n",
       "Lee Eisenberg;Gene Stupnitsky     6         8.35"
      ]
     },
     "execution_count": 13,
     "metadata": {},
     "output_type": "execute_result"
    }
   ],
   "source": [
    "#get director dataframe which has their ratings and get a new column calculating the amount of times they directed\n",
    "writer = data[['writer', 'imdb_rating']].reindex(columns=list(['writer', 'imdb_rating', 'freq']), fill_value=1)\n",
    "#calculates the sum\n",
    "writer = writer.groupby('writer')[['writer', 'imdb_rating', 'freq']].sum() \n",
    "writer['mean_rating'] = round(writer['imdb_rating'] / writer['freq'], 2)\n",
    "# and sort the values for us on frequency (explained below) with a mean rating in the 75% percentile. \n",
    "writer[writer['freq']>=5].drop(columns = 'imdb_rating').sort_values(by='mean_rating', ascending=False).head(6)"
   ]
  },
  {
   "cell_type": "markdown",
   "metadata": {},
   "source": [
    "Using the same reasoning, we can find the best consistently best 5 writers which we will choose to encode!"
   ]
  },
  {
   "cell_type": "markdown",
   "metadata": {},
   "source": [
    "Now that we have done all of this: It is time to see the correlation between our variables so we can choose the best selection for our model to reduce feature dependence!"
   ]
  },
  {
   "cell_type": "code",
   "execution_count": 14,
   "metadata": {},
   "outputs": [
    {
     "data": {
      "image/png": "[encoded data removed]",
      "text/plain": [
       "<Figure size 1120x640 with 2 Axes>"
      ]
     },
     "metadata": {},
     "output_type": "display_data"
    }
   ],
   "source": [
    "#heatmap\n",
    "sns.set(rc={'figure.figsize': (14, 8)})\n",
    "sns.heatmap(num_data.corr(), annot = True, fmt = '.2f', linewidths = 2)\n",
    "plt.title(\"Correlation Heatmap for all \")\n",
    "plt.show()"
   ]
  },
  {
   "cell_type": "markdown",
   "metadata": {},
   "source": [
    "We can see some very important things to reduce colinearity/codependence:\n",
    "\n",
    "* n_lines and n_words is very highly correlated (obviously) so we will deal with that later. Other n_* lines are also slightly correlated so we will find a way to deal with those too.\n",
    "* imbd_rating and total_votes is also very highly correlated. \n",
    "    + We need to be careful here because this implies episodes with a large number of votes often is rated more highly. We cannot have number of votes as an input variable in our model because for a reunion episode, we obviosuly cannot say a priori the amount of votes we will get. To deal with this we will look deeper into the problem: We can adjust the imdb rating based on the amount of votes it got or choose to ignore the correlation if we find the relationship to be insignificant. More on this later...\n",
    "* The same is with rating and season number. However, since we cannot account for the season number in our reunion episode, we cannot do anything about this either. We could weight each season to imbd rating but do not believe this to be outside the scope of this project. It would be great for further research!"
   ]
  },
  {
   "cell_type": "markdown",
   "metadata": {},
   "source": [
    "Firstly, lets look at how we can deal with number of ____ feautures"
   ]
  },
  {
   "cell_type": "code",
   "execution_count": 15,
   "metadata": {},
   "outputs": [
    {
     "data": {
      "text/plain": [
       "<seaborn.axisgrid.PairGrid at 0x1715b9bb0>"
      ]
     },
     "execution_count": 15,
     "metadata": {},
     "output_type": "execute_result"
    },
    {
     "data": {
      "image/png": "[encoded data removed]",
      "text/plain": [
       "<Figure size 800x800 with 20 Axes>"
      ]
     },
     "metadata": {},
     "output_type": "display_data"
    }
   ],
   "source": [
    "# we now want to see how the highly correlated values are relates:\n",
    "sns.pairplot(data[['n_lines','n_directions','n_words', 'n_speak_char']])"
   ]
  },
  {
   "cell_type": "markdown",
   "metadata": {},
   "source": [
    "We can see a very clear __linear__ relationship between n_lines and n_words which is good for us since it means we can combine or eliminate one of those feautres. The other variables we do not see as strong relationship so we are hesitant to eliminate those. We will see if testing the model on a reduced parameter space will improve performance later, in which we can reduce some of these feautures."
   ]
  },
  {
   "cell_type": "markdown",
   "metadata": {},
   "source": [
    "### 2.2 Feature Engineering"
   ]
  },
  {
   "cell_type": "markdown",
   "metadata": {},
   "source": [
    "<span style=\"color:red\">***FIX/Adjust BELOW***</span>\n"
   ]
  },
  {
   "cell_type": "markdown",
   "metadata": {},
   "source": [
    "#### Features we are eliminating (from the_office.csv) and why:\n",
    "* We will eliminate the column n_words since we found that n_lines and n_words were highly linearly correlated. Doing so will reduce collinearity in our final model. \n",
    "* We will remove season number, episode number and air_date because in our opinion, this should not have an affect on the reunion episode. We consider our personal experience and realize most of the office nowadays is watched through streaming services, which are independent of air date. We do however acknowledge that the rating could be dependent on air_time and season numbers, although marginally\n",
    "\n",
    "#### Features we will engineer:\n",
    "* We want to see how many times do the main characters talk during the episode and see if it effects the rating.\n",
    "* We want to OneHotEncode the writers and directors\n",
    "* OneHotEncode\n",
    "\n",
    "#### Will we adjust the IMDB rating according to the number of votes and season number to evenly weight the ratings for our model?\n",
    "As a group, we have decided to _______\n",
    "\n",
    "#### Finally, we will standardise all of our final numerical features\n",
    "This includes standardising the following: "
   ]
  },
  {
   "cell_type": "markdown",
   "metadata": {},
   "source": [
    "#### 2.2.1 How many times do characters speak?"
   ]
  },
  {
   "cell_type": "markdown",
   "metadata": {},
   "source": [
    "We can get this data from our external source: data_from_schrutepy"
   ]
  },
  {
   "cell_type": "code",
   "execution_count": 16,
   "metadata": {},
   "outputs": [
    {
     "data": {
      "text/html": [
       "<div>\n",
       "<style scoped>\n",
       "    .dataframe tbody tr th:only-of-type {\n",
       "        vertical-align: middle;\n",
       "    }\n",
       "\n",
       "    .dataframe tbody tr th {\n",
       "        vertical-align: top;\n",
       "    }\n",
       "\n",
       "    .dataframe thead tr th {\n",
       "        text-align: left;\n",
       "    }\n",
       "\n",
       "    .dataframe thead tr:last-of-type th {\n",
       "        text-align: right;\n",
       "    }\n",
       "</style>\n",
       "<table border=\"1\" class=\"dataframe\">\n",
       "  <thead>\n",
       "    <tr>\n",
       "      <th></th>\n",
       "      <th></th>\n",
       "      <th colspan=\"21\" halign=\"left\">text</th>\n",
       "    </tr>\n",
       "    <tr>\n",
       "      <th></th>\n",
       "      <th>character</th>\n",
       "      <th>\"Angela\"</th>\n",
       "      <th>\"Jim\"</th>\n",
       "      <th>\"Jo\"</th>\n",
       "      <th>\"Phyllis\"</th>\n",
       "      <th>(Pam's mom) Heleen</th>\n",
       "      <th>3rd Athlead Employee</th>\n",
       "      <th>4th Athlead Employee</th>\n",
       "      <th>A.J.</th>\n",
       "      <th>AJ</th>\n",
       "      <th>Aaron Rodgers</th>\n",
       "      <th>...</th>\n",
       "      <th>Worker</th>\n",
       "      <th>Wrangler</th>\n",
       "      <th>Young Man</th>\n",
       "      <th>Young Michael</th>\n",
       "      <th>Younger Guy</th>\n",
       "      <th>Zeke</th>\n",
       "      <th>Zion</th>\n",
       "      <th>abe</th>\n",
       "      <th>sAndy</th>\n",
       "      <th>song</th>\n",
       "    </tr>\n",
       "    <tr>\n",
       "      <th>season</th>\n",
       "      <th>episode</th>\n",
       "      <th></th>\n",
       "      <th></th>\n",
       "      <th></th>\n",
       "      <th></th>\n",
       "      <th></th>\n",
       "      <th></th>\n",
       "      <th></th>\n",
       "      <th></th>\n",
       "      <th></th>\n",
       "      <th></th>\n",
       "      <th></th>\n",
       "      <th></th>\n",
       "      <th></th>\n",
       "      <th></th>\n",
       "      <th></th>\n",
       "      <th></th>\n",
       "      <th></th>\n",
       "      <th></th>\n",
       "      <th></th>\n",
       "      <th></th>\n",
       "      <th></th>\n",
       "    </tr>\n",
       "  </thead>\n",
       "  <tbody>\n",
       "    <tr>\n",
       "      <th>1</th>\n",
       "      <th>1</th>\n",
       "      <td>NaN</td>\n",
       "      <td>NaN</td>\n",
       "      <td>NaN</td>\n",
       "      <td>NaN</td>\n",
       "      <td>NaN</td>\n",
       "      <td>NaN</td>\n",
       "      <td>NaN</td>\n",
       "      <td>NaN</td>\n",
       "      <td>NaN</td>\n",
       "      <td>NaN</td>\n",
       "      <td>...</td>\n",
       "      <td>NaN</td>\n",
       "      <td>NaN</td>\n",
       "      <td>NaN</td>\n",
       "      <td>NaN</td>\n",
       "      <td>NaN</td>\n",
       "      <td>NaN</td>\n",
       "      <td>NaN</td>\n",
       "      <td>NaN</td>\n",
       "      <td>NaN</td>\n",
       "      <td>NaN</td>\n",
       "    </tr>\n",
       "  </tbody>\n",
       "</table>\n",
       "<p>1 rows × 773 columns</p>\n",
       "</div>"
      ],
      "text/plain": [
       "                   text                                          \\\n",
       "character      \"Angela\" \"Jim\" \"Jo\" \"Phyllis\" (Pam's mom) Heleen   \n",
       "season episode                                                    \n",
       "1      1            NaN   NaN  NaN       NaN                NaN   \n",
       "\n",
       "                                                                   \\\n",
       "character      3rd Athlead Employee 4th Athlead Employee A.J.  AJ   \n",
       "season episode                                                      \n",
       "1      1                        NaN                  NaN  NaN NaN   \n",
       "\n",
       "                              ...                                          \\\n",
       "character      Aaron Rodgers  ... Worker Wrangler Young Man Young Michael   \n",
       "season episode                ...                                           \n",
       "1      1                 NaN  ...    NaN      NaN       NaN           NaN   \n",
       "\n",
       "                                                     \n",
       "character      Younger Guy Zeke Zion abe sAndy song  \n",
       "season episode                                       \n",
       "1      1               NaN  NaN  NaN NaN   NaN  NaN  \n",
       "\n",
       "[1 rows x 773 columns]"
      ]
     },
     "execution_count": 16,
     "metadata": {},
     "output_type": "execute_result"
    }
   ],
   "source": [
    "# make a data which is how many times does {Character} speak in each episode?\n",
    "speak_count = pd.DataFrame(data_from_schrutepy.groupby(by=['season','episode','character']).count()['text']).unstack()\n",
    "speak_count.head(1)"
   ]
  },
  {
   "cell_type": "markdown",
   "metadata": {},
   "source": [
    "We can see that we now have 773 characters in the office, most of which do not speak: a lot of minor characters we do not wish to include in our model. So now lets filter the main characters only: this can be found in the the_office.csv file."
   ]
  },
  {
   "cell_type": "code",
   "execution_count": 17,
   "metadata": {},
   "outputs": [
    {
     "data": {
      "text/html": [
       "<div>\n",
       "<style scoped>\n",
       "    .dataframe tbody tr th:only-of-type {\n",
       "        vertical-align: middle;\n",
       "    }\n",
       "\n",
       "    .dataframe tbody tr th {\n",
       "        vertical-align: top;\n",
       "    }\n",
       "\n",
       "    .dataframe thead th {\n",
       "        text-align: right;\n",
       "    }\n",
       "</style>\n",
       "<table border=\"1\" class=\"dataframe\">\n",
       "  <thead>\n",
       "    <tr style=\"text-align: right;\">\n",
       "      <th></th>\n",
       "      <th>season</th>\n",
       "      <th>episode</th>\n",
       "      <th>episode_name</th>\n",
       "      <th>director</th>\n",
       "      <th>writer</th>\n",
       "      <th>imdb_rating</th>\n",
       "      <th>total_votes</th>\n",
       "      <th>air_date</th>\n",
       "      <th>n_lines</th>\n",
       "      <th>n_directions</th>\n",
       "      <th>...</th>\n",
       "      <th>Phyllis</th>\n",
       "      <th>Ryan</th>\n",
       "      <th>Stanley</th>\n",
       "      <th>Kelly</th>\n",
       "      <th>Toby</th>\n",
       "      <th>Meredith</th>\n",
       "      <th>Darryl</th>\n",
       "      <th>Creed</th>\n",
       "      <th>Andy</th>\n",
       "      <th>Erin</th>\n",
       "    </tr>\n",
       "  </thead>\n",
       "  <tbody>\n",
       "    <tr>\n",
       "      <th>0</th>\n",
       "      <td>1</td>\n",
       "      <td>1</td>\n",
       "      <td>Pilot</td>\n",
       "      <td>Ken Kwapis</td>\n",
       "      <td>Ricky Gervais;Stephen Merchant;Greg Daniels</td>\n",
       "      <td>7.6</td>\n",
       "      <td>3706</td>\n",
       "      <td>2005-03-24</td>\n",
       "      <td>229</td>\n",
       "      <td>27</td>\n",
       "      <td>...</td>\n",
       "      <td>2.0</td>\n",
       "      <td>8.0</td>\n",
       "      <td>5.0</td>\n",
       "      <td>0.0</td>\n",
       "      <td>0.0</td>\n",
       "      <td>0.0</td>\n",
       "      <td>0.0</td>\n",
       "      <td>0.0</td>\n",
       "      <td>0.0</td>\n",
       "      <td>0.0</td>\n",
       "    </tr>\n",
       "    <tr>\n",
       "      <th>1</th>\n",
       "      <td>1</td>\n",
       "      <td>2</td>\n",
       "      <td>Diversity Day</td>\n",
       "      <td>Ken Kwapis</td>\n",
       "      <td>B.J. Novak</td>\n",
       "      <td>8.3</td>\n",
       "      <td>3566</td>\n",
       "      <td>2005-03-29</td>\n",
       "      <td>203</td>\n",
       "      <td>20</td>\n",
       "      <td>...</td>\n",
       "      <td>0.0</td>\n",
       "      <td>4.0</td>\n",
       "      <td>5.0</td>\n",
       "      <td>2.0</td>\n",
       "      <td>2.0</td>\n",
       "      <td>0.0</td>\n",
       "      <td>0.0</td>\n",
       "      <td>0.0</td>\n",
       "      <td>0.0</td>\n",
       "      <td>0.0</td>\n",
       "    </tr>\n",
       "  </tbody>\n",
       "</table>\n",
       "<p>2 rows × 30 columns</p>\n",
       "</div>"
      ],
      "text/plain": [
       "   season  episode   episode_name    director  \\\n",
       "0       1        1          Pilot  Ken Kwapis   \n",
       "1       1        2  Diversity Day  Ken Kwapis   \n",
       "\n",
       "                                        writer  imdb_rating  total_votes  \\\n",
       "0  Ricky Gervais;Stephen Merchant;Greg Daniels          7.6         3706   \n",
       "1                                   B.J. Novak          8.3         3566   \n",
       "\n",
       "     air_date  n_lines  n_directions  ...  Phyllis  Ryan Stanley  Kelly  Toby  \\\n",
       "0  2005-03-24      229            27  ...      2.0   8.0     5.0    0.0   0.0   \n",
       "1  2005-03-29      203            20  ...      0.0   4.0     5.0    2.0   2.0   \n",
       "\n",
       "   Meredith  Darryl  Creed  Andy  Erin  \n",
       "0       0.0     0.0    0.0   0.0   0.0  \n",
       "1       0.0     0.0    0.0   0.0   0.0  \n",
       "\n",
       "[2 rows x 30 columns]"
      ]
     },
     "execution_count": 17,
     "metadata": {},
     "output_type": "execute_result"
    }
   ],
   "source": [
    "#correlate this to the main characters in this episode (from the_office.csv) and delete all minor characters\n",
    "a = data.main_chars.str.split(';')\n",
    "#this gets all the unique main characters from the_office.csv and save it as main_characters\n",
    "main_characters = list(itertools.chain.from_iterable(a))\n",
    "main_characters = pd.DataFrame(main_characters).drop_duplicates().reset_index()[0]\n",
    "\n",
    "# adjust the dataFrame index\n",
    "speak_count = speak_count.reset_index(names = ['episode','season', 'character'], col_level=1)\n",
    "# get just the main character\n",
    "speak_count_main_characters = speak_count['text'][main_characters].fillna(0)\n",
    "speak_count_main_characters.head()\n",
    "#then add the main characters to the model input data!\n",
    "data[speak_count_main_characters.columns] = speak_count_main_characters\n",
    "data.head(2)"
   ]
  },
  {
   "cell_type": "markdown",
   "metadata": {},
   "source": [
    "As we can see, this worked out really well! We now have extra columns which shows how often the main characters speak in the show per episode!\n",
    "\n",
    "Below we can show a visual representation of how many times each main character speaks!"
   ]
  },
  {
   "cell_type": "code",
   "execution_count": 18,
   "metadata": {},
   "outputs": [
    {
     "data": {
      "image/png": "[encoded data removed]",
      "text/plain": [
       "<Figure size 1120x640 with 1 Axes>"
      ]
     },
     "metadata": {},
     "output_type": "display_data"
    }
   ],
   "source": [
    "sns.boxplot(data[main_characters])\n",
    "plt.xticks(rotation=45) # rotate x-labels 45 degrees\n",
    "plt.show()"
   ]
  },
  {
   "cell_type": "markdown",
   "metadata": {},
   "source": [
    "We can see there are a lot of outliers. This shows some episodes focus on specific characters\n",
    "\n",
    "    ***REMOVE EPISODES WITH A FOCUS ON ONE CHARACTER*** AS further expansion on project"
   ]
  },
  {
   "cell_type": "markdown",
   "metadata": {},
   "source": [
    "#### 2.2.2 One Hot Encode the writers and directors:\n",
    "\n",
    "It is now time to one hot encode the important writers and directors we found in the EDA section."
   ]
  },
  {
   "cell_type": "code",
   "execution_count": 19,
   "metadata": {},
   "outputs": [
    {
     "data": {
      "text/html": [
       "<div>\n",
       "<style scoped>\n",
       "    .dataframe tbody tr th:only-of-type {\n",
       "        vertical-align: middle;\n",
       "    }\n",
       "\n",
       "    .dataframe tbody tr th {\n",
       "        vertical-align: top;\n",
       "    }\n",
       "\n",
       "    .dataframe thead th {\n",
       "        text-align: right;\n",
       "    }\n",
       "</style>\n",
       "<table border=\"1\" class=\"dataframe\">\n",
       "  <thead>\n",
       "    <tr style=\"text-align: right;\">\n",
       "      <th></th>\n",
       "      <th>season</th>\n",
       "      <th>episode</th>\n",
       "      <th>episode_name</th>\n",
       "      <th>writer</th>\n",
       "      <th>imdb_rating</th>\n",
       "      <th>total_votes</th>\n",
       "      <th>air_date</th>\n",
       "      <th>n_lines</th>\n",
       "      <th>n_directions</th>\n",
       "      <th>n_words</th>\n",
       "      <th>...</th>\n",
       "      <th>Darryl</th>\n",
       "      <th>Creed</th>\n",
       "      <th>Andy</th>\n",
       "      <th>Erin</th>\n",
       "      <th>Greg Daniels</th>\n",
       "      <th>Jeffrey Blitz</th>\n",
       "      <th>Ken Kwapis</th>\n",
       "      <th>Ken Whittingham</th>\n",
       "      <th>Other_director</th>\n",
       "      <th>Paul Feig</th>\n",
       "    </tr>\n",
       "  </thead>\n",
       "  <tbody>\n",
       "    <tr>\n",
       "      <th>0</th>\n",
       "      <td>1</td>\n",
       "      <td>1</td>\n",
       "      <td>Pilot</td>\n",
       "      <td>Ricky Gervais;Stephen Merchant;Greg Daniels</td>\n",
       "      <td>7.6</td>\n",
       "      <td>3706</td>\n",
       "      <td>2005-03-24</td>\n",
       "      <td>229</td>\n",
       "      <td>27</td>\n",
       "      <td>2757</td>\n",
       "      <td>...</td>\n",
       "      <td>0.0</td>\n",
       "      <td>0.0</td>\n",
       "      <td>0.0</td>\n",
       "      <td>0.0</td>\n",
       "      <td>0</td>\n",
       "      <td>0</td>\n",
       "      <td>1</td>\n",
       "      <td>0</td>\n",
       "      <td>0</td>\n",
       "      <td>0</td>\n",
       "    </tr>\n",
       "  </tbody>\n",
       "</table>\n",
       "<p>1 rows × 35 columns</p>\n",
       "</div>"
      ],
      "text/plain": [
       "   season  episode episode_name                                       writer  \\\n",
       "0       1        1        Pilot  Ricky Gervais;Stephen Merchant;Greg Daniels   \n",
       "\n",
       "   imdb_rating  total_votes    air_date  n_lines  n_directions  n_words  ...  \\\n",
       "0          7.6         3706  2005-03-24      229            27     2757  ...   \n",
       "\n",
       "   Darryl Creed  Andy  Erin  Greg Daniels  Jeffrey Blitz  Ken Kwapis  \\\n",
       "0     0.0   0.0   0.0   0.0             0              0           1   \n",
       "\n",
       "   Ken Whittingham  Other_director  Paul Feig  \n",
       "0                0               0          0  \n",
       "\n",
       "[1 rows x 35 columns]"
      ]
     },
     "execution_count": 19,
     "metadata": {},
     "output_type": "execute_result"
    }
   ],
   "source": [
    "# First we define the directors and writers we are looking \n",
    "directors = ['Paul Feig','Ken Kwapis','Greg Daniels','Ken Whittingham','Jeffrey Blitz']\n",
    "writers = ['Greg Daniels','Gene Stupnitsky;Lee Eisenberg','Michael Schur','Paul Lieberstein','B.J. Novak']\n",
    "\n",
    "# perform encoding on the director column\n",
    "encoded = pd.get_dummies(data['director'].apply(lambda x: x if x in directors else 'Other_director'))\n",
    "\n",
    "# merge the encoded dataframe with the original dataframe\n",
    "data = pd.concat([data, encoded], axis=1)\n",
    "\n",
    "# drop the original director column\n",
    "data.drop('director', axis=1, inplace=True)\n",
    "\n",
    "data.head(1)"
   ]
  },
  {
   "cell_type": "code",
   "execution_count": 20,
   "metadata": {},
   "outputs": [
    {
     "data": {
      "text/html": [
       "<div>\n",
       "<style scoped>\n",
       "    .dataframe tbody tr th:only-of-type {\n",
       "        vertical-align: middle;\n",
       "    }\n",
       "\n",
       "    .dataframe tbody tr th {\n",
       "        vertical-align: top;\n",
       "    }\n",
       "\n",
       "    .dataframe thead th {\n",
       "        text-align: right;\n",
       "    }\n",
       "</style>\n",
       "<table border=\"1\" class=\"dataframe\">\n",
       "  <thead>\n",
       "    <tr style=\"text-align: right;\">\n",
       "      <th></th>\n",
       "      <th>season</th>\n",
       "      <th>episode</th>\n",
       "      <th>episode_name</th>\n",
       "      <th>imdb_rating</th>\n",
       "      <th>total_votes</th>\n",
       "      <th>air_date</th>\n",
       "      <th>n_lines</th>\n",
       "      <th>n_directions</th>\n",
       "      <th>n_words</th>\n",
       "      <th>n_speak_char</th>\n",
       "      <th>...</th>\n",
       "      <th>Ken Kwapis</th>\n",
       "      <th>Ken Whittingham</th>\n",
       "      <th>Other_director</th>\n",
       "      <th>Paul Feig</th>\n",
       "      <th>B.J. Novak</th>\n",
       "      <th>Gene Stupnitsky;Lee Eisenberg</th>\n",
       "      <th>Greg Daniels</th>\n",
       "      <th>Michael Schur</th>\n",
       "      <th>Other_writer</th>\n",
       "      <th>Paul Lieberstein</th>\n",
       "    </tr>\n",
       "  </thead>\n",
       "  <tbody>\n",
       "    <tr>\n",
       "      <th>0</th>\n",
       "      <td>1</td>\n",
       "      <td>1</td>\n",
       "      <td>Pilot</td>\n",
       "      <td>7.6</td>\n",
       "      <td>3706</td>\n",
       "      <td>2005-03-24</td>\n",
       "      <td>229</td>\n",
       "      <td>27</td>\n",
       "      <td>2757</td>\n",
       "      <td>15</td>\n",
       "      <td>...</td>\n",
       "      <td>1</td>\n",
       "      <td>0</td>\n",
       "      <td>0</td>\n",
       "      <td>0</td>\n",
       "      <td>0</td>\n",
       "      <td>0</td>\n",
       "      <td>0</td>\n",
       "      <td>0</td>\n",
       "      <td>1</td>\n",
       "      <td>0</td>\n",
       "    </tr>\n",
       "  </tbody>\n",
       "</table>\n",
       "<p>1 rows × 40 columns</p>\n",
       "</div>"
      ],
      "text/plain": [
       "   season  episode episode_name  imdb_rating  total_votes    air_date  \\\n",
       "0       1        1        Pilot          7.6         3706  2005-03-24   \n",
       "\n",
       "   n_lines  n_directions  n_words  n_speak_char  ... Ken Kwapis  \\\n",
       "0      229            27     2757            15  ...          1   \n",
       "\n",
       "   Ken Whittingham  Other_director  Paul Feig  B.J. Novak  \\\n",
       "0                0               0          0           0   \n",
       "\n",
       "   Gene Stupnitsky;Lee Eisenberg  Greg Daniels  Michael Schur  Other_writer  \\\n",
       "0                              0             0              0             1   \n",
       "\n",
       "   Paul Lieberstein  \n",
       "0                 0  \n",
       "\n",
       "[1 rows x 40 columns]"
      ]
     },
     "execution_count": 20,
     "metadata": {},
     "output_type": "execute_result"
    }
   ],
   "source": [
    "#now lets do the same but with the writers!\n",
    "# perform encoding on the director column\n",
    "encoded = pd.get_dummies(data['writer'].apply(lambda x: x if x in writers else 'Other_writer'))\n",
    "\n",
    "# merge the encoded dataframe with the original dataframe\n",
    "data = pd.concat([data, encoded], axis=1)\n",
    "\n",
    "# drop the original director column\n",
    "data.drop('writer', axis=1, inplace=True)\n",
    "\n",
    "data.head(1)"
   ]
  },
  {
   "cell_type": "markdown",
   "metadata": {},
   "source": [
    "#### 2.2.3 Dropping our Unessecary Columns\n",
    "\n",
    "Its now time to get rid of season, episode,episode_name,total_votes\tand air_date so we can start to deal with the numbers of words and votes"
   ]
  },
  {
   "cell_type": "code",
   "execution_count": 21,
   "metadata": {},
   "outputs": [],
   "source": [
    "data = data.drop(columns=['season', 'episode', \n",
    "                          'episode_name','total_votes',\n",
    "                         'air_date', 'main_chars'])"
   ]
  },
  {
   "cell_type": "markdown",
   "metadata": {},
   "source": [
    "#### 2.2.4 What to do with n_lines and n_words\n",
    "\n",
    "We know from our correlation matrix that these two are highly linearly correlated. That is why we will drop the n_words column (we could also have dropped n_lines instead). \n",
    "\n",
    "We will also know create a copy of our dataFrame to start working on the model with"
   ]
  },
  {
   "cell_type": "code",
   "execution_count": 22,
   "metadata": {},
   "outputs": [],
   "source": [
    "data = data.drop(columns=['n_words'])"
   ]
  },
  {
   "cell_type": "code",
   "execution_count": 23,
   "metadata": {},
   "outputs": [
    {
     "data": {
      "text/html": [
       "<div>\n",
       "<style scoped>\n",
       "    .dataframe tbody tr th:only-of-type {\n",
       "        vertical-align: middle;\n",
       "    }\n",
       "\n",
       "    .dataframe tbody tr th {\n",
       "        vertical-align: top;\n",
       "    }\n",
       "\n",
       "    .dataframe thead th {\n",
       "        text-align: right;\n",
       "    }\n",
       "</style>\n",
       "<table border=\"1\" class=\"dataframe\">\n",
       "  <thead>\n",
       "    <tr style=\"text-align: right;\">\n",
       "      <th></th>\n",
       "      <th>imdb_rating</th>\n",
       "      <th>n_directions</th>\n",
       "      <th>n_speak_char</th>\n",
       "      <th>Angela</th>\n",
       "      <th>Dwight</th>\n",
       "      <th>Jim</th>\n",
       "      <th>Kevin</th>\n",
       "      <th>Michael</th>\n",
       "      <th>Oscar</th>\n",
       "      <th>Pam</th>\n",
       "      <th>...</th>\n",
       "      <th>Ken Kwapis</th>\n",
       "      <th>Ken Whittingham</th>\n",
       "      <th>Other_director</th>\n",
       "      <th>Paul Feig</th>\n",
       "      <th>B.J. Novak</th>\n",
       "      <th>Gene Stupnitsky;Lee Eisenberg</th>\n",
       "      <th>Greg Daniels</th>\n",
       "      <th>Michael Schur</th>\n",
       "      <th>Other_writer</th>\n",
       "      <th>Paul Lieberstein</th>\n",
       "    </tr>\n",
       "  </thead>\n",
       "  <tbody>\n",
       "    <tr>\n",
       "      <th>0</th>\n",
       "      <td>7.6</td>\n",
       "      <td>27</td>\n",
       "      <td>15</td>\n",
       "      <td>0.004367</td>\n",
       "      <td>0.126638</td>\n",
       "      <td>0.157205</td>\n",
       "      <td>0.004367</td>\n",
       "      <td>0.353712</td>\n",
       "      <td>0.013100</td>\n",
       "      <td>0.174672</td>\n",
       "      <td>...</td>\n",
       "      <td>1</td>\n",
       "      <td>0</td>\n",
       "      <td>0</td>\n",
       "      <td>0</td>\n",
       "      <td>0</td>\n",
       "      <td>0</td>\n",
       "      <td>0</td>\n",
       "      <td>0</td>\n",
       "      <td>1</td>\n",
       "      <td>0</td>\n",
       "    </tr>\n",
       "    <tr>\n",
       "      <th>1</th>\n",
       "      <td>8.3</td>\n",
       "      <td>20</td>\n",
       "      <td>12</td>\n",
       "      <td>0.019704</td>\n",
       "      <td>0.083744</td>\n",
       "      <td>0.118227</td>\n",
       "      <td>0.039409</td>\n",
       "      <td>0.369458</td>\n",
       "      <td>0.064039</td>\n",
       "      <td>0.059113</td>\n",
       "      <td>...</td>\n",
       "      <td>1</td>\n",
       "      <td>0</td>\n",
       "      <td>0</td>\n",
       "      <td>0</td>\n",
       "      <td>1</td>\n",
       "      <td>0</td>\n",
       "      <td>0</td>\n",
       "      <td>0</td>\n",
       "      <td>0</td>\n",
       "      <td>0</td>\n",
       "    </tr>\n",
       "    <tr>\n",
       "      <th>2</th>\n",
       "      <td>7.9</td>\n",
       "      <td>21</td>\n",
       "      <td>13</td>\n",
       "      <td>0.020492</td>\n",
       "      <td>0.254098</td>\n",
       "      <td>0.172131</td>\n",
       "      <td>0.024590</td>\n",
       "      <td>0.229508</td>\n",
       "      <td>0.036885</td>\n",
       "      <td>0.131148</td>\n",
       "      <td>...</td>\n",
       "      <td>0</td>\n",
       "      <td>1</td>\n",
       "      <td>0</td>\n",
       "      <td>0</td>\n",
       "      <td>0</td>\n",
       "      <td>0</td>\n",
       "      <td>0</td>\n",
       "      <td>0</td>\n",
       "      <td>0</td>\n",
       "      <td>1</td>\n",
       "    </tr>\n",
       "    <tr>\n",
       "      <th>3</th>\n",
       "      <td>8.1</td>\n",
       "      <td>24</td>\n",
       "      <td>14</td>\n",
       "      <td>0.028807</td>\n",
       "      <td>0.193416</td>\n",
       "      <td>0.201646</td>\n",
       "      <td>0.012346</td>\n",
       "      <td>0.279835</td>\n",
       "      <td>0.057613</td>\n",
       "      <td>0.090535</td>\n",
       "      <td>...</td>\n",
       "      <td>0</td>\n",
       "      <td>0</td>\n",
       "      <td>1</td>\n",
       "      <td>0</td>\n",
       "      <td>0</td>\n",
       "      <td>0</td>\n",
       "      <td>0</td>\n",
       "      <td>1</td>\n",
       "      <td>0</td>\n",
       "      <td>0</td>\n",
       "    </tr>\n",
       "    <tr>\n",
       "      <th>4</th>\n",
       "      <td>8.4</td>\n",
       "      <td>49</td>\n",
       "      <td>18</td>\n",
       "      <td>0.013043</td>\n",
       "      <td>0.108696</td>\n",
       "      <td>0.091304</td>\n",
       "      <td>0.004348</td>\n",
       "      <td>0.452174</td>\n",
       "      <td>0.008696</td>\n",
       "      <td>0.060870</td>\n",
       "      <td>...</td>\n",
       "      <td>0</td>\n",
       "      <td>0</td>\n",
       "      <td>0</td>\n",
       "      <td>0</td>\n",
       "      <td>0</td>\n",
       "      <td>0</td>\n",
       "      <td>1</td>\n",
       "      <td>0</td>\n",
       "      <td>0</td>\n",
       "      <td>0</td>\n",
       "    </tr>\n",
       "    <tr>\n",
       "      <th>...</th>\n",
       "      <td>...</td>\n",
       "      <td>...</td>\n",
       "      <td>...</td>\n",
       "      <td>...</td>\n",
       "      <td>...</td>\n",
       "      <td>...</td>\n",
       "      <td>...</td>\n",
       "      <td>...</td>\n",
       "      <td>...</td>\n",
       "      <td>...</td>\n",
       "      <td>...</td>\n",
       "      <td>...</td>\n",
       "      <td>...</td>\n",
       "      <td>...</td>\n",
       "      <td>...</td>\n",
       "      <td>...</td>\n",
       "      <td>...</td>\n",
       "      <td>...</td>\n",
       "      <td>...</td>\n",
       "      <td>...</td>\n",
       "      <td>...</td>\n",
       "    </tr>\n",
       "    <tr>\n",
       "      <th>181</th>\n",
       "      <td>8.0</td>\n",
       "      <td>59</td>\n",
       "      <td>24</td>\n",
       "      <td>0.007326</td>\n",
       "      <td>0.212454</td>\n",
       "      <td>0.054945</td>\n",
       "      <td>0.018315</td>\n",
       "      <td>0.000000</td>\n",
       "      <td>0.025641</td>\n",
       "      <td>0.032967</td>\n",
       "      <td>...</td>\n",
       "      <td>0</td>\n",
       "      <td>0</td>\n",
       "      <td>1</td>\n",
       "      <td>0</td>\n",
       "      <td>0</td>\n",
       "      <td>0</td>\n",
       "      <td>0</td>\n",
       "      <td>0</td>\n",
       "      <td>1</td>\n",
       "      <td>0</td>\n",
       "    </tr>\n",
       "    <tr>\n",
       "      <th>182</th>\n",
       "      <td>8.0</td>\n",
       "      <td>48</td>\n",
       "      <td>27</td>\n",
       "      <td>0.068376</td>\n",
       "      <td>0.089744</td>\n",
       "      <td>0.072650</td>\n",
       "      <td>0.042735</td>\n",
       "      <td>0.000000</td>\n",
       "      <td>0.008547</td>\n",
       "      <td>0.094017</td>\n",
       "      <td>...</td>\n",
       "      <td>0</td>\n",
       "      <td>0</td>\n",
       "      <td>1</td>\n",
       "      <td>0</td>\n",
       "      <td>0</td>\n",
       "      <td>0</td>\n",
       "      <td>0</td>\n",
       "      <td>0</td>\n",
       "      <td>1</td>\n",
       "      <td>0</td>\n",
       "    </tr>\n",
       "    <tr>\n",
       "      <th>183</th>\n",
       "      <td>8.9</td>\n",
       "      <td>33</td>\n",
       "      <td>20</td>\n",
       "      <td>0.078534</td>\n",
       "      <td>0.141361</td>\n",
       "      <td>0.164921</td>\n",
       "      <td>0.034031</td>\n",
       "      <td>0.000000</td>\n",
       "      <td>0.049738</td>\n",
       "      <td>0.078534</td>\n",
       "      <td>...</td>\n",
       "      <td>0</td>\n",
       "      <td>0</td>\n",
       "      <td>0</td>\n",
       "      <td>0</td>\n",
       "      <td>0</td>\n",
       "      <td>0</td>\n",
       "      <td>0</td>\n",
       "      <td>0</td>\n",
       "      <td>1</td>\n",
       "      <td>0</td>\n",
       "    </tr>\n",
       "    <tr>\n",
       "      <th>184</th>\n",
       "      <td>9.3</td>\n",
       "      <td>54</td>\n",
       "      <td>30</td>\n",
       "      <td>0.077844</td>\n",
       "      <td>0.173653</td>\n",
       "      <td>0.177645</td>\n",
       "      <td>0.059880</td>\n",
       "      <td>0.000000</td>\n",
       "      <td>0.055888</td>\n",
       "      <td>0.067864</td>\n",
       "      <td>...</td>\n",
       "      <td>0</td>\n",
       "      <td>0</td>\n",
       "      <td>1</td>\n",
       "      <td>0</td>\n",
       "      <td>0</td>\n",
       "      <td>0</td>\n",
       "      <td>0</td>\n",
       "      <td>0</td>\n",
       "      <td>1</td>\n",
       "      <td>0</td>\n",
       "    </tr>\n",
       "    <tr>\n",
       "      <th>185</th>\n",
       "      <td>9.7</td>\n",
       "      <td>107</td>\n",
       "      <td>54</td>\n",
       "      <td>0.044061</td>\n",
       "      <td>0.145594</td>\n",
       "      <td>0.139847</td>\n",
       "      <td>0.059387</td>\n",
       "      <td>0.003831</td>\n",
       "      <td>0.034483</td>\n",
       "      <td>0.086207</td>\n",
       "      <td>...</td>\n",
       "      <td>1</td>\n",
       "      <td>0</td>\n",
       "      <td>0</td>\n",
       "      <td>0</td>\n",
       "      <td>0</td>\n",
       "      <td>0</td>\n",
       "      <td>1</td>\n",
       "      <td>0</td>\n",
       "      <td>0</td>\n",
       "      <td>0</td>\n",
       "    </tr>\n",
       "  </tbody>\n",
       "</table>\n",
       "<p>186 rows × 32 columns</p>\n",
       "</div>"
      ],
      "text/plain": [
       "     imdb_rating  n_directions  n_speak_char    Angela    Dwight       Jim  \\\n",
       "0            7.6            27            15  0.004367  0.126638  0.157205   \n",
       "1            8.3            20            12  0.019704  0.083744  0.118227   \n",
       "2            7.9            21            13  0.020492  0.254098  0.172131   \n",
       "3            8.1            24            14  0.028807  0.193416  0.201646   \n",
       "4            8.4            49            18  0.013043  0.108696  0.091304   \n",
       "..           ...           ...           ...       ...       ...       ...   \n",
       "181          8.0            59            24  0.007326  0.212454  0.054945   \n",
       "182          8.0            48            27  0.068376  0.089744  0.072650   \n",
       "183          8.9            33            20  0.078534  0.141361  0.164921   \n",
       "184          9.3            54            30  0.077844  0.173653  0.177645   \n",
       "185          9.7           107            54  0.044061  0.145594  0.139847   \n",
       "\n",
       "        Kevin   Michael     Oscar       Pam  ...  Ken Kwapis  Ken Whittingham  \\\n",
       "0    0.004367  0.353712  0.013100  0.174672  ...           1                0   \n",
       "1    0.039409  0.369458  0.064039  0.059113  ...           1                0   \n",
       "2    0.024590  0.229508  0.036885  0.131148  ...           0                1   \n",
       "3    0.012346  0.279835  0.057613  0.090535  ...           0                0   \n",
       "4    0.004348  0.452174  0.008696  0.060870  ...           0                0   \n",
       "..        ...       ...       ...       ...  ...         ...              ...   \n",
       "181  0.018315  0.000000  0.025641  0.032967  ...           0                0   \n",
       "182  0.042735  0.000000  0.008547  0.094017  ...           0                0   \n",
       "183  0.034031  0.000000  0.049738  0.078534  ...           0                0   \n",
       "184  0.059880  0.000000  0.055888  0.067864  ...           0                0   \n",
       "185  0.059387  0.003831  0.034483  0.086207  ...           1                0   \n",
       "\n",
       "     Other_director  Paul Feig  B.J. Novak  Gene Stupnitsky;Lee Eisenberg  \\\n",
       "0                 0          0           0                              0   \n",
       "1                 0          0           1                              0   \n",
       "2                 0          0           0                              0   \n",
       "3                 1          0           0                              0   \n",
       "4                 0          0           0                              0   \n",
       "..              ...        ...         ...                            ...   \n",
       "181               1          0           0                              0   \n",
       "182               1          0           0                              0   \n",
       "183               0          0           0                              0   \n",
       "184               1          0           0                              0   \n",
       "185               0          0           0                              0   \n",
       "\n",
       "     Greg Daniels  Michael Schur  Other_writer  Paul Lieberstein  \n",
       "0               0              0             1                 0  \n",
       "1               0              0             0                 0  \n",
       "2               0              0             0                 1  \n",
       "3               0              1             0                 0  \n",
       "4               1              0             0                 0  \n",
       "..            ...            ...           ...               ...  \n",
       "181             0              0             1                 0  \n",
       "182             0              0             1                 0  \n",
       "183             0              0             1                 0  \n",
       "184             0              0             1                 0  \n",
       "185             1              0             0                 0  \n",
       "\n",
       "[186 rows x 32 columns]"
      ]
     },
     "execution_count": 23,
     "metadata": {},
     "output_type": "execute_result"
    }
   ],
   "source": [
    "data.iloc[:,4:21] = data.iloc[:,4:21].div(data.iloc[:,1], axis=0)\n",
    "data.drop(\"n_lines\", axis = 1)"
   ]
  },
  {
   "cell_type": "markdown",
   "metadata": {},
   "source": [
    "#### 2.2.5 Sentiment Score\n",
    "\n",
    "We now will run the sentiment analysis on the script per episode. This uses the Vader dictionary to determine how happy/neutral/sad a given script is!"
   ]
  },
  {
   "cell_type": "code",
   "execution_count": 24,
   "metadata": {},
   "outputs": [],
   "source": [
    "# instantiate the sentiment analyzer\n",
    "analyzer = SentimentIntensityAnalyzer()\n",
    "\n",
    "# define some text to analyze (fill the silences (nan) with  ' ')\n",
    "text = data_from_schrutepy.fillna(' ').groupby(['season', 'episode'])['text'].apply(' '.join)\n",
    "\n",
    "# analyze the sentiment of the text\n",
    "scores = [analyzer.polarity_scores(i) for i in text]"
   ]
  },
  {
   "cell_type": "code",
   "execution_count": 25,
   "metadata": {},
   "outputs": [],
   "source": [
    "# get the neutral, positive and negative sentiment scores\n",
    "data['pos_score'] = [scores[i]['pos'] for i in range(len(scores))]\n",
    "data['neg_score'] = [scores[i]['neg'] for i in range(len(scores))]"
   ]
  },
  {
   "cell_type": "markdown",
   "metadata": {},
   "source": [
    "### 2.3 Feature Transformation\n",
    "\n",
    "The final step is to transform our data (using yeo-johnson) to improve our data normality and symmetry! "
   ]
  },
  {
   "cell_type": "code",
   "execution_count": 26,
   "metadata": {},
   "outputs": [],
   "source": [
    "yeo = PowerTransformer()\n",
    "data_scaled = yeo.fit_transform(data)\n",
    "data_scaled = pd.DataFrame(data_scaled, columns=data.columns)"
   ]
  },
  {
   "cell_type": "code",
   "execution_count": 27,
   "metadata": {},
   "outputs": [],
   "source": [
    "# df will be the dataframe we are working with now\n",
    "df = data.copy()\n",
    "df_scaled = data_scaled.copy()\n",
    "\n",
    "df.to_csv('final_office.csv')\n",
    "df_scaled.to_csv('final_office_scaled.csv')"
   ]
  },
  {
   "cell_type": "markdown",
   "metadata": {
    "id": "Ad7J-Yw67Fo3"
   },
   "source": [
    "## 3. Model Fitting and Tuning"
   ]
  },
  {
   "cell_type": "markdown",
   "metadata": {
    "id": "EXdvOaZs7Fo3"
   },
   "source": [
    "*In this section you should detail your choice of model and describe the process used to refine and fit that model.*\n",
    "\n",
    "- You are strongly encouraged to explore many different modeling methods (e.g. linear regression, regression trees, lasso, etc.) but you should not include a detailed narrative of all of these attempts. \n",
    "- At most this section should mention the methods explored and why they were rejected - most of your effort should go into describing the model you are using and your process for tuning and validatin it.\n",
    "\n",
    "*For example if you considered a linear regression model, a classification tree, and a lasso model and ultimately settled on the linear regression approach then you should mention that other two approaches were tried but do not include any of the code or any in depth discussion of these models beyond why they were rejected. This section should then detail is the development of the linear regression model in terms of features used, interactions considered, and any additional tuning and validation which ultimately led to your final model.* \n",
    "\n",
    "**This section should also include the full implementation of your final model, including all necessary validation. As with figures, any included code must also be addressed in the text of the document.**"
   ]
  },
  {
   "cell_type": "code",
   "execution_count": 28,
   "metadata": {},
   "outputs": [],
   "source": [
    "#In GIT there is the final csv file called \n",
    "filneame = './final_office.csv'\n",
    "# in case you guys do not want to run the entire sections above\n",
    "\n",
    "# to inverse the scaling we used: after prediction do: \n",
    "# yeo.inverse_transform(prediction_data)\n",
    "# and be careful! of the column names!"
   ]
  },
  {
   "cell_type": "code",
   "execution_count": 1,
   "metadata": {},
   "outputs": [],
   "source": [
    "import numpy as np\n",
    "import pandas as pd\n",
    "from sklearn.model_selection import train_test_split\n",
    "from sklearn.linear_model import LinearRegression\n",
    "from sklearn.preprocessing import PowerTransformer\n",
    "from sklearn.model_selection import cross_validate\n",
    "#!pip install  imbalanced-learn\n",
    "from imblearn.pipeline import Pipeline\n",
    "from sklearn.preprocessing import StandardScaler\n",
    "from sklearn.preprocessing import PowerTransformer\n",
    "from sklearn.neighbors import KNeighborsRegressor\n",
    "from sklearn.compose import ColumnTransformer\n",
    "from sklearn import linear_model\n",
    "from sklearn.model_selection import GridSearchCV, KFold\n",
    "from sklearn.pipeline import make_pipeline\n",
    "import sklearn\n",
    "from sklearn.metrics import mean_squared_error, r2_score"
   ]
  },
  {
   "cell_type": "code",
   "execution_count": 11,
   "metadata": {},
   "outputs": [],
   "source": [
    "kf = KFold(n_splits = 5, shuffle = True, random_state=42)"
   ]
  },
  {
   "cell_type": "code",
   "execution_count": 2,
   "metadata": {},
   "outputs": [],
   "source": [
    "def tidy_scores(score_dict):\n",
    "    df = pd.DataFrame(score_dict)\n",
    "    df.loc['mean'] = df.mean()\n",
    "    df.loc['sd'] = df.std()\n",
    "    df.rename({\"test_score\":\"val_score\"}, axis=1, inplace=True)\n",
    "    df.index.name = \"fold\"\n",
    "    return df.round(2)"
   ]
  },
  {
   "cell_type": "code",
   "execution_count": 3,
   "metadata": {},
   "outputs": [],
   "source": [
    "def model_fit(m, X, y, plot = False):\n",
    "    \"\"\"Returns the mean squared error, root mean squared error and R^2 value of a fitted model based \n",
    "    on provided X and y values.\n",
    "    \n",
    "    Args:\n",
    "        m: sklearn model object\n",
    "        X: model matrix to use for prediction\n",
    "        y: outcome vector to use to calculating rmse and residuals\n",
    "        plot: boolean value, should fit plots be shown \n",
    "    \"\"\"\n",
    "    \n",
    "    y_hat = m.predict(X)\n",
    "    MSE = mean_squared_error(y, y_hat)\n",
    "    RMSE = np.sqrt(mean_squared_error(y, y_hat))\n",
    "    Rsqr = r2_score(y, y_hat)\n",
    "    \n",
    "    Metrics = (round(MSE, 4), round(RMSE, 4), round(Rsqr, 4))\n",
    "    \n",
    "    res = pd.DataFrame(\n",
    "        data = {'y': y, 'y_hat': y_hat, 'resid': y - y_hat}\n",
    "    )\n",
    "    \n",
    "    if plot:\n",
    "        plt.figure(figsize=(12, 6))\n",
    "        \n",
    "        plt.subplot(121)\n",
    "        sns.lineplot(x='y', y='y_hat', color=\"grey\", data =  pd.DataFrame(data={'y': [min(y),max(y)], 'y_hat': [min(y),max(y)]}))\n",
    "        sns.scatterplot(x='y', y='y_hat', data=res).set_title(\"Actual vs Fitted plot\")\n",
    "        \n",
    "        plt.subplot(122)\n",
    "        sns.scatterplot(x='y_hat', y='resid', data=res).set_title(\"Fitted vs Residual plot\")\n",
    "        plt.hlines(y=0, xmin=np.min(y), xmax=np.max(y), linestyles='dashed', alpha=0.3, colors=\"black\")\n",
    "        \n",
    "        plt.subplots_adjust(left=0.0)\n",
    "        \n",
    "        plt.suptitle(\"Model (MSE, RMSE, Rsqr) = \" + str(Metrics), fontsize=14)\n",
    "        plt.show()\n",
    "    \n",
    "    return MSE, RMSE, Rsqr"
   ]
  },
  {
   "cell_type": "code",
   "execution_count": 4,
   "metadata": {},
   "outputs": [],
   "source": [
    "def get_coefs(m):\n",
    "    \"\"\"Returns the model coefficients from a Scikit-learn model object as an array,\n",
    "    includes the intercept if available.\n",
    "    \"\"\"\n",
    "    \n",
    "    # If pipeline, use the last step as the model\n",
    "    if (isinstance(m, sklearn.pipeline.Pipeline)):\n",
    "        m = m.steps[-1][1]\n",
    "    \n",
    "    \n",
    "    if m.intercept_ is None:\n",
    "        return m.coef_\n",
    "    \n",
    "    return np.concatenate([[m.intercept_], m.coef_])"
   ]
  },
  {
   "cell_type": "code",
   "execution_count": 27,
   "metadata": {},
   "outputs": [],
   "source": [
    "df = pd.read_csv(\"final_office_scaled.csv\")"
   ]
  },
  {
   "cell_type": "code",
   "execution_count": 28,
   "metadata": {},
   "outputs": [],
   "source": [
    "Xs = df.drop(['Unnamed: 0', 'imdb_rating', 'Other_director', 'Other_writer'], axis = 1)\n",
    "ys = df['imdb_rating']\n",
    "Xs_train, Xs_test, ys_train, ys_test = train_test_split(Xs, ys, test_size = 0.2, random_state = 42)"
   ]
  },
  {
   "cell_type": "code",
   "execution_count": 7,
   "metadata": {},
   "outputs": [
    {
     "name": "stdout",
     "output_type": "stream",
     "text": [
      "{'ridge__alpha': 60.0}\n"
     ]
    }
   ],
   "source": [
    "# find Ridge's optimal alpha\n",
    "alphas = np.linspace(0, 60, num=200)\n",
    "gs = GridSearchCV(\n",
    "    make_pipeline(\n",
    "    linear_model.Ridge()),\n",
    "    param_grid = {'ridge__alpha': alphas},\n",
    "    cv = KFold(5, shuffle = True, random_state = 42),\n",
    "    scoring = \"neg_root_mean_squared_error\"\n",
    ")\n",
    "\n",
    "gs.fit(Xs_train, ys_train)\n",
    "print(gs.best_params_)"
   ]
  },
  {
   "cell_type": "code",
   "execution_count": 8,
   "metadata": {},
   "outputs": [],
   "source": [
    "best_ridge = 60.0"
   ]
  },
  {
   "cell_type": "code",
   "execution_count": 9,
   "metadata": {},
   "outputs": [
    {
     "name": "stdout",
     "output_type": "stream",
     "text": [
      "{'lasso__alpha': 0.10234114021054527}\n"
     ]
    }
   ],
   "source": [
    "# find lasso's optimal alpha\n",
    "alphas = np.logspace(-3, 1, num=200)\n",
    "gs = GridSearchCV(\n",
    "    make_pipeline(\n",
    "    linear_model.Lasso()),\n",
    "    param_grid = {'lasso__alpha': alphas},\n",
    "    cv = KFold(5, shuffle = True, random_state = 42),\n",
    "    scoring = \"neg_root_mean_squared_error\"\n",
    ")\n",
    "\n",
    "gs.fit(Xs_train, ys_train)\n",
    "print(gs.best_params_)"
   ]
  },
  {
   "cell_type": "code",
   "execution_count": 10,
   "metadata": {},
   "outputs": [],
   "source": [
    "best_lasso = 0.10234114021054527"
   ]
  },
  {
   "cell_type": "code",
   "execution_count": 29,
   "metadata": {},
   "outputs": [],
   "source": [
    "# model with optimal alpha\n",
    "# Description of different models via pipeline\n",
    "\n",
    "linear_pipe = LinearRegression()\n",
    "knn_pipe = KNeighborsRegressor(n_neighbors=3)\n",
    "lasso_pipe = linear_model.Lasso(alpha = best_lasso)\n",
    "ridge_pipe = linear_model.Ridge(alpha = best_ridge)\n",
    "\n",
    "\n",
    "# Collection of all models\n",
    "model_dict = {\n",
    "    'LinearRegression': linear_pipe,\n",
    "    'KNN': knn_pipe,\n",
    "    'Lasso': lasso_pipe,\n",
    "    'Ridge': ridge_pipe}"
   ]
  },
  {
   "cell_type": "code",
   "execution_count": 15,
   "metadata": {},
   "outputs": [],
   "source": [
    "# Implementing the 5-fold cross validation for each model in a loop\n",
    "for i, model_name in enumerate(model_dict): \n",
    "    scores = cross_validate(model_dict[model_name], Xs_train, ys_train, cv = kf, return_train_score = True)\n",
    "    scores_df = tidy_scores(scores)\n",
    "    scores_df['model'] = model_name\n",
    "    scores_df = scores_df.set_index(\"model\", append=True)\n",
    "    scores_df = scores_df.swaplevel()\n",
    "    \n",
    "    if i == 0:\n",
    "        all_scores = scores_df\n",
    "    else:\n",
    "        all_scores = pd.concat([all_scores, scores_df], axis=0)"
   ]
  },
  {
   "cell_type": "code",
   "execution_count": 16,
   "metadata": {},
   "outputs": [
    {
     "data": {
      "text/html": [
       "<div>\n",
       "<style scoped>\n",
       "    .dataframe tbody tr th:only-of-type {\n",
       "        vertical-align: middle;\n",
       "    }\n",
       "\n",
       "    .dataframe tbody tr th {\n",
       "        vertical-align: top;\n",
       "    }\n",
       "\n",
       "    .dataframe thead th {\n",
       "        text-align: right;\n",
       "    }\n",
       "</style>\n",
       "<table border=\"1\" class=\"dataframe\">\n",
       "  <thead>\n",
       "    <tr style=\"text-align: right;\">\n",
       "      <th></th>\n",
       "      <th></th>\n",
       "      <th>fit_time</th>\n",
       "      <th>score_time</th>\n",
       "      <th>val_score</th>\n",
       "      <th>train_score</th>\n",
       "    </tr>\n",
       "    <tr>\n",
       "      <th>model</th>\n",
       "      <th>fold</th>\n",
       "      <th></th>\n",
       "      <th></th>\n",
       "      <th></th>\n",
       "      <th></th>\n",
       "    </tr>\n",
       "  </thead>\n",
       "  <tbody>\n",
       "    <tr>\n",
       "      <th>LinearRegression</th>\n",
       "      <th>mean</th>\n",
       "      <td>0.01</td>\n",
       "      <td>0.00</td>\n",
       "      <td>-0.02</td>\n",
       "      <td>0.51</td>\n",
       "    </tr>\n",
       "    <tr>\n",
       "      <th>KNN</th>\n",
       "      <th>mean</th>\n",
       "      <td>0.01</td>\n",
       "      <td>0.19</td>\n",
       "      <td>0.10</td>\n",
       "      <td>0.53</td>\n",
       "    </tr>\n",
       "    <tr>\n",
       "      <th>Lasso</th>\n",
       "      <th>mean</th>\n",
       "      <td>0.01</td>\n",
       "      <td>0.00</td>\n",
       "      <td>0.25</td>\n",
       "      <td>0.39</td>\n",
       "    </tr>\n",
       "    <tr>\n",
       "      <th>Ridge</th>\n",
       "      <th>mean</th>\n",
       "      <td>0.01</td>\n",
       "      <td>0.00</td>\n",
       "      <td>0.18</td>\n",
       "      <td>0.45</td>\n",
       "    </tr>\n",
       "  </tbody>\n",
       "</table>\n",
       "</div>"
      ],
      "text/plain": [
       "                       fit_time  score_time  val_score  train_score\n",
       "model            fold                                              \n",
       "LinearRegression mean      0.01        0.00      -0.02         0.51\n",
       "KNN              mean      0.01        0.19       0.10         0.53\n",
       "Lasso            mean      0.01        0.00       0.25         0.39\n",
       "Ridge            mean      0.01        0.00       0.18         0.45"
      ]
     },
     "metadata": {},
     "output_type": "display_data"
    },
    {
     "data": {
      "text/html": [
       "<div>\n",
       "<style scoped>\n",
       "    .dataframe tbody tr th:only-of-type {\n",
       "        vertical-align: middle;\n",
       "    }\n",
       "\n",
       "    .dataframe tbody tr th {\n",
       "        vertical-align: top;\n",
       "    }\n",
       "\n",
       "    .dataframe thead th {\n",
       "        text-align: right;\n",
       "    }\n",
       "</style>\n",
       "<table border=\"1\" class=\"dataframe\">\n",
       "  <thead>\n",
       "    <tr style=\"text-align: right;\">\n",
       "      <th></th>\n",
       "      <th></th>\n",
       "      <th>fit_time</th>\n",
       "      <th>score_time</th>\n",
       "      <th>val_score</th>\n",
       "      <th>train_score</th>\n",
       "    </tr>\n",
       "    <tr>\n",
       "      <th>model</th>\n",
       "      <th>fold</th>\n",
       "      <th></th>\n",
       "      <th></th>\n",
       "      <th></th>\n",
       "      <th></th>\n",
       "    </tr>\n",
       "  </thead>\n",
       "  <tbody>\n",
       "    <tr>\n",
       "      <th>LinearRegression</th>\n",
       "      <th>sd</th>\n",
       "      <td>0.0</td>\n",
       "      <td>0.00</td>\n",
       "      <td>0.38</td>\n",
       "      <td>0.03</td>\n",
       "    </tr>\n",
       "    <tr>\n",
       "      <th>KNN</th>\n",
       "      <th>sd</th>\n",
       "      <td>0.0</td>\n",
       "      <td>0.09</td>\n",
       "      <td>0.07</td>\n",
       "      <td>0.02</td>\n",
       "    </tr>\n",
       "    <tr>\n",
       "      <th>Lasso</th>\n",
       "      <th>sd</th>\n",
       "      <td>0.0</td>\n",
       "      <td>0.00</td>\n",
       "      <td>0.05</td>\n",
       "      <td>0.02</td>\n",
       "    </tr>\n",
       "    <tr>\n",
       "      <th>Ridge</th>\n",
       "      <th>sd</th>\n",
       "      <td>0.0</td>\n",
       "      <td>0.00</td>\n",
       "      <td>0.11</td>\n",
       "      <td>0.02</td>\n",
       "    </tr>\n",
       "  </tbody>\n",
       "</table>\n",
       "</div>"
      ],
      "text/plain": [
       "                       fit_time  score_time  val_score  train_score\n",
       "model            fold                                              \n",
       "LinearRegression sd         0.0        0.00       0.38         0.03\n",
       "KNN              sd         0.0        0.09       0.07         0.02\n",
       "Lasso            sd         0.0        0.00       0.05         0.02\n",
       "Ridge            sd         0.0        0.00       0.11         0.02"
      ]
     },
     "metadata": {},
     "output_type": "display_data"
    }
   ],
   "source": [
    "# score of optimal model\n",
    "# Mean values for the train and valid scores        \n",
    "display(all_scores.xs('mean', level=1, drop_level=False))\n",
    "# Std Dev. values for the train and valid scores\n",
    "display(all_scores.xs('sd', level=1, drop_level=False))"
   ]
  },
  {
   "cell_type": "code",
   "execution_count": 18,
   "metadata": {},
   "outputs": [
    {
     "data": {
      "text/html": [
       "<div>\n",
       "<style scoped>\n",
       "    .dataframe tbody tr th:only-of-type {\n",
       "        vertical-align: middle;\n",
       "    }\n",
       "\n",
       "    .dataframe tbody tr th {\n",
       "        vertical-align: top;\n",
       "    }\n",
       "\n",
       "    .dataframe thead th {\n",
       "        text-align: right;\n",
       "    }\n",
       "</style>\n",
       "<table border=\"1\" class=\"dataframe\">\n",
       "  <thead>\n",
       "    <tr style=\"text-align: right;\">\n",
       "      <th></th>\n",
       "      <th>0</th>\n",
       "    </tr>\n",
       "  </thead>\n",
       "  <tbody>\n",
       "    <tr>\n",
       "      <th>n_lines</th>\n",
       "      <td>0.252135</td>\n",
       "    </tr>\n",
       "    <tr>\n",
       "      <th>n_directions</th>\n",
       "      <td>0.074758</td>\n",
       "    </tr>\n",
       "    <tr>\n",
       "      <th>n_speak_char</th>\n",
       "      <td>0.011002</td>\n",
       "    </tr>\n",
       "    <tr>\n",
       "      <th>Angela</th>\n",
       "      <td>0.000000</td>\n",
       "    </tr>\n",
       "    <tr>\n",
       "      <th>Dwight</th>\n",
       "      <td>-0.000000</td>\n",
       "    </tr>\n",
       "    <tr>\n",
       "      <th>Jim</th>\n",
       "      <td>0.000000</td>\n",
       "    </tr>\n",
       "    <tr>\n",
       "      <th>Kevin</th>\n",
       "      <td>0.000000</td>\n",
       "    </tr>\n",
       "    <tr>\n",
       "      <th>Michael</th>\n",
       "      <td>0.234996</td>\n",
       "    </tr>\n",
       "    <tr>\n",
       "      <th>Oscar</th>\n",
       "      <td>-0.000000</td>\n",
       "    </tr>\n",
       "    <tr>\n",
       "      <th>Pam</th>\n",
       "      <td>-0.000000</td>\n",
       "    </tr>\n",
       "    <tr>\n",
       "      <th>Phyllis</th>\n",
       "      <td>0.000000</td>\n",
       "    </tr>\n",
       "    <tr>\n",
       "      <th>Ryan</th>\n",
       "      <td>-0.000000</td>\n",
       "    </tr>\n",
       "    <tr>\n",
       "      <th>Stanley</th>\n",
       "      <td>0.000000</td>\n",
       "    </tr>\n",
       "    <tr>\n",
       "      <th>Kelly</th>\n",
       "      <td>0.000000</td>\n",
       "    </tr>\n",
       "    <tr>\n",
       "      <th>Toby</th>\n",
       "      <td>0.000000</td>\n",
       "    </tr>\n",
       "    <tr>\n",
       "      <th>Meredith</th>\n",
       "      <td>0.000000</td>\n",
       "    </tr>\n",
       "    <tr>\n",
       "      <th>Darryl</th>\n",
       "      <td>-0.000000</td>\n",
       "    </tr>\n",
       "    <tr>\n",
       "      <th>Creed</th>\n",
       "      <td>0.000000</td>\n",
       "    </tr>\n",
       "    <tr>\n",
       "      <th>Andy</th>\n",
       "      <td>-0.000000</td>\n",
       "    </tr>\n",
       "    <tr>\n",
       "      <th>Erin</th>\n",
       "      <td>-0.215062</td>\n",
       "    </tr>\n",
       "    <tr>\n",
       "      <th>Greg Daniels</th>\n",
       "      <td>0.013120</td>\n",
       "    </tr>\n",
       "    <tr>\n",
       "      <th>Jeffrey Blitz</th>\n",
       "      <td>0.000000</td>\n",
       "    </tr>\n",
       "    <tr>\n",
       "      <th>Ken Kwapis</th>\n",
       "      <td>0.000000</td>\n",
       "    </tr>\n",
       "    <tr>\n",
       "      <th>Ken Whittingham</th>\n",
       "      <td>-0.000000</td>\n",
       "    </tr>\n",
       "    <tr>\n",
       "      <th>Paul Feig</th>\n",
       "      <td>0.000000</td>\n",
       "    </tr>\n",
       "    <tr>\n",
       "      <th>B.J. Novak</th>\n",
       "      <td>0.000000</td>\n",
       "    </tr>\n",
       "    <tr>\n",
       "      <th>Gene Stupnitsky;Lee Eisenberg</th>\n",
       "      <td>0.000000</td>\n",
       "    </tr>\n",
       "    <tr>\n",
       "      <th>Greg Daniels.1</th>\n",
       "      <td>0.049500</td>\n",
       "    </tr>\n",
       "    <tr>\n",
       "      <th>Michael Schur</th>\n",
       "      <td>-0.000000</td>\n",
       "    </tr>\n",
       "    <tr>\n",
       "      <th>Paul Lieberstein</th>\n",
       "      <td>0.000000</td>\n",
       "    </tr>\n",
       "    <tr>\n",
       "      <th>pos_score</th>\n",
       "      <td>0.000000</td>\n",
       "    </tr>\n",
       "    <tr>\n",
       "      <th>neg_score</th>\n",
       "      <td>-0.000000</td>\n",
       "    </tr>\n",
       "  </tbody>\n",
       "</table>\n",
       "</div>"
      ],
      "text/plain": [
       "                                      0\n",
       "n_lines                        0.252135\n",
       "n_directions                   0.074758\n",
       "n_speak_char                   0.011002\n",
       "Angela                         0.000000\n",
       "Dwight                        -0.000000\n",
       "Jim                            0.000000\n",
       "Kevin                          0.000000\n",
       "Michael                        0.234996\n",
       "Oscar                         -0.000000\n",
       "Pam                           -0.000000\n",
       "Phyllis                        0.000000\n",
       "Ryan                          -0.000000\n",
       "Stanley                        0.000000\n",
       "Kelly                          0.000000\n",
       "Toby                           0.000000\n",
       "Meredith                       0.000000\n",
       "Darryl                        -0.000000\n",
       "Creed                          0.000000\n",
       "Andy                          -0.000000\n",
       "Erin                          -0.215062\n",
       "Greg Daniels                   0.013120\n",
       "Jeffrey Blitz                  0.000000\n",
       "Ken Kwapis                     0.000000\n",
       "Ken Whittingham               -0.000000\n",
       "Paul Feig                      0.000000\n",
       "B.J. Novak                     0.000000\n",
       "Gene Stupnitsky;Lee Eisenberg  0.000000\n",
       "Greg Daniels.1                 0.049500\n",
       "Michael Schur                 -0.000000\n",
       "Paul Lieberstein               0.000000\n",
       "pos_score                      0.000000\n",
       "neg_score                     -0.000000"
      ]
     },
     "execution_count": 18,
     "metadata": {},
     "output_type": "execute_result"
    }
   ],
   "source": [
    "ms = linear_model.Lasso(alpha = best_lasso).fit(Xs_train, ys_train)\n",
    "coef = get_coefs(ms)[1:]\n",
    "feature = Xs_train.columns\n",
    "pd.DataFrame(coef, feature)"
   ]
  },
  {
   "cell_type": "code",
   "execution_count": 30,
   "metadata": {},
   "outputs": [
    {
     "data": {
      "image/png": "[encoded data removed]",
      "text/plain": [
       "<Figure size 864x432 with 2 Axes>"
      ]
     },
     "metadata": {
      "needs_background": "light"
     },
     "output_type": "display_data"
    },
    {
     "data": {
      "text/plain": [
       "(0.6872803655710885, 0.8290237424652496, 0.3676846352264801)"
      ]
     },
     "execution_count": 30,
     "metadata": {},
     "output_type": "execute_result"
    }
   ],
   "source": [
    "import matplotlib.pyplot as plt\n",
    "import seaborn as sns\n",
    "lasso_model = lasso_pipe.fit(Xs_train , ys_train)\n",
    "model_fit(lasso_model, Xs_train, ys_train, plot = True)"
   ]
  },
  {
   "cell_type": "code",
   "execution_count": 24,
   "metadata": {},
   "outputs": [
    {
     "data": {
      "image/png": "[encoded data removed]",
      "text/plain": [
       "<Figure size 864x432 with 2 Axes>"
      ]
     },
     "metadata": {
      "needs_background": "light"
     },
     "output_type": "display_data"
    },
    {
     "data": {
      "text/plain": [
       "(0.505461259406931, 0.710957987089906, 0.12158266908543836)"
      ]
     },
     "execution_count": 24,
     "metadata": {},
     "output_type": "execute_result"
    }
   ],
   "source": [
    "model_fit(lasso_model, Xs_test, ys_test, plot = True)"
   ]
  },
  {
   "cell_type": "code",
   "execution_count": 31,
   "metadata": {},
   "outputs": [
    {
     "data": {
      "image/png": "[encoded data removed]",
      "text/plain": [
       "<Figure size 864x432 with 2 Axes>"
      ]
     },
     "metadata": {
      "needs_background": "light"
     },
     "output_type": "display_data"
    },
    {
     "data": {
      "text/plain": [
       "(0.609768657384698, 0.7808768516127866, 0.43899737234413405)"
      ]
     },
     "execution_count": 31,
     "metadata": {},
     "output_type": "execute_result"
    }
   ],
   "source": [
    "ridge_model = ridge_pipe.fit(Xs_train , ys_train)\n",
    "model_fit(ridge_model, Xs_train, ys_train, plot = True)"
   ]
  },
  {
   "cell_type": "code",
   "execution_count": 32,
   "metadata": {},
   "outputs": [
    {
     "data": {
      "image/png": "[encoded data removed]",
      "text/plain": [
       "<Figure size 864x432 with 2 Axes>"
      ]
     },
     "metadata": {
      "needs_background": "light"
     },
     "output_type": "display_data"
    },
    {
     "data": {
      "text/plain": [
       "(0.49047361743156265, 0.700338216457993, 0.14762898661361734)"
      ]
     },
     "execution_count": 32,
     "metadata": {},
     "output_type": "execute_result"
    }
   ],
   "source": [
    "model_fit(ridge_model, Xs_test, ys_test, plot = True)"
   ]
  },
  {
   "cell_type": "markdown",
   "metadata": {
    "id": "edQVULLU7Fo3"
   },
   "source": [
    "## 4. Discussion and Conclusions\n"
   ]
  },
  {
   "cell_type": "markdown",
   "metadata": {
    "id": "Fi0yKPrQ7Fo4"
   },
   "source": [
    "*In this section you should provide a general overview of **your final model**, its **performance**, and **reliability**.* \n",
    "\n",
    "- You should discuss what the implications of your model are in terms of the included features, predictive performance, and anything else you think is relevant.\n",
    "\n",
    "- This should be written with a target audience of a NBC Universal executive who is with the show and university level mathematics but not necessarily someone who has taken a postgraduate statistical modeling course. \n",
    "\n",
    "- Your goal should be to convince this audience that your model is both accurate and useful.\n",
    "\n",
    "- Finally, you should include concrete recommendations on what NBC Universal should do to make their reunion episode a popular as possible.\n",
    "\n",
    "**Keep in mind that a negative result, i.e. a model that does not work well predictively, but that is well explained and justified in terms of why it failed will likely receive higher marks than a model with strong predictive performance but with poor or incorrect explanations / justifications.**"
   ]
  },
  {
   "cell_type": "code",
   "execution_count": 29,
   "metadata": {},
   "outputs": [],
   "source": [
    "# add that we might want to condiser the timing of the episodes when they aired and that it could be cool to get data to see h\n",
    "# how much timing afffected the ratings\n",
    "\n",
    "# add idea about adjusted-IMDB rating based on the amount of votes (takes in the correlation between votes and rating)\n",
    "\n"
   ]
  },
  {
   "cell_type": "markdown",
   "metadata": {},
   "source": [
    "## 5. References\n",
    "\n",
    "*In this section, you should present a list of external sources (except the course materials) that you used during the project, if any*\n",
    "\n",
    "- Additional data sources can be cited here, in addition to related python documentations, any other webpage sources that you benefited from"
   ]
  },
  {
   "cell_type": "code",
   "execution_count": 30,
   "metadata": {},
   "outputs": [
    {
     "ename": "SyntaxError",
     "evalue": "invalid character '“' (U+201C) (3624475418.py, line 4)",
     "output_type": "error",
     "traceback": [
      "\u001b[0;36m  Cell \u001b[0;32mIn[30], line 4\u001b[0;36m\u001b[0m\n\u001b[0;31m    I.K. Yeo and R.A. Johnson, “A new family of power transformations to improve normality or symmetry.” Biometrika, 87(4), pp.954-959, (2000).\u001b[0m\n\u001b[0m                               ^\u001b[0m\n\u001b[0;31mSyntaxError\u001b[0m\u001b[0;31m:\u001b[0m invalid character '“' (U+201C)\n"
     ]
    }
   ],
   "source": [
    "### INSERT reference to shrutepy here\n",
    "\n",
    "#refernce for trnasformation\n",
    "I.K. Yeo and R.A. Johnson, “A new family of power transformations to improve normality or symmetry.” Biometrika, 87(4), pp.954-959, (2000)."
   ]
  }
 ],
 "metadata": {
  "colab": {
   "collapsed_sections": [],
   "name": "project1.ipynb",
   "provenance": []
  },
  "kernelspec": {
   "display_name": "Python 3 (ipykernel)",
   "language": "python",
   "name": "python3"
  },
  "language_info": {
   "codemirror_mode": {
    "name": "ipython",
    "version": 3
   },
   "file_extension": ".py",
   "mimetype": "text/x-python",
   "name": "python",
   "nbconvert_exporter": "python",
   "pygments_lexer": "ipython3",
   "version": "3.9.7"
  }
 },
 "nbformat": 4,
 "nbformat_minor": 4
}
