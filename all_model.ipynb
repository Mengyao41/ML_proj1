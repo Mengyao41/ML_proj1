{
 "cells": [
  {
   "cell_type": "code",
   "execution_count": 56,
   "metadata": {},
   "outputs": [],
   "source": [
    "import numpy as np\n",
    "import pandas as pd\n",
    "from sklearn.model_selection import train_test_split\n",
    "from sklearn.linear_model import LinearRegression\n",
    "from sklearn.preprocessing import PowerTransformer\n",
    "from sklearn.model_selection import cross_validate\n",
    "#!pip install  imbalanced-learn\n",
    "from imblearn.pipeline import Pipeline\n",
    "from sklearn.preprocessing import StandardScaler\n",
    "from sklearn.preprocessing import PowerTransformer\n",
    "from sklearn.neighbors import KNeighborsRegressor\n",
    "from sklearn.compose import ColumnTransformer\n",
    "from sklearn import linear_model\n",
    "from sklearn.model_selection import GridSearchCV, KFold\n",
    "from sklearn.pipeline import make_pipeline\n",
    "import sklearn\n",
    "from sklearn.metrics import mean_squared_error, r2_score"
   ]
  },
  {
   "cell_type": "code",
   "execution_count": 2,
   "metadata": {},
   "outputs": [],
   "source": [
    "df = pd.read_csv(\"final_office.csv\")\n",
    "X = df.drop(['Unnamed: 0', 'imdb_rating', 'Other_director', 'Other_writer'], axis = 1)\n",
    "y = df['imdb_rating']\n",
    "X_train, X_test, y_train, y_test = train_test_split(X, y, test_size = 0.2, random_state = 42)"
   ]
  },
  {
   "cell_type": "code",
   "execution_count": 3,
   "metadata": {},
   "outputs": [],
   "source": [
    "def tidy_scores(score_dict):\n",
    "    df = pd.DataFrame(score_dict)\n",
    "    df.loc['mean'] = df.mean()\n",
    "    df.loc['sd'] = df.std()\n",
    "    df.rename({\"test_score\":\"val_score\"}, axis=1, inplace=True)\n",
    "    df.index.name = \"fold\"\n",
    "    return df.round(2)"
   ]
  },
  {
   "cell_type": "code",
   "execution_count": 4,
   "metadata": {},
   "outputs": [],
   "source": [
    "def model_fit(m, X, y, plot = False):\n",
    "    \"\"\"Returns the mean squared error, root mean squared error and R^2 value of a fitted model based \n",
    "    on provided X and y values.\n",
    "    \n",
    "    Args:\n",
    "        m: sklearn model object\n",
    "        X: model matrix to use for prediction\n",
    "        y: outcome vector to use to calculating rmse and residuals\n",
    "        plot: boolean value, should fit plots be shown \n",
    "    \"\"\"\n",
    "    \n",
    "    y_hat = m.predict(X)\n",
    "    MSE = mean_squared_error(y, y_hat)\n",
    "    RMSE = np.sqrt(mean_squared_error(y, y_hat))\n",
    "    Rsqr = r2_score(y, y_hat)\n",
    "    \n",
    "    Metrics = (round(MSE, 4), round(RMSE, 4), round(Rsqr, 4))\n",
    "    \n",
    "    res = pd.DataFrame(\n",
    "        data = {'y': y, 'y_hat': y_hat, 'resid': y - y_hat}\n",
    "    )\n",
    "    \n",
    "    if plot:\n",
    "        plt.figure(figsize=(12, 6))\n",
    "        \n",
    "        plt.subplot(121)\n",
    "        sns.lineplot(x='y', y='y_hat', color=\"grey\", data =  pd.DataFrame(data={'y': [min(y),max(y)], 'y_hat': [min(y),max(y)]}))\n",
    "        sns.scatterplot(x='y', y='y_hat', data=res).set_title(\"Actual vs Fitted plot\")\n",
    "        \n",
    "        plt.subplot(122)\n",
    "        sns.scatterplot(x='y_hat', y='resid', data=res).set_title(\"Fitted vs Residual plot\")\n",
    "        plt.hlines(y=0, xmin=np.min(y), xmax=np.max(y), linestyles='dashed', alpha=0.3, colors=\"black\")\n",
    "        \n",
    "        plt.subplots_adjust(left=0.0)\n",
    "        \n",
    "        plt.suptitle(\"Model (MSE, RMSE, Rsqr) = \" + str(Metrics), fontsize=14)\n",
    "        plt.show()\n",
    "    \n",
    "    return MSE, RMSE, Rsqr"
   ]
  },
  {
   "cell_type": "code",
   "execution_count": 5,
   "metadata": {},
   "outputs": [],
   "source": [
    "def get_coefs(m):\n",
    "    \"\"\"Returns the model coefficients from a Scikit-learn model object as an array,\n",
    "    includes the intercept if available.\n",
    "    \"\"\"\n",
    "    \n",
    "    # If pipeline, use the last step as the model\n",
    "    if (isinstance(m, sklearn.pipeline.Pipeline)):\n",
    "        m = m.steps[-1][1]\n",
    "    \n",
    "    \n",
    "    if m.intercept_ is None:\n",
    "        return m.coef_\n",
    "    \n",
    "    return np.concatenate([[m.intercept_], m.coef_])"
   ]
  },
  {
   "cell_type": "markdown",
   "metadata": {},
   "source": [
    "# 1 Unscaled data"
   ]
  },
  {
   "cell_type": "code",
   "execution_count": 272,
   "metadata": {},
   "outputs": [],
   "source": [
    "from sklearn.preprocessing import PolynomialFeatures\n",
    "from sklearn.model_selection import LeavePOut\n",
    "from sklearn.model_selection import cross_val_score"
   ]
  },
  {
   "cell_type": "code",
   "execution_count": 273,
   "metadata": {},
   "outputs": [],
   "source": [
    "#kf = KFold(n_splits = 50, shuffle = True, random_state=42)\n",
    "lpo = LeavePOut(p=2)\n"
   ]
  },
  {
   "cell_type": "code",
   "execution_count": 175,
   "metadata": {},
   "outputs": [],
   "source": [
    "df1 = pd.read_csv(\"the_office.csv\")\n",
    "#n_words1 = df1['n_words'].values.reshape(-1, 1)\n",
    "power = PowerTransformer()\n",
    "n_words = power.fit_transform(n_words1)"
   ]
  },
  {
   "cell_type": "code",
   "execution_count": 191,
   "metadata": {},
   "outputs": [],
   "source": [
    "dfs = pd.read_csv(\"final_office_scaled.csv\")"
   ]
  },
  {
   "cell_type": "code",
   "execution_count": 192,
   "metadata": {},
   "outputs": [
    {
     "data": {
      "text/html": [
       "<div>\n",
       "<style scoped>\n",
       "    .dataframe tbody tr th:only-of-type {\n",
       "        vertical-align: middle;\n",
       "    }\n",
       "\n",
       "    .dataframe tbody tr th {\n",
       "        vertical-align: top;\n",
       "    }\n",
       "\n",
       "    .dataframe thead th {\n",
       "        text-align: right;\n",
       "    }\n",
       "</style>\n",
       "<table border=\"1\" class=\"dataframe\">\n",
       "  <thead>\n",
       "    <tr style=\"text-align: right;\">\n",
       "      <th></th>\n",
       "      <th>Unnamed: 0</th>\n",
       "      <th>imdb_rating</th>\n",
       "      <th>n_directions</th>\n",
       "      <th>n_speak_char</th>\n",
       "      <th>Angela</th>\n",
       "      <th>Dwight</th>\n",
       "      <th>Jim</th>\n",
       "      <th>Kevin</th>\n",
       "      <th>Michael</th>\n",
       "      <th>Oscar</th>\n",
       "      <th>...</th>\n",
       "      <th>Other_director</th>\n",
       "      <th>Paul Feig</th>\n",
       "      <th>B.J. Novak</th>\n",
       "      <th>Gene Stupnitsky;Lee Eisenberg</th>\n",
       "      <th>Greg Daniels.1</th>\n",
       "      <th>Michael Schur</th>\n",
       "      <th>Other_writer</th>\n",
       "      <th>Paul Lieberstein</th>\n",
       "      <th>pos_score</th>\n",
       "      <th>neg_score</th>\n",
       "    </tr>\n",
       "  </thead>\n",
       "  <tbody>\n",
       "    <tr>\n",
       "      <th>0</th>\n",
       "      <td>0</td>\n",
       "      <td>-1.219752</td>\n",
       "      <td>-1.135783</td>\n",
       "      <td>-1.346240</td>\n",
       "      <td>-1.166491</td>\n",
       "      <td>0.200151</td>\n",
       "      <td>1.001938</td>\n",
       "      <td>-1.440736</td>\n",
       "      <td>1.342712</td>\n",
       "      <td>-0.412607</td>\n",
       "      <td>...</td>\n",
       "      <td>-1.467155</td>\n",
       "      <td>-0.285299</td>\n",
       "      <td>-0.296174</td>\n",
       "      <td>-0.197753</td>\n",
       "      <td>-0.225494</td>\n",
       "      <td>-0.197753</td>\n",
       "      <td>0.614636</td>\n",
       "      <td>-0.274125</td>\n",
       "      <td>0.187252</td>\n",
       "      <td>0.084460</td>\n",
       "    </tr>\n",
       "    <tr>\n",
       "      <th>1</th>\n",
       "      <td>1</td>\n",
       "      <td>0.094597</td>\n",
       "      <td>-1.758157</td>\n",
       "      <td>-2.509289</td>\n",
       "      <td>-0.063347</td>\n",
       "      <td>-0.668030</td>\n",
       "      <td>0.247636</td>\n",
       "      <td>0.767625</td>\n",
       "      <td>1.532139</td>\n",
       "      <td>1.587572</td>\n",
       "      <td>...</td>\n",
       "      <td>-1.467155</td>\n",
       "      <td>-0.285299</td>\n",
       "      <td>3.376389</td>\n",
       "      <td>-0.197753</td>\n",
       "      <td>-0.225494</td>\n",
       "      <td>-0.197753</td>\n",
       "      <td>-1.626978</td>\n",
       "      <td>-0.274125</td>\n",
       "      <td>1.879636</td>\n",
       "      <td>-0.931537</td>\n",
       "    </tr>\n",
       "    <tr>\n",
       "      <th>2</th>\n",
       "      <td>2</td>\n",
       "      <td>-0.655608</td>\n",
       "      <td>-1.658308</td>\n",
       "      <td>-2.080946</td>\n",
       "      <td>-0.017552</td>\n",
       "      <td>1.895665</td>\n",
       "      <td>1.256078</td>\n",
       "      <td>0.012398</td>\n",
       "      <td>0.073074</td>\n",
       "      <td>0.822683</td>\n",
       "      <td>...</td>\n",
       "      <td>-1.467155</td>\n",
       "      <td>-0.285299</td>\n",
       "      <td>-0.296174</td>\n",
       "      <td>-0.197753</td>\n",
       "      <td>-0.225494</td>\n",
       "      <td>-0.197753</td>\n",
       "      <td>-1.626978</td>\n",
       "      <td>3.647971</td>\n",
       "      <td>0.960160</td>\n",
       "      <td>0.029562</td>\n",
       "    </tr>\n",
       "    <tr>\n",
       "      <th>3</th>\n",
       "      <td>3</td>\n",
       "      <td>-0.280227</td>\n",
       "      <td>-1.382359</td>\n",
       "      <td>-1.695514</td>\n",
       "      <td>0.414157</td>\n",
       "      <td>1.219962</td>\n",
       "      <td>1.710125</td>\n",
       "      <td>-0.797878</td>\n",
       "      <td>0.541810</td>\n",
       "      <td>1.448455</td>\n",
       "      <td>...</td>\n",
       "      <td>0.681591</td>\n",
       "      <td>-0.285299</td>\n",
       "      <td>-0.296174</td>\n",
       "      <td>-0.197753</td>\n",
       "      <td>-0.225494</td>\n",
       "      <td>5.056820</td>\n",
       "      <td>-1.626978</td>\n",
       "      <td>-0.274125</td>\n",
       "      <td>1.451331</td>\n",
       "      <td>-0.138603</td>\n",
       "    </tr>\n",
       "    <tr>\n",
       "      <th>4</th>\n",
       "      <td>4</td>\n",
       "      <td>0.281805</td>\n",
       "      <td>0.154782</td>\n",
       "      <td>-0.466844</td>\n",
       "      <td>-0.489820</td>\n",
       "      <td>-0.139089</td>\n",
       "      <td>-0.362529</td>\n",
       "      <td>-1.442390</td>\n",
       "      <td>2.645409</td>\n",
       "      <td>-0.731776</td>\n",
       "      <td>...</td>\n",
       "      <td>-1.467155</td>\n",
       "      <td>-0.285299</td>\n",
       "      <td>-0.296174</td>\n",
       "      <td>-0.197753</td>\n",
       "      <td>4.434712</td>\n",
       "      <td>-0.197753</td>\n",
       "      <td>-1.626978</td>\n",
       "      <td>-0.274125</td>\n",
       "      <td>-0.518958</td>\n",
       "      <td>0.889779</td>\n",
       "    </tr>\n",
       "  </tbody>\n",
       "</table>\n",
       "<p>5 rows × 35 columns</p>\n",
       "</div>"
      ],
      "text/plain": [
       "   Unnamed: 0  imdb_rating  n_directions  n_speak_char    Angela    Dwight  \\\n",
       "0           0    -1.219752     -1.135783     -1.346240 -1.166491  0.200151   \n",
       "1           1     0.094597     -1.758157     -2.509289 -0.063347 -0.668030   \n",
       "2           2    -0.655608     -1.658308     -2.080946 -0.017552  1.895665   \n",
       "3           3    -0.280227     -1.382359     -1.695514  0.414157  1.219962   \n",
       "4           4     0.281805      0.154782     -0.466844 -0.489820 -0.139089   \n",
       "\n",
       "        Jim     Kevin   Michael     Oscar  ...  Other_director  Paul Feig  \\\n",
       "0  1.001938 -1.440736  1.342712 -0.412607  ...       -1.467155  -0.285299   \n",
       "1  0.247636  0.767625  1.532139  1.587572  ...       -1.467155  -0.285299   \n",
       "2  1.256078  0.012398  0.073074  0.822683  ...       -1.467155  -0.285299   \n",
       "3  1.710125 -0.797878  0.541810  1.448455  ...        0.681591  -0.285299   \n",
       "4 -0.362529 -1.442390  2.645409 -0.731776  ...       -1.467155  -0.285299   \n",
       "\n",
       "   B.J. Novak  Gene Stupnitsky;Lee Eisenberg  Greg Daniels.1  Michael Schur  \\\n",
       "0   -0.296174                      -0.197753       -0.225494      -0.197753   \n",
       "1    3.376389                      -0.197753       -0.225494      -0.197753   \n",
       "2   -0.296174                      -0.197753       -0.225494      -0.197753   \n",
       "3   -0.296174                      -0.197753       -0.225494       5.056820   \n",
       "4   -0.296174                      -0.197753        4.434712      -0.197753   \n",
       "\n",
       "   Other_writer  Paul Lieberstein  pos_score  neg_score  \n",
       "0      0.614636         -0.274125   0.187252   0.084460  \n",
       "1     -1.626978         -0.274125   1.879636  -0.931537  \n",
       "2     -1.626978          3.647971   0.960160   0.029562  \n",
       "3     -1.626978         -0.274125   1.451331  -0.138603  \n",
       "4     -1.626978         -0.274125  -0.518958   0.889779  \n",
       "\n",
       "[5 rows x 35 columns]"
      ]
     },
     "execution_count": 192,
     "metadata": {},
     "output_type": "execute_result"
    }
   ],
   "source": [
    "dfs.head()"
   ]
  },
  {
   "cell_type": "code",
   "execution_count": 222,
   "metadata": {},
   "outputs": [],
   "source": [
    "Xs = dfs.drop(['Unnamed: 0', 'imdb_rating', 'Other_director', 'Other_writer','n_directions'], axis = 1)\n",
    "ys = dfs['imdb_rating']\n",
    "Xs_train, Xs_test, ys_train, ys_test = train_test_split(Xs, ys, test_size = 0.2, random_state = 42)"
   ]
  },
  {
   "cell_type": "code",
   "execution_count": 259,
   "metadata": {},
   "outputs": [
    {
     "data": {
      "text/plain": [
       "(148, 30)"
      ]
     },
     "execution_count": 259,
     "metadata": {},
     "output_type": "execute_result"
    }
   ],
   "source": [
    "Xs_train.shape"
   ]
  },
  {
   "cell_type": "code",
   "execution_count": 198,
   "metadata": {},
   "outputs": [],
   "source": [
    "from sklearn.ensemble import RandomForestRegressor\n"
   ]
  },
  {
   "cell_type": "code",
   "execution_count": 199,
   "metadata": {},
   "outputs": [],
   "source": [
    "regr = RandomForestRegressor(max_depth=2, random_state=0)\n",
    "model = regr.fit(Xs_train, ys_train)"
   ]
  },
  {
   "cell_type": "code",
   "execution_count": 195,
   "metadata": {},
   "outputs": [],
   "source": [
    "regressor = DecisionTreeRegressor(random_state=42)\n",
    "model = regressor.fit(Xs_train,ys_train)"
   ]
  },
  {
   "cell_type": "code",
   "execution_count": 200,
   "metadata": {},
   "outputs": [],
   "source": [
    "scores = cross_validate(model, Xs_train, ys_train, cv = kf, return_train_score = True)"
   ]
  },
  {
   "cell_type": "code",
   "execution_count": 203,
   "metadata": {},
   "outputs": [
    {
     "data": {
      "text/html": [
       "<div>\n",
       "<style scoped>\n",
       "    .dataframe tbody tr th:only-of-type {\n",
       "        vertical-align: middle;\n",
       "    }\n",
       "\n",
       "    .dataframe tbody tr th {\n",
       "        vertical-align: top;\n",
       "    }\n",
       "\n",
       "    .dataframe thead th {\n",
       "        text-align: right;\n",
       "    }\n",
       "</style>\n",
       "<table border=\"1\" class=\"dataframe\">\n",
       "  <thead>\n",
       "    <tr style=\"text-align: right;\">\n",
       "      <th></th>\n",
       "      <th>fit_time</th>\n",
       "      <th>score_time</th>\n",
       "      <th>val_score</th>\n",
       "      <th>train_score</th>\n",
       "    </tr>\n",
       "    <tr>\n",
       "      <th>fold</th>\n",
       "      <th></th>\n",
       "      <th></th>\n",
       "      <th></th>\n",
       "      <th></th>\n",
       "    </tr>\n",
       "  </thead>\n",
       "  <tbody>\n",
       "    <tr>\n",
       "      <th>0</th>\n",
       "      <td>0.21</td>\n",
       "      <td>0.03</td>\n",
       "      <td>0.22</td>\n",
       "      <td>0.50</td>\n",
       "    </tr>\n",
       "    <tr>\n",
       "      <th>1</th>\n",
       "      <td>0.18</td>\n",
       "      <td>0.01</td>\n",
       "      <td>0.24</td>\n",
       "      <td>0.50</td>\n",
       "    </tr>\n",
       "    <tr>\n",
       "      <th>2</th>\n",
       "      <td>0.18</td>\n",
       "      <td>0.01</td>\n",
       "      <td>0.34</td>\n",
       "      <td>0.51</td>\n",
       "    </tr>\n",
       "    <tr>\n",
       "      <th>3</th>\n",
       "      <td>0.18</td>\n",
       "      <td>0.01</td>\n",
       "      <td>0.38</td>\n",
       "      <td>0.48</td>\n",
       "    </tr>\n",
       "    <tr>\n",
       "      <th>4</th>\n",
       "      <td>2.91</td>\n",
       "      <td>0.01</td>\n",
       "      <td>0.32</td>\n",
       "      <td>0.52</td>\n",
       "    </tr>\n",
       "    <tr>\n",
       "      <th>mean</th>\n",
       "      <td>0.73</td>\n",
       "      <td>0.01</td>\n",
       "      <td>0.30</td>\n",
       "      <td>0.50</td>\n",
       "    </tr>\n",
       "    <tr>\n",
       "      <th>sd</th>\n",
       "      <td>1.09</td>\n",
       "      <td>0.01</td>\n",
       "      <td>0.06</td>\n",
       "      <td>0.01</td>\n",
       "    </tr>\n",
       "  </tbody>\n",
       "</table>\n",
       "</div>"
      ],
      "text/plain": [
       "      fit_time  score_time  val_score  train_score\n",
       "fold                                              \n",
       "0         0.21        0.03       0.22         0.50\n",
       "1         0.18        0.01       0.24         0.50\n",
       "2         0.18        0.01       0.34         0.51\n",
       "3         0.18        0.01       0.38         0.48\n",
       "4         2.91        0.01       0.32         0.52\n",
       "mean      0.73        0.01       0.30         0.50\n",
       "sd        1.09        0.01       0.06         0.01"
      ]
     },
     "execution_count": 203,
     "metadata": {},
     "output_type": "execute_result"
    }
   ],
   "source": [
    "tidy_scores(scores)"
   ]
  },
  {
   "cell_type": "code",
   "execution_count": 261,
   "metadata": {},
   "outputs": [
    {
     "name": "stdout",
     "output_type": "stream",
     "text": [
      "{'ridge__alpha': 127.63819095477386}\n"
     ]
    }
   ],
   "source": [
    "# find Ridge's optimal alpha\n",
    "alphas = np.linspace(0, 200, num=200)\n",
    "gs = GridSearchCV(\n",
    "    make_pipeline(\n",
    "    linear_model.Ridge()),\n",
    "    param_grid = {'ridge__alpha': alphas},\n",
    "    cv = KFold(5, shuffle = True, random_state = 42),\n",
    "    scoring = \"neg_root_mean_squared_error\"\n",
    ")\n",
    "\n",
    "gs.fit(Xs_train, ys_train)\n",
    "print(gs.best_params_)"
   ]
  },
  {
   "cell_type": "code",
   "execution_count": 262,
   "metadata": {},
   "outputs": [],
   "source": [
    "best_ridge1 = 127.63819095477386"
   ]
  },
  {
   "cell_type": "code",
   "execution_count": 264,
   "metadata": {},
   "outputs": [
    {
     "name": "stdout",
     "output_type": "stream",
     "text": [
      "{'lasso__alpha': 0.0890735463861044}\n"
     ]
    }
   ],
   "source": [
    "# find lasso's optimal alpha\n",
    "alphas = np.logspace(-3, 1, num=200)\n",
    "gs = GridSearchCV(\n",
    "    make_pipeline(\n",
    "    linear_model.Lasso()),\n",
    "    param_grid = {'lasso__alpha': alphas},\n",
    "    cv = kf,\n",
    "    #cv = loo,\n",
    "    scoring = \"neg_root_mean_squared_error\"\n",
    ")\n",
    "\n",
    "gs.fit(Xs_train, ys_train)\n",
    "print(gs.best_params_)"
   ]
  },
  {
   "cell_type": "code",
   "execution_count": 265,
   "metadata": {},
   "outputs": [],
   "source": [
    "best_lasso1 = 0.0890735463861044"
   ]
  },
  {
   "cell_type": "code",
   "execution_count": 266,
   "metadata": {},
   "outputs": [],
   "source": [
    "# model with optimal alpha\n",
    "# Description of different models via pipeline\n",
    "\n",
    "linear_pipe1o = LinearRegression()\n",
    "knn_pipe1o = KNeighborsRegressor(n_neighbors=6)\n",
    "lasso_pipe1o = linear_model.Lasso(alpha = best_lasso1)\n",
    "ridge_pipe1o = linear_model.Ridge(alpha = best_ridge1)\n",
    "\n",
    "\n",
    "\n",
    "\n",
    "# Collection of all models\n",
    "model_dict = {\n",
    "    'LinearRegression': linear_pipe1o,\n",
    "    'KNN': knn_pipe1o,\n",
    "    'Lasso': lasso_pipe1o,\n",
    "    'Ridge': ridge_pipe1o,\n",
    "}"
   ]
  },
  {
   "cell_type": "code",
   "execution_count": 274,
   "metadata": {},
   "outputs": [],
   "source": [
    "# Implementing the 5-fold cross validation for each model in a loop\n",
    "for i, model_name in enumerate(model_dict): \n",
    "    scores = cross_validate(model_dict[model_name], Xs_train, ys_train, cv = lpo, return_train_score = True)\n",
    "    #scores = cross_validate(model_dict[model_name], Xs_train, ys_train, cv = loo, scoring = r2, n_jobs=-1)\n",
    "    scores_df = tidy_scores(scores)\n",
    "    scores_df['model'] = model_name\n",
    "    scores_df = scores_df.set_index('model', append=True)\n",
    "    scores_df = scores_df.swaplevel()\n",
    "    \n",
    "    if i == 0:\n",
    "        all_scores = scores_df\n",
    "    else:\n",
    "        all_scores = pd.concat([all_scores, scores_df], axis=0)"
   ]
  },
  {
   "cell_type": "code",
   "execution_count": 271,
   "metadata": {},
   "outputs": [
    {
     "data": {
      "text/html": [
       "<div>\n",
       "<style scoped>\n",
       "    .dataframe tbody tr th:only-of-type {\n",
       "        vertical-align: middle;\n",
       "    }\n",
       "\n",
       "    .dataframe tbody tr th {\n",
       "        vertical-align: top;\n",
       "    }\n",
       "\n",
       "    .dataframe thead th {\n",
       "        text-align: right;\n",
       "    }\n",
       "</style>\n",
       "<table border=\"1\" class=\"dataframe\">\n",
       "  <thead>\n",
       "    <tr style=\"text-align: right;\">\n",
       "      <th></th>\n",
       "      <th></th>\n",
       "      <th>fit_time</th>\n",
       "      <th>score_time</th>\n",
       "      <th>val_score</th>\n",
       "      <th>train_score</th>\n",
       "    </tr>\n",
       "    <tr>\n",
       "      <th>model</th>\n",
       "      <th>fold</th>\n",
       "      <th></th>\n",
       "      <th></th>\n",
       "      <th></th>\n",
       "      <th></th>\n",
       "    </tr>\n",
       "  </thead>\n",
       "  <tbody>\n",
       "    <tr>\n",
       "      <th>LinearRegression</th>\n",
       "      <th>mean</th>\n",
       "      <td>0.01</td>\n",
       "      <td>0.0</td>\n",
       "      <td>NaN</td>\n",
       "      <td>0.42</td>\n",
       "    </tr>\n",
       "    <tr>\n",
       "      <th>KNN</th>\n",
       "      <th>mean</th>\n",
       "      <td>0.00</td>\n",
       "      <td>0.1</td>\n",
       "      <td>NaN</td>\n",
       "      <td>0.38</td>\n",
       "    </tr>\n",
       "    <tr>\n",
       "      <th>Lasso</th>\n",
       "      <th>mean</th>\n",
       "      <td>0.00</td>\n",
       "      <td>0.0</td>\n",
       "      <td>NaN</td>\n",
       "      <td>0.29</td>\n",
       "    </tr>\n",
       "    <tr>\n",
       "      <th>Ridge</th>\n",
       "      <th>mean</th>\n",
       "      <td>0.00</td>\n",
       "      <td>0.0</td>\n",
       "      <td>NaN</td>\n",
       "      <td>0.31</td>\n",
       "    </tr>\n",
       "  </tbody>\n",
       "</table>\n",
       "</div>"
      ],
      "text/plain": [
       "                       fit_time  score_time  val_score  train_score\n",
       "model            fold                                              \n",
       "LinearRegression mean      0.01         0.0        NaN         0.42\n",
       "KNN              mean      0.00         0.1        NaN         0.38\n",
       "Lasso            mean      0.00         0.0        NaN         0.29\n",
       "Ridge            mean      0.00         0.0        NaN         0.31"
      ]
     },
     "metadata": {},
     "output_type": "display_data"
    },
    {
     "data": {
      "text/html": [
       "<div>\n",
       "<style scoped>\n",
       "    .dataframe tbody tr th:only-of-type {\n",
       "        vertical-align: middle;\n",
       "    }\n",
       "\n",
       "    .dataframe tbody tr th {\n",
       "        vertical-align: top;\n",
       "    }\n",
       "\n",
       "    .dataframe thead th {\n",
       "        text-align: right;\n",
       "    }\n",
       "</style>\n",
       "<table border=\"1\" class=\"dataframe\">\n",
       "  <thead>\n",
       "    <tr style=\"text-align: right;\">\n",
       "      <th></th>\n",
       "      <th></th>\n",
       "      <th>fit_time</th>\n",
       "      <th>score_time</th>\n",
       "      <th>val_score</th>\n",
       "      <th>train_score</th>\n",
       "    </tr>\n",
       "    <tr>\n",
       "      <th>model</th>\n",
       "      <th>fold</th>\n",
       "      <th></th>\n",
       "      <th></th>\n",
       "      <th></th>\n",
       "      <th></th>\n",
       "    </tr>\n",
       "  </thead>\n",
       "  <tbody>\n",
       "    <tr>\n",
       "      <th>LinearRegression</th>\n",
       "      <th>sd</th>\n",
       "      <td>0.02</td>\n",
       "      <td>0.00</td>\n",
       "      <td>NaN</td>\n",
       "      <td>0.01</td>\n",
       "    </tr>\n",
       "    <tr>\n",
       "      <th>KNN</th>\n",
       "      <th>sd</th>\n",
       "      <td>0.00</td>\n",
       "      <td>0.02</td>\n",
       "      <td>NaN</td>\n",
       "      <td>0.01</td>\n",
       "    </tr>\n",
       "    <tr>\n",
       "      <th>Lasso</th>\n",
       "      <th>sd</th>\n",
       "      <td>0.00</td>\n",
       "      <td>0.00</td>\n",
       "      <td>NaN</td>\n",
       "      <td>0.01</td>\n",
       "    </tr>\n",
       "    <tr>\n",
       "      <th>Ridge</th>\n",
       "      <th>sd</th>\n",
       "      <td>0.00</td>\n",
       "      <td>0.00</td>\n",
       "      <td>NaN</td>\n",
       "      <td>0.00</td>\n",
       "    </tr>\n",
       "  </tbody>\n",
       "</table>\n",
       "</div>"
      ],
      "text/plain": [
       "                       fit_time  score_time  val_score  train_score\n",
       "model            fold                                              \n",
       "LinearRegression sd        0.02        0.00        NaN         0.01\n",
       "KNN              sd        0.00        0.02        NaN         0.01\n",
       "Lasso            sd        0.00        0.00        NaN         0.01\n",
       "Ridge            sd        0.00        0.00        NaN         0.00"
      ]
     },
     "metadata": {},
     "output_type": "display_data"
    }
   ],
   "source": [
    "# score of optimal model\n",
    "# Mean values for the train and valid scores        \n",
    "display(all_scores.xs('mean', level=1, drop_level=False))\n",
    "# Std Dev. values for the train and valid scores\n",
    "display(all_scores.xs('sd', level=1, drop_level=False))"
   ]
  },
  {
   "cell_type": "code",
   "execution_count": 135,
   "metadata": {},
   "outputs": [
    {
     "data": {
      "image/png": "[encoded data removed]",
      "text/plain": [
       "<Figure size 864x432 with 2 Axes>"
      ]
     },
     "metadata": {
      "needs_background": "light"
     },
     "output_type": "display_data"
    },
    {
     "data": {
      "text/plain": [
       "(0.25171867680963783, 0.5017157330696714, 0.7684124341091326)"
      ]
     },
     "execution_count": 135,
     "metadata": {},
     "output_type": "execute_result"
    }
   ],
   "source": [
    "import matplotlib.pyplot as plt\n",
    "import seaborn as sns\n",
    "poly_model = poly.fit(Xs_train , ys_train)\n",
    "model_fit(poly_model, Xs_train, ys_train, plot = True)"
   ]
  },
  {
   "cell_type": "code",
   "execution_count": 136,
   "metadata": {},
   "outputs": [
    {
     "data": {
      "image/png": "[encoded data removed]",
      "text/plain": [
       "<Figure size 864x432 with 2 Axes>"
      ]
     },
     "metadata": {
      "needs_background": "light"
     },
     "output_type": "display_data"
    },
    {
     "data": {
      "text/plain": [
       "(0.5489815869020624, 0.7409329166004588, 0.045950740411703994)"
      ]
     },
     "execution_count": 136,
     "metadata": {},
     "output_type": "execute_result"
    }
   ],
   "source": [
    "model_fit(poly_model, Xs_test, ys_test, plot = True)"
   ]
  },
  {
   "cell_type": "code",
   "execution_count": 241,
   "metadata": {},
   "outputs": [],
   "source": [
    "ms = linear_model.Lasso(alpha = best_lasso1).fit(Xs_train, ys_train)\n",
    "coef = get_coefs(ms)[1:]"
   ]
  },
  {
   "cell_type": "code",
   "execution_count": 242,
   "metadata": {},
   "outputs": [],
   "source": [
    "feature = Xs_train.columns"
   ]
  },
  {
   "cell_type": "code",
   "execution_count": 243,
   "metadata": {},
   "outputs": [
    {
     "data": {
      "text/html": [
       "<div>\n",
       "<style scoped>\n",
       "    .dataframe tbody tr th:only-of-type {\n",
       "        vertical-align: middle;\n",
       "    }\n",
       "\n",
       "    .dataframe tbody tr th {\n",
       "        vertical-align: top;\n",
       "    }\n",
       "\n",
       "    .dataframe thead th {\n",
       "        text-align: right;\n",
       "    }\n",
       "</style>\n",
       "<table border=\"1\" class=\"dataframe\">\n",
       "  <thead>\n",
       "    <tr style=\"text-align: right;\">\n",
       "      <th></th>\n",
       "      <th>0</th>\n",
       "    </tr>\n",
       "  </thead>\n",
       "  <tbody>\n",
       "    <tr>\n",
       "      <th>n_speak_char</th>\n",
       "      <td>0.162270</td>\n",
       "    </tr>\n",
       "    <tr>\n",
       "      <th>Angela</th>\n",
       "      <td>0.014946</td>\n",
       "    </tr>\n",
       "    <tr>\n",
       "      <th>Dwight</th>\n",
       "      <td>0.000000</td>\n",
       "    </tr>\n",
       "    <tr>\n",
       "      <th>Jim</th>\n",
       "      <td>0.040230</td>\n",
       "    </tr>\n",
       "    <tr>\n",
       "      <th>Kevin</th>\n",
       "      <td>0.000000</td>\n",
       "    </tr>\n",
       "    <tr>\n",
       "      <th>Michael</th>\n",
       "      <td>0.284409</td>\n",
       "    </tr>\n",
       "    <tr>\n",
       "      <th>Oscar</th>\n",
       "      <td>-0.000000</td>\n",
       "    </tr>\n",
       "    <tr>\n",
       "      <th>Pam</th>\n",
       "      <td>0.000000</td>\n",
       "    </tr>\n",
       "    <tr>\n",
       "      <th>Phyllis</th>\n",
       "      <td>0.000000</td>\n",
       "    </tr>\n",
       "    <tr>\n",
       "      <th>Ryan</th>\n",
       "      <td>0.000000</td>\n",
       "    </tr>\n",
       "    <tr>\n",
       "      <th>Stanley</th>\n",
       "      <td>0.000000</td>\n",
       "    </tr>\n",
       "    <tr>\n",
       "      <th>Kelly</th>\n",
       "      <td>0.000000</td>\n",
       "    </tr>\n",
       "    <tr>\n",
       "      <th>Toby</th>\n",
       "      <td>0.000000</td>\n",
       "    </tr>\n",
       "    <tr>\n",
       "      <th>Meredith</th>\n",
       "      <td>0.000000</td>\n",
       "    </tr>\n",
       "    <tr>\n",
       "      <th>Darryl</th>\n",
       "      <td>-0.000000</td>\n",
       "    </tr>\n",
       "    <tr>\n",
       "      <th>Creed</th>\n",
       "      <td>0.018706</td>\n",
       "    </tr>\n",
       "    <tr>\n",
       "      <th>Andy</th>\n",
       "      <td>-0.000000</td>\n",
       "    </tr>\n",
       "    <tr>\n",
       "      <th>Erin</th>\n",
       "      <td>-0.182638</td>\n",
       "    </tr>\n",
       "    <tr>\n",
       "      <th>Greg Daniels</th>\n",
       "      <td>0.006043</td>\n",
       "    </tr>\n",
       "    <tr>\n",
       "      <th>Jeffrey Blitz</th>\n",
       "      <td>-0.000000</td>\n",
       "    </tr>\n",
       "    <tr>\n",
       "      <th>Ken Kwapis</th>\n",
       "      <td>0.000000</td>\n",
       "    </tr>\n",
       "    <tr>\n",
       "      <th>Ken Whittingham</th>\n",
       "      <td>0.000000</td>\n",
       "    </tr>\n",
       "    <tr>\n",
       "      <th>Paul Feig</th>\n",
       "      <td>0.049015</td>\n",
       "    </tr>\n",
       "    <tr>\n",
       "      <th>B.J. Novak</th>\n",
       "      <td>0.000000</td>\n",
       "    </tr>\n",
       "    <tr>\n",
       "      <th>Gene Stupnitsky;Lee Eisenberg</th>\n",
       "      <td>0.000000</td>\n",
       "    </tr>\n",
       "    <tr>\n",
       "      <th>Greg Daniels.1</th>\n",
       "      <td>0.029855</td>\n",
       "    </tr>\n",
       "    <tr>\n",
       "      <th>Michael Schur</th>\n",
       "      <td>-0.000000</td>\n",
       "    </tr>\n",
       "    <tr>\n",
       "      <th>Paul Lieberstein</th>\n",
       "      <td>0.003499</td>\n",
       "    </tr>\n",
       "    <tr>\n",
       "      <th>pos_score</th>\n",
       "      <td>0.000000</td>\n",
       "    </tr>\n",
       "    <tr>\n",
       "      <th>neg_score</th>\n",
       "      <td>-0.000000</td>\n",
       "    </tr>\n",
       "  </tbody>\n",
       "</table>\n",
       "</div>"
      ],
      "text/plain": [
       "                                      0\n",
       "n_speak_char                   0.162270\n",
       "Angela                         0.014946\n",
       "Dwight                         0.000000\n",
       "Jim                            0.040230\n",
       "Kevin                          0.000000\n",
       "Michael                        0.284409\n",
       "Oscar                         -0.000000\n",
       "Pam                            0.000000\n",
       "Phyllis                        0.000000\n",
       "Ryan                           0.000000\n",
       "Stanley                        0.000000\n",
       "Kelly                          0.000000\n",
       "Toby                           0.000000\n",
       "Meredith                       0.000000\n",
       "Darryl                        -0.000000\n",
       "Creed                          0.018706\n",
       "Andy                          -0.000000\n",
       "Erin                          -0.182638\n",
       "Greg Daniels                   0.006043\n",
       "Jeffrey Blitz                 -0.000000\n",
       "Ken Kwapis                     0.000000\n",
       "Ken Whittingham                0.000000\n",
       "Paul Feig                      0.049015\n",
       "B.J. Novak                     0.000000\n",
       "Gene Stupnitsky;Lee Eisenberg  0.000000\n",
       "Greg Daniels.1                 0.029855\n",
       "Michael Schur                 -0.000000\n",
       "Paul Lieberstein               0.003499\n",
       "pos_score                      0.000000\n",
       "neg_score                     -0.000000"
      ]
     },
     "execution_count": 243,
     "metadata": {},
     "output_type": "execute_result"
    }
   ],
   "source": [
    "pd.DataFrame(coef, feature)"
   ]
  },
  {
   "cell_type": "code",
   "execution_count": 114,
   "metadata": {},
   "outputs": [],
   "source": [
    "alphas = np.logspace(-3, 1, num=200)\n",
    "betas = [] # Store coefficients\n",
    "rmses = [] # Store validation rmses\n",
    "\n",
    "for a in alphas:\n",
    "    m = make_pipeline(\n",
    "        \n",
    "        linear_model.Lasso(alpha = a)\n",
    "    ).fit(Xs_train, ys_train)\n",
    "\n",
    "    # Again ignore the intercept since it isn't included in the penalty\n",
    "    betas.append(get_coefs(m)[1:])  \n",
    "    rmses.append(model_fit(m, Xs_test, ys_test))\n",
    "\n",
    "res = pd.DataFrame(\n",
    "    data = betas,       # Coefficients\n",
    "    columns = Xs_train.columns, # Coefficient names\n",
    ").assign(\n",
    "    alpha = alphas,     # Add alpahs\n",
    "    rmse = rmses        # Add validation rmses\n",
    ").melt(\n",
    "    id_vars = ('alpha', 'rmse') # Move columns into the rows\n",
    ")"
   ]
  },
  {
   "cell_type": "code",
   "execution_count": 117,
   "metadata": {},
   "outputs": [
    {
     "data": {
      "text/html": [
       "<div>\n",
       "<style scoped>\n",
       "    .dataframe tbody tr th:only-of-type {\n",
       "        vertical-align: middle;\n",
       "    }\n",
       "\n",
       "    .dataframe tbody tr th {\n",
       "        vertical-align: top;\n",
       "    }\n",
       "\n",
       "    .dataframe thead th {\n",
       "        text-align: right;\n",
       "    }\n",
       "</style>\n",
       "<table border=\"1\" class=\"dataframe\">\n",
       "  <thead>\n",
       "    <tr style=\"text-align: right;\">\n",
       "      <th></th>\n",
       "      <th>alpha</th>\n",
       "      <th>rmse</th>\n",
       "      <th>variable</th>\n",
       "      <th>value</th>\n",
       "    </tr>\n",
       "  </thead>\n",
       "  <tbody>\n",
       "    <tr>\n",
       "      <th>0</th>\n",
       "      <td>0.001000</td>\n",
       "      <td>(0.5796614439181667, 0.7613550051836309, -0.00...</td>\n",
       "      <td>n_lines</td>\n",
       "      <td>0.021990</td>\n",
       "    </tr>\n",
       "    <tr>\n",
       "      <th>1</th>\n",
       "      <td>0.001047</td>\n",
       "      <td>(0.5793864902243633, 0.7611744151141466, -0.00...</td>\n",
       "      <td>n_lines</td>\n",
       "      <td>0.022087</td>\n",
       "    </tr>\n",
       "    <tr>\n",
       "      <th>2</th>\n",
       "      <td>0.001097</td>\n",
       "      <td>(0.5790988665692235, 0.7609854575280814, -0.00...</td>\n",
       "      <td>n_lines</td>\n",
       "      <td>0.022188</td>\n",
       "    </tr>\n",
       "    <tr>\n",
       "      <th>3</th>\n",
       "      <td>0.001149</td>\n",
       "      <td>(0.5787980071799401, 0.7607877543572452, -0.00...</td>\n",
       "      <td>n_lines</td>\n",
       "      <td>0.022295</td>\n",
       "    </tr>\n",
       "    <tr>\n",
       "      <th>4</th>\n",
       "      <td>0.001203</td>\n",
       "      <td>(0.5784833225745359, 0.7605809112609493, -0.00...</td>\n",
       "      <td>n_lines</td>\n",
       "      <td>0.022406</td>\n",
       "    </tr>\n",
       "    <tr>\n",
       "      <th>...</th>\n",
       "      <td>...</td>\n",
       "      <td>...</td>\n",
       "      <td>...</td>\n",
       "      <td>...</td>\n",
       "    </tr>\n",
       "    <tr>\n",
       "      <th>6395</th>\n",
       "      <td>8.309942</td>\n",
       "      <td>(0.6835304484304126, 0.8267590026303993, -0.18...</td>\n",
       "      <td>neg_score</td>\n",
       "      <td>-0.000000</td>\n",
       "    </tr>\n",
       "    <tr>\n",
       "      <th>6396</th>\n",
       "      <td>8.703591</td>\n",
       "      <td>(0.6835304484304126, 0.8267590026303993, -0.18...</td>\n",
       "      <td>neg_score</td>\n",
       "      <td>-0.000000</td>\n",
       "    </tr>\n",
       "    <tr>\n",
       "      <th>6397</th>\n",
       "      <td>9.115888</td>\n",
       "      <td>(0.6835304484304126, 0.8267590026303993, -0.18...</td>\n",
       "      <td>neg_score</td>\n",
       "      <td>-0.000000</td>\n",
       "    </tr>\n",
       "    <tr>\n",
       "      <th>6398</th>\n",
       "      <td>9.547716</td>\n",
       "      <td>(0.6835304484304126, 0.8267590026303993, -0.18...</td>\n",
       "      <td>neg_score</td>\n",
       "      <td>-0.000000</td>\n",
       "    </tr>\n",
       "    <tr>\n",
       "      <th>6399</th>\n",
       "      <td>10.000000</td>\n",
       "      <td>(0.6835304484304126, 0.8267590026303993, -0.18...</td>\n",
       "      <td>neg_score</td>\n",
       "      <td>-0.000000</td>\n",
       "    </tr>\n",
       "  </tbody>\n",
       "</table>\n",
       "<p>6400 rows × 4 columns</p>\n",
       "</div>"
      ],
      "text/plain": [
       "          alpha                                               rmse   variable  \\\n",
       "0      0.001000  (0.5796614439181667, 0.7613550051836309, -0.00...    n_lines   \n",
       "1      0.001047  (0.5793864902243633, 0.7611744151141466, -0.00...    n_lines   \n",
       "2      0.001097  (0.5790988665692235, 0.7609854575280814, -0.00...    n_lines   \n",
       "3      0.001149  (0.5787980071799401, 0.7607877543572452, -0.00...    n_lines   \n",
       "4      0.001203  (0.5784833225745359, 0.7605809112609493, -0.00...    n_lines   \n",
       "...         ...                                                ...        ...   \n",
       "6395   8.309942  (0.6835304484304126, 0.8267590026303993, -0.18...  neg_score   \n",
       "6396   8.703591  (0.6835304484304126, 0.8267590026303993, -0.18...  neg_score   \n",
       "6397   9.115888  (0.6835304484304126, 0.8267590026303993, -0.18...  neg_score   \n",
       "6398   9.547716  (0.6835304484304126, 0.8267590026303993, -0.18...  neg_score   \n",
       "6399  10.000000  (0.6835304484304126, 0.8267590026303993, -0.18...  neg_score   \n",
       "\n",
       "         value  \n",
       "0     0.021990  \n",
       "1     0.022087  \n",
       "2     0.022188  \n",
       "3     0.022295  \n",
       "4     0.022406  \n",
       "...        ...  \n",
       "6395 -0.000000  \n",
       "6396 -0.000000  \n",
       "6397 -0.000000  \n",
       "6398 -0.000000  \n",
       "6399 -0.000000  \n",
       "\n",
       "[6400 rows x 4 columns]"
      ]
     },
     "execution_count": 117,
     "metadata": {},
     "output_type": "execute_result"
    }
   ],
   "source": [
    "res"
   ]
  },
  {
   "cell_type": "code",
   "execution_count": 115,
   "metadata": {},
   "outputs": [],
   "source": [
    "cv_res = pd.DataFrame(\n",
    "    data = gs.cv_results_\n",
    ").filter(\n",
    "    # Extract the split#_test_score and mean_test_score columns\n",
    "    regex = '(split[0-9]+|mean)_test_score'\n",
    ").assign(\n",
    "    # Add the alphas as a column\n",
    "    alpha = alphas\n",
    ")\n",
    "\n",
    "cv_res.update(\n",
    "    # Convert negative rmses to positive\n",
    "    -1 * cv_res.filter(regex = '_test_score')\n",
    ")"
   ]
  },
  {
   "cell_type": "code",
   "execution_count": 116,
   "metadata": {},
   "outputs": [
    {
     "data": {
      "image/png": "[encoded data removed]",
      "text/plain": [
       "<Figure size 432x288 with 1 Axes>"
      ]
     },
     "metadata": {
      "needs_background": "light"
     },
     "output_type": "display_data"
    }
   ],
   "source": [
    "sns.lineplot(x='alpha', y='mean_test_score', data=cv_res)\n",
    "plt.show()"
   ]
  },
  {
   "cell_type": "markdown",
   "metadata": {},
   "source": [
    "# 2 Scaled data"
   ]
  },
  {
   "cell_type": "markdown",
   "metadata": {},
   "source": [
    "##  2.1 Power_transform"
   ]
  },
  {
   "cell_type": "code",
   "execution_count": 84,
   "metadata": {},
   "outputs": [],
   "source": [
    "num_index = list(range(0,X.shape[1]))\n",
    "del num_index[20:30]\n",
    "factor_index = list(range(20,30))"
   ]
  },
  {
   "cell_type": "code",
   "execution_count": 21,
   "metadata": {},
   "outputs": [
    {
     "data": {
      "text/html": [
       "<div>\n",
       "<style scoped>\n",
       "    .dataframe tbody tr th:only-of-type {\n",
       "        vertical-align: middle;\n",
       "    }\n",
       "\n",
       "    .dataframe tbody tr th {\n",
       "        vertical-align: top;\n",
       "    }\n",
       "\n",
       "    .dataframe thead th {\n",
       "        text-align: right;\n",
       "    }\n",
       "</style>\n",
       "<table border=\"1\" class=\"dataframe\">\n",
       "  <thead>\n",
       "    <tr style=\"text-align: right;\">\n",
       "      <th></th>\n",
       "      <th>Greg Daniels</th>\n",
       "      <th>Jeffrey Blitz</th>\n",
       "      <th>Ken Kwapis</th>\n",
       "      <th>Ken Whittingham</th>\n",
       "      <th>Paul Feig</th>\n",
       "      <th>B.J. Novak</th>\n",
       "      <th>Gene Stupnitsky;Lee Eisenberg</th>\n",
       "      <th>Greg Daniels.1</th>\n",
       "      <th>Michael Schur</th>\n",
       "      <th>Paul Lieberstein</th>\n",
       "    </tr>\n",
       "  </thead>\n",
       "  <tbody>\n",
       "    <tr>\n",
       "      <th>0</th>\n",
       "      <td>0</td>\n",
       "      <td>0</td>\n",
       "      <td>1</td>\n",
       "      <td>0</td>\n",
       "      <td>0</td>\n",
       "      <td>0</td>\n",
       "      <td>0</td>\n",
       "      <td>0</td>\n",
       "      <td>0</td>\n",
       "      <td>0</td>\n",
       "    </tr>\n",
       "    <tr>\n",
       "      <th>1</th>\n",
       "      <td>0</td>\n",
       "      <td>0</td>\n",
       "      <td>1</td>\n",
       "      <td>0</td>\n",
       "      <td>0</td>\n",
       "      <td>1</td>\n",
       "      <td>0</td>\n",
       "      <td>0</td>\n",
       "      <td>0</td>\n",
       "      <td>0</td>\n",
       "    </tr>\n",
       "    <tr>\n",
       "      <th>2</th>\n",
       "      <td>0</td>\n",
       "      <td>0</td>\n",
       "      <td>0</td>\n",
       "      <td>1</td>\n",
       "      <td>0</td>\n",
       "      <td>0</td>\n",
       "      <td>0</td>\n",
       "      <td>0</td>\n",
       "      <td>0</td>\n",
       "      <td>1</td>\n",
       "    </tr>\n",
       "    <tr>\n",
       "      <th>3</th>\n",
       "      <td>0</td>\n",
       "      <td>0</td>\n",
       "      <td>0</td>\n",
       "      <td>0</td>\n",
       "      <td>0</td>\n",
       "      <td>0</td>\n",
       "      <td>0</td>\n",
       "      <td>0</td>\n",
       "      <td>1</td>\n",
       "      <td>0</td>\n",
       "    </tr>\n",
       "    <tr>\n",
       "      <th>4</th>\n",
       "      <td>1</td>\n",
       "      <td>0</td>\n",
       "      <td>0</td>\n",
       "      <td>0</td>\n",
       "      <td>0</td>\n",
       "      <td>0</td>\n",
       "      <td>0</td>\n",
       "      <td>1</td>\n",
       "      <td>0</td>\n",
       "      <td>0</td>\n",
       "    </tr>\n",
       "  </tbody>\n",
       "</table>\n",
       "</div>"
      ],
      "text/plain": [
       "   Greg Daniels  Jeffrey Blitz  Ken Kwapis  Ken Whittingham  Paul Feig  \\\n",
       "0             0              0           1                0          0   \n",
       "1             0              0           1                0          0   \n",
       "2             0              0           0                1          0   \n",
       "3             0              0           0                0          0   \n",
       "4             1              0           0                0          0   \n",
       "\n",
       "   B.J. Novak  Gene Stupnitsky;Lee Eisenberg  Greg Daniels.1  Michael Schur  \\\n",
       "0           0                              0               0              0   \n",
       "1           1                              0               0              0   \n",
       "2           0                              0               0              0   \n",
       "3           0                              0               0              1   \n",
       "4           0                              0               1              0   \n",
       "\n",
       "   Paul Lieberstein  \n",
       "0                 0  \n",
       "1                 0  \n",
       "2                 1  \n",
       "3                 0  \n",
       "4                 0  "
      ]
     },
     "execution_count": 21,
     "metadata": {},
     "output_type": "execute_result"
    }
   ],
   "source": [
    "X.iloc[:,factor_index].head()"
   ]
  },
  {
   "cell_type": "code",
   "execution_count": 85,
   "metadata": {},
   "outputs": [],
   "source": [
    "power = PowerTransformer()\n",
    "\n",
    "trans_processing = ColumnTransformer([\n",
    "    (\"power_transformer\", power, num_index),\n",
    "    ('factor', 'passthrough', factor_index)\n",
    "])\n",
    "X_train_pow = trans_processing.fit_transform(X_train)"
   ]
  },
  {
   "cell_type": "code",
   "execution_count": 16,
   "metadata": {},
   "outputs": [
    {
     "name": "stdout",
     "output_type": "stream",
     "text": [
      "{'ridge__alpha': 60.0}\n"
     ]
    }
   ],
   "source": [
    "# find Ridge's optimal alpha\n",
    "alphas = np.linspace(0, 60, num=200)\n",
    "gs = GridSearchCV(\n",
    "    make_pipeline(\n",
    "    linear_model.Ridge()),\n",
    "    param_grid = {'ridge__alpha': alphas},\n",
    "    cv = KFold(5, shuffle = True, random_state = 42),\n",
    "    scoring = \"neg_root_mean_squared_error\"\n",
    ")\n",
    "\n",
    "gs.fit(X_train_pow, y_train)\n",
    "print(gs.best_params_)"
   ]
  },
  {
   "cell_type": "code",
   "execution_count": 81,
   "metadata": {},
   "outputs": [],
   "source": [
    "best_ridge = 60.0"
   ]
  },
  {
   "cell_type": "code",
   "execution_count": 18,
   "metadata": {},
   "outputs": [
    {
     "name": "stdout",
     "output_type": "stream",
     "text": [
      "{'lasso__alpha': 0.04247571552536898}\n"
     ]
    }
   ],
   "source": [
    "# find lasso's optimal alpha\n",
    "alphas = np.logspace(-3, 1, num=200)\n",
    "gs = GridSearchCV(\n",
    "    make_pipeline(\n",
    "    linear_model.Lasso()),\n",
    "    param_grid = {'lasso__alpha': alphas},\n",
    "    cv = KFold(5, shuffle = True, random_state = 42),\n",
    "    scoring = \"neg_root_mean_squared_error\"\n",
    ")\n",
    "\n",
    "gs.fit(X_train_pow, y_train)\n",
    "print(gs.best_params_)"
   ]
  },
  {
   "cell_type": "code",
   "execution_count": 82,
   "metadata": {},
   "outputs": [],
   "source": [
    "best_lasso = 0.04247571552536898"
   ]
  },
  {
   "cell_type": "code",
   "execution_count": 86,
   "metadata": {},
   "outputs": [],
   "source": [
    "# Description of different models via pipeline\n",
    "linear_pipe = Pipeline(steps = [(\"trans_processing\", trans_processing),(\"model\", LinearRegression())])\n",
    "knn_pipe = Pipeline(steps = [(\"trans_processing\", trans_processing), (\"model\", KNeighborsRegressor(n_neighbors=3))])\n",
    "lasso_pipe = Pipeline(steps = [(\"trans_processing\", trans_processing),(\"model\", linear_model.Lasso(alpha = best_lasso))])\n",
    "ridge_pipe = Pipeline(steps = [(\"trans_processing\", trans_processing), (\"model\", linear_model.Ridge(alpha = best_ridge))])\n",
    "\n",
    "\n",
    "# Collection of all models\n",
    "model_dict = {\n",
    "    'LinearRegression': linear_pipe,\n",
    "    'KNN': knn_pipe,\n",
    "    'Lasso': lasso_pipe,\n",
    "    'Ridge': ridge_pipe}\n",
    "\n",
    "for i, model_name in enumerate(model_dict): \n",
    "    scores = cross_validate(model_dict[model_name], X_train, y_train, cv = kf, return_train_score = True)\n",
    "    scores_df = tidy_scores(scores)\n",
    "    scores_df['model'] = model_name\n",
    "    scores_df = scores_df.set_index(\"model\", append=True)\n",
    "    scores_df = scores_df.swaplevel()\n",
    "    \n",
    "    if i == 0:\n",
    "        all_scores = scores_df\n",
    "    else:\n",
    "        all_scores = pd.concat([all_scores, scores_df], axis=0)"
   ]
  },
  {
   "cell_type": "code",
   "execution_count": 21,
   "metadata": {},
   "outputs": [
    {
     "data": {
      "text/html": [
       "<div>\n",
       "<style scoped>\n",
       "    .dataframe tbody tr th:only-of-type {\n",
       "        vertical-align: middle;\n",
       "    }\n",
       "\n",
       "    .dataframe tbody tr th {\n",
       "        vertical-align: top;\n",
       "    }\n",
       "\n",
       "    .dataframe thead th {\n",
       "        text-align: right;\n",
       "    }\n",
       "</style>\n",
       "<table border=\"1\" class=\"dataframe\">\n",
       "  <thead>\n",
       "    <tr style=\"text-align: right;\">\n",
       "      <th></th>\n",
       "      <th></th>\n",
       "      <th>fit_time</th>\n",
       "      <th>score_time</th>\n",
       "      <th>val_score</th>\n",
       "      <th>train_score</th>\n",
       "    </tr>\n",
       "    <tr>\n",
       "      <th>model</th>\n",
       "      <th>fold</th>\n",
       "      <th></th>\n",
       "      <th></th>\n",
       "      <th></th>\n",
       "      <th></th>\n",
       "    </tr>\n",
       "  </thead>\n",
       "  <tbody>\n",
       "    <tr>\n",
       "      <th>LinearRegression</th>\n",
       "      <th>mean</th>\n",
       "      <td>0.10</td>\n",
       "      <td>0.01</td>\n",
       "      <td>0.01</td>\n",
       "      <td>0.51</td>\n",
       "    </tr>\n",
       "    <tr>\n",
       "      <th>KNN</th>\n",
       "      <th>mean</th>\n",
       "      <td>0.11</td>\n",
       "      <td>0.11</td>\n",
       "      <td>0.09</td>\n",
       "      <td>0.54</td>\n",
       "    </tr>\n",
       "    <tr>\n",
       "      <th>Lasso</th>\n",
       "      <th>mean</th>\n",
       "      <td>0.20</td>\n",
       "      <td>0.01</td>\n",
       "      <td>0.23</td>\n",
       "      <td>0.39</td>\n",
       "    </tr>\n",
       "    <tr>\n",
       "      <th>Ridge</th>\n",
       "      <th>mean</th>\n",
       "      <td>0.18</td>\n",
       "      <td>0.02</td>\n",
       "      <td>0.21</td>\n",
       "      <td>0.42</td>\n",
       "    </tr>\n",
       "  </tbody>\n",
       "</table>\n",
       "</div>"
      ],
      "text/plain": [
       "                       fit_time  score_time  val_score  train_score\n",
       "model            fold                                              \n",
       "LinearRegression mean      0.10        0.01       0.01         0.51\n",
       "KNN              mean      0.11        0.11       0.09         0.54\n",
       "Lasso            mean      0.20        0.01       0.23         0.39\n",
       "Ridge            mean      0.18        0.02       0.21         0.42"
      ]
     },
     "metadata": {},
     "output_type": "display_data"
    },
    {
     "data": {
      "text/html": [
       "<div>\n",
       "<style scoped>\n",
       "    .dataframe tbody tr th:only-of-type {\n",
       "        vertical-align: middle;\n",
       "    }\n",
       "\n",
       "    .dataframe tbody tr th {\n",
       "        vertical-align: top;\n",
       "    }\n",
       "\n",
       "    .dataframe thead th {\n",
       "        text-align: right;\n",
       "    }\n",
       "</style>\n",
       "<table border=\"1\" class=\"dataframe\">\n",
       "  <thead>\n",
       "    <tr style=\"text-align: right;\">\n",
       "      <th></th>\n",
       "      <th></th>\n",
       "      <th>fit_time</th>\n",
       "      <th>score_time</th>\n",
       "      <th>val_score</th>\n",
       "      <th>train_score</th>\n",
       "    </tr>\n",
       "    <tr>\n",
       "      <th>model</th>\n",
       "      <th>fold</th>\n",
       "      <th></th>\n",
       "      <th></th>\n",
       "      <th></th>\n",
       "      <th></th>\n",
       "    </tr>\n",
       "  </thead>\n",
       "  <tbody>\n",
       "    <tr>\n",
       "      <th>LinearRegression</th>\n",
       "      <th>sd</th>\n",
       "      <td>0.03</td>\n",
       "      <td>0.00</td>\n",
       "      <td>0.36</td>\n",
       "      <td>0.03</td>\n",
       "    </tr>\n",
       "    <tr>\n",
       "      <th>KNN</th>\n",
       "      <th>sd</th>\n",
       "      <td>0.05</td>\n",
       "      <td>0.05</td>\n",
       "      <td>0.16</td>\n",
       "      <td>0.02</td>\n",
       "    </tr>\n",
       "    <tr>\n",
       "      <th>Lasso</th>\n",
       "      <th>sd</th>\n",
       "      <td>0.04</td>\n",
       "      <td>0.01</td>\n",
       "      <td>0.06</td>\n",
       "      <td>0.02</td>\n",
       "    </tr>\n",
       "    <tr>\n",
       "      <th>Ridge</th>\n",
       "      <th>sd</th>\n",
       "      <td>0.02</td>\n",
       "      <td>0.00</td>\n",
       "      <td>0.11</td>\n",
       "      <td>0.02</td>\n",
       "    </tr>\n",
       "  </tbody>\n",
       "</table>\n",
       "</div>"
      ],
      "text/plain": [
       "                       fit_time  score_time  val_score  train_score\n",
       "model            fold                                              \n",
       "LinearRegression sd        0.03        0.00       0.36         0.03\n",
       "KNN              sd        0.05        0.05       0.16         0.02\n",
       "Lasso            sd        0.04        0.01       0.06         0.02\n",
       "Ridge            sd        0.02        0.00       0.11         0.02"
      ]
     },
     "metadata": {},
     "output_type": "display_data"
    }
   ],
   "source": [
    "# Mean values for the train and valid scores        \n",
    "display(all_scores.xs('mean', level=1, drop_level=False))\n",
    "# Std Dev. values for the train and valid scores\n",
    "display(all_scores.xs('sd', level=1, drop_level=False))"
   ]
  },
  {
   "cell_type": "code",
   "execution_count": 88,
   "metadata": {},
   "outputs": [
    {
     "data": {
      "text/plain": [
       "array([ 0.05696723,  0.03498764,  0.04094859,  0.00874709,  0.00526893,\n",
       "        0.02676939,  0.        ,  0.18597711,  0.        ,  0.        ,\n",
       "        0.00889284, -0.        ,  0.01153794,  0.        ,  0.        ,\n",
       "        0.        ,  0.        ,  0.01133891, -0.        , -0.09302592,\n",
       "        0.        , -0.        ,  0.        ,  0.        ,  0.        ,\n",
       "       -0.        ,  0.        ,  0.        ,  0.        ,  0.        ,\n",
       "       -0.        ,  0.        ])"
      ]
     },
     "execution_count": 88,
     "metadata": {},
     "output_type": "execute_result"
    }
   ],
   "source": [
    "m = linear_model.Lasso(alpha = best_lasso).fit(X_train_pow, y_train)\n",
    "get_coefs(m)[1:]"
   ]
  },
  {
   "cell_type": "code",
   "execution_count": 94,
   "metadata": {},
   "outputs": [
    {
     "data": {
      "text/plain": [
       "Index(['n_lines', 'n_directions', 'n_speak_char', 'Angela', 'Dwight', 'Jim',\n",
       "       'Kevin', 'Michael', 'Oscar', 'Pam', 'Phyllis', 'Ryan', 'Stanley',\n",
       "       'Kelly', 'Toby', 'Meredith', 'Darryl', 'Creed', 'Andy', 'Erin',\n",
       "       'pos_score', 'neg_score', 'Greg Daniels', 'Jeffrey Blitz', 'Ken Kwapis',\n",
       "       'Ken Whittingham', 'Paul Feig', 'B.J. Novak',\n",
       "       'Gene Stupnitsky;Lee Eisenberg', 'Greg Daniels.1', 'Michael Schur',\n",
       "       'Paul Lieberstein'],\n",
       "      dtype='object')"
      ]
     },
     "execution_count": 94,
     "metadata": {},
     "output_type": "execute_result"
    }
   ],
   "source": [
    "X_train.iloc[:,num_index + factor_index].columns"
   ]
  },
  {
   "cell_type": "code",
   "execution_count": 22,
   "metadata": {},
   "outputs": [
    {
     "data": {
      "image/png": "[encoded data removed]",
      "text/plain": [
       "<Figure size 864x432 with 2 Axes>"
      ]
     },
     "metadata": {
      "needs_background": "light"
     },
     "output_type": "display_data"
    },
    {
     "data": {
      "text/plain": [
       "(0.1929523552667786, 0.43926342354762316, 0.37693440492453245)"
      ]
     },
     "execution_count": 22,
     "metadata": {},
     "output_type": "execute_result"
    }
   ],
   "source": [
    "import matplotlib.pyplot as plt\n",
    "import seaborn as sns\n",
    "lasso_model = lasso_pipe.fit(X_train , y_train)\n",
    "model_fit(lasso_model, X_train, y_train, plot = True)"
   ]
  },
  {
   "cell_type": "code",
   "execution_count": 23,
   "metadata": {},
   "outputs": [
    {
     "data": {
      "image/png": "[encoded data removed]",
      "text/plain": [
       "<Figure size 864x432 with 2 Axes>"
      ]
     },
     "metadata": {
      "needs_background": "light"
     },
     "output_type": "display_data"
    },
    {
     "data": {
      "text/plain": [
       "(0.13069800257279188, 0.36152178713431904, 0.20098257529588714)"
      ]
     },
     "execution_count": 23,
     "metadata": {},
     "output_type": "execute_result"
    }
   ],
   "source": [
    "model_fit(lasso_model, X_test, y_test, plot = True)"
   ]
  },
  {
   "cell_type": "code",
   "execution_count": 24,
   "metadata": {},
   "outputs": [
    {
     "data": {
      "image/png": "[encoded data removed]",
      "text/plain": [
       "<Figure size 864x432 with 2 Axes>"
      ]
     },
     "metadata": {
      "needs_background": "light"
     },
     "output_type": "display_data"
    },
    {
     "data": {
      "text/plain": [
       "(0.16138846797311746, 0.40173183589692946, 0.4788578678038996)"
      ]
     },
     "execution_count": 24,
     "metadata": {},
     "output_type": "execute_result"
    }
   ],
   "source": [
    "linear_model = linear_pipe.fit(X_train,y_train)\n",
    "model_fit(linear_model, X_train, y_train, plot = True)"
   ]
  },
  {
   "cell_type": "code",
   "execution_count": 25,
   "metadata": {},
   "outputs": [
    {
     "data": {
      "image/png": "[encoded data removed]",
      "text/plain": [
       "<Figure size 864x432 with 2 Axes>"
      ]
     },
     "metadata": {
      "needs_background": "light"
     },
     "output_type": "display_data"
    },
    {
     "data": {
      "text/plain": [
       "(0.1665981995433543, 0.40816442709201683, -0.018491956564790968)"
      ]
     },
     "execution_count": 25,
     "metadata": {},
     "output_type": "execute_result"
    }
   ],
   "source": [
    "model_fit(linear_model, X_test, y_test, plot = True)"
   ]
  },
  {
   "cell_type": "markdown",
   "metadata": {},
   "source": [
    "## 2.3.1 Power_transform with total vote"
   ]
  },
  {
   "cell_type": "code",
   "execution_count": 26,
   "metadata": {},
   "outputs": [],
   "source": [
    "dff = pd.read_csv(\"the_office.csv\")\n",
    "Xv = X.copy()\n",
    "Xv['total_votes'] = dff['total_votes']\n",
    "Xv_train, Xv_test, y_train, y_test = train_test_split(Xv, y, test_size = 0.2, random_state = 42)"
   ]
  },
  {
   "cell_type": "code",
   "execution_count": 27,
   "metadata": {},
   "outputs": [
    {
     "data": {
      "text/html": [
       "<div>\n",
       "<style scoped>\n",
       "    .dataframe tbody tr th:only-of-type {\n",
       "        vertical-align: middle;\n",
       "    }\n",
       "\n",
       "    .dataframe tbody tr th {\n",
       "        vertical-align: top;\n",
       "    }\n",
       "\n",
       "    .dataframe thead th {\n",
       "        text-align: right;\n",
       "    }\n",
       "</style>\n",
       "<table border=\"1\" class=\"dataframe\">\n",
       "  <thead>\n",
       "    <tr style=\"text-align: right;\">\n",
       "      <th></th>\n",
       "      <th>Greg Daniels</th>\n",
       "      <th>Jeffrey Blitz</th>\n",
       "      <th>Ken Kwapis</th>\n",
       "      <th>Ken Whittingham</th>\n",
       "      <th>Paul Feig</th>\n",
       "      <th>B.J. Novak</th>\n",
       "      <th>Gene Stupnitsky;Lee Eisenberg</th>\n",
       "      <th>Greg Daniels.1</th>\n",
       "      <th>Michael Schur</th>\n",
       "      <th>Paul Lieberstein</th>\n",
       "    </tr>\n",
       "  </thead>\n",
       "  <tbody>\n",
       "    <tr>\n",
       "      <th>0</th>\n",
       "      <td>0</td>\n",
       "      <td>0</td>\n",
       "      <td>1</td>\n",
       "      <td>0</td>\n",
       "      <td>0</td>\n",
       "      <td>0</td>\n",
       "      <td>0</td>\n",
       "      <td>0</td>\n",
       "      <td>0</td>\n",
       "      <td>0</td>\n",
       "    </tr>\n",
       "    <tr>\n",
       "      <th>1</th>\n",
       "      <td>0</td>\n",
       "      <td>0</td>\n",
       "      <td>1</td>\n",
       "      <td>0</td>\n",
       "      <td>0</td>\n",
       "      <td>1</td>\n",
       "      <td>0</td>\n",
       "      <td>0</td>\n",
       "      <td>0</td>\n",
       "      <td>0</td>\n",
       "    </tr>\n",
       "    <tr>\n",
       "      <th>2</th>\n",
       "      <td>0</td>\n",
       "      <td>0</td>\n",
       "      <td>0</td>\n",
       "      <td>1</td>\n",
       "      <td>0</td>\n",
       "      <td>0</td>\n",
       "      <td>0</td>\n",
       "      <td>0</td>\n",
       "      <td>0</td>\n",
       "      <td>1</td>\n",
       "    </tr>\n",
       "    <tr>\n",
       "      <th>3</th>\n",
       "      <td>0</td>\n",
       "      <td>0</td>\n",
       "      <td>0</td>\n",
       "      <td>0</td>\n",
       "      <td>0</td>\n",
       "      <td>0</td>\n",
       "      <td>0</td>\n",
       "      <td>0</td>\n",
       "      <td>1</td>\n",
       "      <td>0</td>\n",
       "    </tr>\n",
       "    <tr>\n",
       "      <th>4</th>\n",
       "      <td>1</td>\n",
       "      <td>0</td>\n",
       "      <td>0</td>\n",
       "      <td>0</td>\n",
       "      <td>0</td>\n",
       "      <td>0</td>\n",
       "      <td>0</td>\n",
       "      <td>1</td>\n",
       "      <td>0</td>\n",
       "      <td>0</td>\n",
       "    </tr>\n",
       "  </tbody>\n",
       "</table>\n",
       "</div>"
      ],
      "text/plain": [
       "   Greg Daniels  Jeffrey Blitz  Ken Kwapis  Ken Whittingham  Paul Feig  \\\n",
       "0             0              0           1                0          0   \n",
       "1             0              0           1                0          0   \n",
       "2             0              0           0                1          0   \n",
       "3             0              0           0                0          0   \n",
       "4             1              0           0                0          0   \n",
       "\n",
       "   B.J. Novak  Gene Stupnitsky;Lee Eisenberg  Greg Daniels.1  Michael Schur  \\\n",
       "0           0                              0               0              0   \n",
       "1           1                              0               0              0   \n",
       "2           0                              0               0              0   \n",
       "3           0                              0               0              1   \n",
       "4           0                              0               1              0   \n",
       "\n",
       "   Paul Lieberstein  \n",
       "0                 0  \n",
       "1                 0  \n",
       "2                 1  \n",
       "3                 0  \n",
       "4                 0  "
      ]
     },
     "execution_count": 27,
     "metadata": {},
     "output_type": "execute_result"
    }
   ],
   "source": [
    "num_index = list(range(0,Xv.shape[1]))\n",
    "del num_index[20:30]\n",
    "factor_index = list(range(20,30))\n",
    "Xv.iloc[:,factor_index].head()"
   ]
  },
  {
   "cell_type": "code",
   "execution_count": 28,
   "metadata": {},
   "outputs": [],
   "source": [
    "trans_processing = ColumnTransformer([\n",
    "    (\"power_transformer\", power, num_index),\n",
    "    ('factor', 'passthrough', factor_index)\n",
    "])\n"
   ]
  },
  {
   "cell_type": "code",
   "execution_count": 29,
   "metadata": {},
   "outputs": [],
   "source": [
    "Xv_train_pow = trans_processing.fit_transform(Xv_train)"
   ]
  },
  {
   "cell_type": "code",
   "execution_count": 32,
   "metadata": {},
   "outputs": [
    {
     "name": "stdout",
     "output_type": "stream",
     "text": [
      "{'ridge__alpha': 11.758793969849245}\n"
     ]
    }
   ],
   "source": [
    "# find Ridge's optimal alpha\n",
    "alphas = np.linspace(0, 60, num=200)\n",
    "gs = GridSearchCV(\n",
    "    make_pipeline(\n",
    "    linear_model.Ridge()),\n",
    "    param_grid = {'ridge__alpha': alphas},\n",
    "    cv = KFold(5, shuffle = True, random_state = 42),\n",
    "    scoring = \"neg_root_mean_squared_error\"\n",
    ")\n",
    "\n",
    "gs.fit(Xv_train_pow, y_train)\n",
    "print(gs.best_params_)"
   ]
  },
  {
   "cell_type": "code",
   "execution_count": 33,
   "metadata": {},
   "outputs": [],
   "source": [
    "best_ridge = 11.758793969849245"
   ]
  },
  {
   "cell_type": "code",
   "execution_count": 34,
   "metadata": {},
   "outputs": [
    {
     "name": "stdout",
     "output_type": "stream",
     "text": [
      "{'lasso__alpha': 0.04247571552536898}\n"
     ]
    }
   ],
   "source": [
    "# find lasso's optimal alpha\n",
    "alphas = np.logspace(-3, 1, num=200)\n",
    "gs = GridSearchCV(\n",
    "    make_pipeline(\n",
    "    linear_model.Lasso()),\n",
    "    param_grid = {'lasso__alpha': alphas},\n",
    "    cv = KFold(5, shuffle = True, random_state = 42),\n",
    "    scoring = \"neg_root_mean_squared_error\"\n",
    ")\n",
    "\n",
    "gs.fit(Xv_train_pow, y_train)\n",
    "print(gs.best_params_)"
   ]
  },
  {
   "cell_type": "code",
   "execution_count": 35,
   "metadata": {},
   "outputs": [],
   "source": [
    "best_lasso = 0.04247571552536898\n"
   ]
  },
  {
   "cell_type": "code",
   "execution_count": 36,
   "metadata": {},
   "outputs": [],
   "source": [
    "trans_processing = ColumnTransformer([\n",
    "    (\"power_transformer\", power, num_index),\n",
    "    ('factor', 'passthrough', factor_index)\n",
    "])\n",
    "\n",
    "\n",
    "# Description of different models via pipeline\n",
    "linear_pipe = Pipeline(steps = [(\"trans_processing\", trans_processing),(\"model\", LinearRegression())])\n",
    "knn_pipe = Pipeline(steps = [(\"trans_processing\", trans_processing), (\"model\", KNeighborsRegressor(n_neighbors=3))])\n",
    "lasso_pipe = Pipeline(steps = [(\"trans_processing\", trans_processing),(\"model\", linear_model.Lasso(alpha = best_lasso))])\n",
    "ridge_pipe = Pipeline(steps = [(\"trans_processing\", trans_processing), (\"model\", linear_model.Ridge(alpha = best_ridge))])\n",
    "\n",
    "# Collection of all models\n",
    "model_dict = {\n",
    "    'LinearRegression': linear_pipe,\n",
    "    'KNN': knn_pipe,\n",
    "    'Lasso': lasso_pipe,\n",
    "    'Ridge': ridge_pipe}\n",
    "\n",
    "for i, model_name in enumerate(model_dict): \n",
    "    scores = cross_validate(model_dict[model_name], Xv_train, y_train, cv = kf, return_train_score = True)\n",
    "    scores_df = tidy_scores(scores)\n",
    "    scores_df['model'] = model_name\n",
    "    scores_df = scores_df.set_index(\"model\", append=True)\n",
    "    scores_df = scores_df.swaplevel()\n",
    "    \n",
    "    if i == 0:\n",
    "        all_scores = scores_df\n",
    "    else:\n",
    "        all_scores = pd.concat([all_scores, scores_df], axis=0)"
   ]
  },
  {
   "cell_type": "code",
   "execution_count": 37,
   "metadata": {},
   "outputs": [
    {
     "data": {
      "text/html": [
       "<div>\n",
       "<style scoped>\n",
       "    .dataframe tbody tr th:only-of-type {\n",
       "        vertical-align: middle;\n",
       "    }\n",
       "\n",
       "    .dataframe tbody tr th {\n",
       "        vertical-align: top;\n",
       "    }\n",
       "\n",
       "    .dataframe thead th {\n",
       "        text-align: right;\n",
       "    }\n",
       "</style>\n",
       "<table border=\"1\" class=\"dataframe\">\n",
       "  <thead>\n",
       "    <tr style=\"text-align: right;\">\n",
       "      <th></th>\n",
       "      <th></th>\n",
       "      <th>fit_time</th>\n",
       "      <th>score_time</th>\n",
       "      <th>val_score</th>\n",
       "      <th>train_score</th>\n",
       "    </tr>\n",
       "    <tr>\n",
       "      <th>model</th>\n",
       "      <th>fold</th>\n",
       "      <th></th>\n",
       "      <th></th>\n",
       "      <th></th>\n",
       "      <th></th>\n",
       "    </tr>\n",
       "  </thead>\n",
       "  <tbody>\n",
       "    <tr>\n",
       "      <th>LinearRegression</th>\n",
       "      <th>mean</th>\n",
       "      <td>0.16</td>\n",
       "      <td>0.01</td>\n",
       "      <td>0.41</td>\n",
       "      <td>0.71</td>\n",
       "    </tr>\n",
       "    <tr>\n",
       "      <th>KNN</th>\n",
       "      <th>mean</th>\n",
       "      <td>0.10</td>\n",
       "      <td>0.12</td>\n",
       "      <td>0.29</td>\n",
       "      <td>0.62</td>\n",
       "    </tr>\n",
       "    <tr>\n",
       "      <th>Lasso</th>\n",
       "      <th>mean</th>\n",
       "      <td>0.11</td>\n",
       "      <td>0.01</td>\n",
       "      <td>0.55</td>\n",
       "      <td>0.62</td>\n",
       "    </tr>\n",
       "    <tr>\n",
       "      <th>Ridge</th>\n",
       "      <th>mean</th>\n",
       "      <td>0.14</td>\n",
       "      <td>0.01</td>\n",
       "      <td>0.50</td>\n",
       "      <td>0.68</td>\n",
       "    </tr>\n",
       "  </tbody>\n",
       "</table>\n",
       "</div>"
      ],
      "text/plain": [
       "                       fit_time  score_time  val_score  train_score\n",
       "model            fold                                              \n",
       "LinearRegression mean      0.16        0.01       0.41         0.71\n",
       "KNN              mean      0.10        0.12       0.29         0.62\n",
       "Lasso            mean      0.11        0.01       0.55         0.62\n",
       "Ridge            mean      0.14        0.01       0.50         0.68"
      ]
     },
     "metadata": {},
     "output_type": "display_data"
    },
    {
     "data": {
      "text/html": [
       "<div>\n",
       "<style scoped>\n",
       "    .dataframe tbody tr th:only-of-type {\n",
       "        vertical-align: middle;\n",
       "    }\n",
       "\n",
       "    .dataframe tbody tr th {\n",
       "        vertical-align: top;\n",
       "    }\n",
       "\n",
       "    .dataframe thead th {\n",
       "        text-align: right;\n",
       "    }\n",
       "</style>\n",
       "<table border=\"1\" class=\"dataframe\">\n",
       "  <thead>\n",
       "    <tr style=\"text-align: right;\">\n",
       "      <th></th>\n",
       "      <th></th>\n",
       "      <th>fit_time</th>\n",
       "      <th>score_time</th>\n",
       "      <th>val_score</th>\n",
       "      <th>train_score</th>\n",
       "    </tr>\n",
       "    <tr>\n",
       "      <th>model</th>\n",
       "      <th>fold</th>\n",
       "      <th></th>\n",
       "      <th></th>\n",
       "      <th></th>\n",
       "      <th></th>\n",
       "    </tr>\n",
       "  </thead>\n",
       "  <tbody>\n",
       "    <tr>\n",
       "      <th>LinearRegression</th>\n",
       "      <th>sd</th>\n",
       "      <td>0.02</td>\n",
       "      <td>0.01</td>\n",
       "      <td>0.14</td>\n",
       "      <td>0.02</td>\n",
       "    </tr>\n",
       "    <tr>\n",
       "      <th>KNN</th>\n",
       "      <th>sd</th>\n",
       "      <td>0.06</td>\n",
       "      <td>0.03</td>\n",
       "      <td>0.18</td>\n",
       "      <td>0.02</td>\n",
       "    </tr>\n",
       "    <tr>\n",
       "      <th>Lasso</th>\n",
       "      <th>sd</th>\n",
       "      <td>0.03</td>\n",
       "      <td>0.01</td>\n",
       "      <td>0.09</td>\n",
       "      <td>0.02</td>\n",
       "    </tr>\n",
       "    <tr>\n",
       "      <th>Ridge</th>\n",
       "      <th>sd</th>\n",
       "      <td>0.01</td>\n",
       "      <td>0.01</td>\n",
       "      <td>0.10</td>\n",
       "      <td>0.02</td>\n",
       "    </tr>\n",
       "  </tbody>\n",
       "</table>\n",
       "</div>"
      ],
      "text/plain": [
       "                       fit_time  score_time  val_score  train_score\n",
       "model            fold                                              \n",
       "LinearRegression sd        0.02        0.01       0.14         0.02\n",
       "KNN              sd        0.06        0.03       0.18         0.02\n",
       "Lasso            sd        0.03        0.01       0.09         0.02\n",
       "Ridge            sd        0.01        0.01       0.10         0.02"
      ]
     },
     "metadata": {},
     "output_type": "display_data"
    }
   ],
   "source": [
    "# Mean values for the train and valid scores        \n",
    "display(all_scores.xs('mean', level=1, drop_level=False))\n",
    "# Std Dev. values for the train and valid scores\n",
    "display(all_scores.xs('sd', level=1, drop_level=False))"
   ]
  },
  {
   "cell_type": "markdown",
   "metadata": {},
   "source": [
    "## 2.3.2 Power_transform with vote and episode"
   ]
  },
  {
   "cell_type": "code",
   "execution_count": 38,
   "metadata": {},
   "outputs": [],
   "source": [
    "Xve = Xv.copy()\n",
    "Xve['episode'] = dff['episode']\n",
    "Xve_train, Xve_test, y_train, y_test = train_test_split(Xve, y, test_size = 0.2, random_state = 42)"
   ]
  },
  {
   "cell_type": "code",
   "execution_count": 39,
   "metadata": {},
   "outputs": [
    {
     "data": {
      "text/html": [
       "<div>\n",
       "<style scoped>\n",
       "    .dataframe tbody tr th:only-of-type {\n",
       "        vertical-align: middle;\n",
       "    }\n",
       "\n",
       "    .dataframe tbody tr th {\n",
       "        vertical-align: top;\n",
       "    }\n",
       "\n",
       "    .dataframe thead th {\n",
       "        text-align: right;\n",
       "    }\n",
       "</style>\n",
       "<table border=\"1\" class=\"dataframe\">\n",
       "  <thead>\n",
       "    <tr style=\"text-align: right;\">\n",
       "      <th></th>\n",
       "      <th>n_lines</th>\n",
       "      <th>n_directions</th>\n",
       "      <th>n_speak_char</th>\n",
       "      <th>Angela</th>\n",
       "      <th>Dwight</th>\n",
       "      <th>Jim</th>\n",
       "      <th>Kevin</th>\n",
       "      <th>Michael</th>\n",
       "      <th>Oscar</th>\n",
       "      <th>Pam</th>\n",
       "      <th>...</th>\n",
       "      <th>Paul Feig</th>\n",
       "      <th>B.J. Novak</th>\n",
       "      <th>Gene Stupnitsky;Lee Eisenberg</th>\n",
       "      <th>Greg Daniels.1</th>\n",
       "      <th>Michael Schur</th>\n",
       "      <th>Paul Lieberstein</th>\n",
       "      <th>pos_score</th>\n",
       "      <th>neg_score</th>\n",
       "      <th>total_votes</th>\n",
       "      <th>episode</th>\n",
       "    </tr>\n",
       "  </thead>\n",
       "  <tbody>\n",
       "    <tr>\n",
       "      <th>0</th>\n",
       "      <td>229</td>\n",
       "      <td>27</td>\n",
       "      <td>15</td>\n",
       "      <td>1.0</td>\n",
       "      <td>29.0</td>\n",
       "      <td>36.0</td>\n",
       "      <td>1.0</td>\n",
       "      <td>81.0</td>\n",
       "      <td>3.0</td>\n",
       "      <td>40.0</td>\n",
       "      <td>...</td>\n",
       "      <td>0</td>\n",
       "      <td>0</td>\n",
       "      <td>0</td>\n",
       "      <td>0</td>\n",
       "      <td>0</td>\n",
       "      <td>0</td>\n",
       "      <td>0.196</td>\n",
       "      <td>0.093</td>\n",
       "      <td>3706</td>\n",
       "      <td>1</td>\n",
       "    </tr>\n",
       "    <tr>\n",
       "      <th>1</th>\n",
       "      <td>203</td>\n",
       "      <td>20</td>\n",
       "      <td>12</td>\n",
       "      <td>4.0</td>\n",
       "      <td>17.0</td>\n",
       "      <td>24.0</td>\n",
       "      <td>8.0</td>\n",
       "      <td>75.0</td>\n",
       "      <td>13.0</td>\n",
       "      <td>12.0</td>\n",
       "      <td>...</td>\n",
       "      <td>0</td>\n",
       "      <td>1</td>\n",
       "      <td>0</td>\n",
       "      <td>0</td>\n",
       "      <td>0</td>\n",
       "      <td>0</td>\n",
       "      <td>0.240</td>\n",
       "      <td>0.076</td>\n",
       "      <td>3566</td>\n",
       "      <td>2</td>\n",
       "    </tr>\n",
       "    <tr>\n",
       "      <th>2</th>\n",
       "      <td>244</td>\n",
       "      <td>21</td>\n",
       "      <td>13</td>\n",
       "      <td>5.0</td>\n",
       "      <td>62.0</td>\n",
       "      <td>42.0</td>\n",
       "      <td>6.0</td>\n",
       "      <td>56.0</td>\n",
       "      <td>9.0</td>\n",
       "      <td>32.0</td>\n",
       "      <td>...</td>\n",
       "      <td>0</td>\n",
       "      <td>0</td>\n",
       "      <td>0</td>\n",
       "      <td>0</td>\n",
       "      <td>0</td>\n",
       "      <td>1</td>\n",
       "      <td>0.215</td>\n",
       "      <td>0.092</td>\n",
       "      <td>2983</td>\n",
       "      <td>3</td>\n",
       "    </tr>\n",
       "    <tr>\n",
       "      <th>3</th>\n",
       "      <td>243</td>\n",
       "      <td>24</td>\n",
       "      <td>14</td>\n",
       "      <td>7.0</td>\n",
       "      <td>47.0</td>\n",
       "      <td>49.0</td>\n",
       "      <td>3.0</td>\n",
       "      <td>68.0</td>\n",
       "      <td>14.0</td>\n",
       "      <td>22.0</td>\n",
       "      <td>...</td>\n",
       "      <td>0</td>\n",
       "      <td>0</td>\n",
       "      <td>0</td>\n",
       "      <td>0</td>\n",
       "      <td>1</td>\n",
       "      <td>0</td>\n",
       "      <td>0.228</td>\n",
       "      <td>0.089</td>\n",
       "      <td>2886</td>\n",
       "      <td>4</td>\n",
       "    </tr>\n",
       "    <tr>\n",
       "      <th>4</th>\n",
       "      <td>230</td>\n",
       "      <td>49</td>\n",
       "      <td>18</td>\n",
       "      <td>3.0</td>\n",
       "      <td>25.0</td>\n",
       "      <td>21.0</td>\n",
       "      <td>1.0</td>\n",
       "      <td>104.0</td>\n",
       "      <td>2.0</td>\n",
       "      <td>14.0</td>\n",
       "      <td>...</td>\n",
       "      <td>0</td>\n",
       "      <td>0</td>\n",
       "      <td>0</td>\n",
       "      <td>1</td>\n",
       "      <td>0</td>\n",
       "      <td>0</td>\n",
       "      <td>0.180</td>\n",
       "      <td>0.109</td>\n",
       "      <td>3179</td>\n",
       "      <td>5</td>\n",
       "    </tr>\n",
       "  </tbody>\n",
       "</table>\n",
       "<p>5 rows × 34 columns</p>\n",
       "</div>"
      ],
      "text/plain": [
       "   n_lines  n_directions  n_speak_char  Angela  Dwight   Jim  Kevin  Michael  \\\n",
       "0      229            27            15     1.0    29.0  36.0    1.0     81.0   \n",
       "1      203            20            12     4.0    17.0  24.0    8.0     75.0   \n",
       "2      244            21            13     5.0    62.0  42.0    6.0     56.0   \n",
       "3      243            24            14     7.0    47.0  49.0    3.0     68.0   \n",
       "4      230            49            18     3.0    25.0  21.0    1.0    104.0   \n",
       "\n",
       "   Oscar   Pam  ...  Paul Feig  B.J. Novak  Gene Stupnitsky;Lee Eisenberg  \\\n",
       "0    3.0  40.0  ...          0           0                              0   \n",
       "1   13.0  12.0  ...          0           1                              0   \n",
       "2    9.0  32.0  ...          0           0                              0   \n",
       "3   14.0  22.0  ...          0           0                              0   \n",
       "4    2.0  14.0  ...          0           0                              0   \n",
       "\n",
       "   Greg Daniels.1  Michael Schur  Paul Lieberstein  pos_score  neg_score  \\\n",
       "0               0              0                 0      0.196      0.093   \n",
       "1               0              0                 0      0.240      0.076   \n",
       "2               0              0                 1      0.215      0.092   \n",
       "3               0              1                 0      0.228      0.089   \n",
       "4               1              0                 0      0.180      0.109   \n",
       "\n",
       "   total_votes  episode  \n",
       "0         3706        1  \n",
       "1         3566        2  \n",
       "2         2983        3  \n",
       "3         2886        4  \n",
       "4         3179        5  \n",
       "\n",
       "[5 rows x 34 columns]"
      ]
     },
     "execution_count": 39,
     "metadata": {},
     "output_type": "execute_result"
    }
   ],
   "source": [
    "Xve.head()"
   ]
  },
  {
   "cell_type": "code",
   "execution_count": 40,
   "metadata": {},
   "outputs": [],
   "source": [
    "num_index = list(range(0,Xve.shape[1]))\n",
    "del num_index[20:30]\n",
    "factor_index = list(range(20,30))"
   ]
  },
  {
   "cell_type": "code",
   "execution_count": 41,
   "metadata": {},
   "outputs": [],
   "source": [
    "trans_processing = ColumnTransformer([\n",
    "    (\"power_transformer\", power, num_index),\n",
    "    ('factor', 'passthrough', factor_index)\n",
    "])\n"
   ]
  },
  {
   "cell_type": "code",
   "execution_count": 42,
   "metadata": {},
   "outputs": [],
   "source": [
    "Xve_train_pow = trans_processing.fit_transform(Xve_train)"
   ]
  },
  {
   "cell_type": "code",
   "execution_count": 43,
   "metadata": {},
   "outputs": [
    {
     "name": "stdout",
     "output_type": "stream",
     "text": [
      "{'ridge__alpha': 11.758793969849245}\n"
     ]
    }
   ],
   "source": [
    "# find Ridge's optimal alpha\n",
    "alphas = np.linspace(0, 60, num=200)\n",
    "gs = GridSearchCV(\n",
    "    make_pipeline(\n",
    "    linear_model.Ridge()),\n",
    "    param_grid = {'ridge__alpha': alphas},\n",
    "    cv = KFold(5, shuffle = True, random_state = 42),\n",
    "    scoring = \"neg_root_mean_squared_error\"\n",
    ")\n",
    "\n",
    "gs.fit(Xve_train_pow, y_train)\n",
    "print(gs.best_params_)"
   ]
  },
  {
   "cell_type": "code",
   "execution_count": 44,
   "metadata": {},
   "outputs": [],
   "source": [
    "best_ridge = 11.758793969849245"
   ]
  },
  {
   "cell_type": "code",
   "execution_count": 45,
   "metadata": {},
   "outputs": [
    {
     "name": "stdout",
     "output_type": "stream",
     "text": [
      "{'lasso__alpha': 0.036969127071950283}\n"
     ]
    }
   ],
   "source": [
    "# find lasso's optimal alpha\n",
    "alphas = np.logspace(-3, 1, num=200)\n",
    "gs = GridSearchCV(\n",
    "    make_pipeline(\n",
    "    linear_model.Lasso()),\n",
    "    param_grid = {'lasso__alpha': alphas},\n",
    "    cv = KFold(5, shuffle = True, random_state = 42),\n",
    "    scoring = \"neg_root_mean_squared_error\"\n",
    ")\n",
    "\n",
    "gs.fit(Xve_train_pow, y_train)\n",
    "print(gs.best_params_)"
   ]
  },
  {
   "cell_type": "code",
   "execution_count": 46,
   "metadata": {},
   "outputs": [],
   "source": [
    "best_lasso = 0.036969127071950283"
   ]
  },
  {
   "cell_type": "code",
   "execution_count": 47,
   "metadata": {},
   "outputs": [],
   "source": [
    "trans_processing = ColumnTransformer([\n",
    "    (\"power_transformer\", power, num_index),\n",
    "    ('factor', 'passthrough', factor_index)\n",
    "])\n",
    "\n",
    "\n",
    "# Description of different models via pipeline\n",
    "linear_pipe = Pipeline(steps = [(\"trans_processing\", trans_processing),(\"model\", LinearRegression())])\n",
    "knn_pipe = Pipeline(steps = [(\"trans_processing\", trans_processing), (\"model\", KNeighborsRegressor(n_neighbors=3))])\n",
    "lasso_pipe = Pipeline(steps = [(\"trans_processing\", trans_processing),(\"model\", linear_model.Lasso(alpha = best_lasso))])\n",
    "ridge_pipe = Pipeline(steps = [(\"trans_processing\", trans_processing), (\"model\", linear_model.Ridge(alpha = best_ridge))])\n",
    "\n",
    "# Collection of all models\n",
    "model_dict = {\n",
    "    'LinearRegression': linear_pipe,\n",
    "    'KNN': knn_pipe,\n",
    "    'Lasso': lasso_pipe,\n",
    "    'Ridge': ridge_pipe}\n",
    "\n",
    "for i, model_name in enumerate(model_dict): \n",
    "    scores = cross_validate(model_dict[model_name], Xve_train, y_train, cv = kf, return_train_score = True)\n",
    "    scores_df = tidy_scores(scores)\n",
    "    scores_df['model'] = model_name\n",
    "    scores_df = scores_df.set_index(\"model\", append=True)\n",
    "    scores_df = scores_df.swaplevel()\n",
    "    \n",
    "    if i == 0:\n",
    "        all_scores = scores_df\n",
    "    else:\n",
    "        all_scores = pd.concat([all_scores, scores_df], axis=0)"
   ]
  },
  {
   "cell_type": "code",
   "execution_count": 48,
   "metadata": {},
   "outputs": [
    {
     "data": {
      "text/html": [
       "<div>\n",
       "<style scoped>\n",
       "    .dataframe tbody tr th:only-of-type {\n",
       "        vertical-align: middle;\n",
       "    }\n",
       "\n",
       "    .dataframe tbody tr th {\n",
       "        vertical-align: top;\n",
       "    }\n",
       "\n",
       "    .dataframe thead th {\n",
       "        text-align: right;\n",
       "    }\n",
       "</style>\n",
       "<table border=\"1\" class=\"dataframe\">\n",
       "  <thead>\n",
       "    <tr style=\"text-align: right;\">\n",
       "      <th></th>\n",
       "      <th></th>\n",
       "      <th>fit_time</th>\n",
       "      <th>score_time</th>\n",
       "      <th>val_score</th>\n",
       "      <th>train_score</th>\n",
       "    </tr>\n",
       "    <tr>\n",
       "      <th>model</th>\n",
       "      <th>fold</th>\n",
       "      <th></th>\n",
       "      <th></th>\n",
       "      <th></th>\n",
       "      <th></th>\n",
       "    </tr>\n",
       "  </thead>\n",
       "  <tbody>\n",
       "    <tr>\n",
       "      <th>LinearRegression</th>\n",
       "      <th>mean</th>\n",
       "      <td>0.17</td>\n",
       "      <td>0.02</td>\n",
       "      <td>0.48</td>\n",
       "      <td>0.75</td>\n",
       "    </tr>\n",
       "    <tr>\n",
       "      <th>KNN</th>\n",
       "      <th>mean</th>\n",
       "      <td>0.09</td>\n",
       "      <td>0.12</td>\n",
       "      <td>0.32</td>\n",
       "      <td>0.63</td>\n",
       "    </tr>\n",
       "    <tr>\n",
       "      <th>Lasso</th>\n",
       "      <th>mean</th>\n",
       "      <td>0.07</td>\n",
       "      <td>0.00</td>\n",
       "      <td>0.59</td>\n",
       "      <td>0.66</td>\n",
       "    </tr>\n",
       "    <tr>\n",
       "      <th>Ridge</th>\n",
       "      <th>mean</th>\n",
       "      <td>0.13</td>\n",
       "      <td>0.01</td>\n",
       "      <td>0.57</td>\n",
       "      <td>0.72</td>\n",
       "    </tr>\n",
       "  </tbody>\n",
       "</table>\n",
       "</div>"
      ],
      "text/plain": [
       "                       fit_time  score_time  val_score  train_score\n",
       "model            fold                                              \n",
       "LinearRegression mean      0.17        0.02       0.48         0.75\n",
       "KNN              mean      0.09        0.12       0.32         0.63\n",
       "Lasso            mean      0.07        0.00       0.59         0.66\n",
       "Ridge            mean      0.13        0.01       0.57         0.72"
      ]
     },
     "metadata": {},
     "output_type": "display_data"
    },
    {
     "data": {
      "text/html": [
       "<div>\n",
       "<style scoped>\n",
       "    .dataframe tbody tr th:only-of-type {\n",
       "        vertical-align: middle;\n",
       "    }\n",
       "\n",
       "    .dataframe tbody tr th {\n",
       "        vertical-align: top;\n",
       "    }\n",
       "\n",
       "    .dataframe thead th {\n",
       "        text-align: right;\n",
       "    }\n",
       "</style>\n",
       "<table border=\"1\" class=\"dataframe\">\n",
       "  <thead>\n",
       "    <tr style=\"text-align: right;\">\n",
       "      <th></th>\n",
       "      <th></th>\n",
       "      <th>fit_time</th>\n",
       "      <th>score_time</th>\n",
       "      <th>val_score</th>\n",
       "      <th>train_score</th>\n",
       "    </tr>\n",
       "    <tr>\n",
       "      <th>model</th>\n",
       "      <th>fold</th>\n",
       "      <th></th>\n",
       "      <th></th>\n",
       "      <th></th>\n",
       "      <th></th>\n",
       "    </tr>\n",
       "  </thead>\n",
       "  <tbody>\n",
       "    <tr>\n",
       "      <th>LinearRegression</th>\n",
       "      <th>sd</th>\n",
       "      <td>0.02</td>\n",
       "      <td>0.00</td>\n",
       "      <td>0.13</td>\n",
       "      <td>0.03</td>\n",
       "    </tr>\n",
       "    <tr>\n",
       "      <th>KNN</th>\n",
       "      <th>sd</th>\n",
       "      <td>0.03</td>\n",
       "      <td>0.04</td>\n",
       "      <td>0.16</td>\n",
       "      <td>0.01</td>\n",
       "    </tr>\n",
       "    <tr>\n",
       "      <th>Lasso</th>\n",
       "      <th>sd</th>\n",
       "      <td>0.01</td>\n",
       "      <td>0.01</td>\n",
       "      <td>0.10</td>\n",
       "      <td>0.03</td>\n",
       "    </tr>\n",
       "    <tr>\n",
       "      <th>Ridge</th>\n",
       "      <th>sd</th>\n",
       "      <td>0.02</td>\n",
       "      <td>0.01</td>\n",
       "      <td>0.08</td>\n",
       "      <td>0.03</td>\n",
       "    </tr>\n",
       "  </tbody>\n",
       "</table>\n",
       "</div>"
      ],
      "text/plain": [
       "                       fit_time  score_time  val_score  train_score\n",
       "model            fold                                              \n",
       "LinearRegression sd        0.02        0.00       0.13         0.03\n",
       "KNN              sd        0.03        0.04       0.16         0.01\n",
       "Lasso            sd        0.01        0.01       0.10         0.03\n",
       "Ridge            sd        0.02        0.01       0.08         0.03"
      ]
     },
     "metadata": {},
     "output_type": "display_data"
    }
   ],
   "source": [
    "# Mean values for the train and valid scores        \n",
    "display(all_scores.xs('mean', level=1, drop_level=False))\n",
    "# Std Dev. values for the train and valid scores\n",
    "display(all_scores.xs('sd', level=1, drop_level=False))"
   ]
  },
  {
   "cell_type": "code",
   "execution_count": 49,
   "metadata": {},
   "outputs": [
    {
     "data": {
      "image/png": "[encoded data removed]",
      "text/plain": [
       "<Figure size 864x432 with 2 Axes>"
      ]
     },
     "metadata": {
      "needs_background": "light"
     },
     "output_type": "display_data"
    },
    {
     "data": {
      "text/plain": [
       "(0.10891295374990541, 0.33001962631017173, 0.6483074060133258)"
      ]
     },
     "execution_count": 49,
     "metadata": {},
     "output_type": "execute_result"
    }
   ],
   "source": [
    "lasso_model = lasso_pipe.fit(Xve_train , y_train)\n",
    "model_fit(lasso_model, Xve_train, y_train, plot = True)"
   ]
  },
  {
   "cell_type": "code",
   "execution_count": 50,
   "metadata": {},
   "outputs": [
    {
     "data": {
      "image/png": "[encoded data removed]",
      "text/plain": [
       "<Figure size 864x432 with 2 Axes>"
      ]
     },
     "metadata": {
      "needs_background": "light"
     },
     "output_type": "display_data"
    },
    {
     "data": {
      "text/plain": [
       "(0.05787869400319981, 0.2405799118862583, 0.646160736068499)"
      ]
     },
     "execution_count": 50,
     "metadata": {},
     "output_type": "execute_result"
    }
   ],
   "source": [
    "model_fit(lasso_model, Xve_test, y_test, plot = True)"
   ]
  },
  {
   "cell_type": "code",
   "execution_count": 51,
   "metadata": {},
   "outputs": [
    {
     "data": {
      "image/png": "[encoded data removed]",
      "text/plain": [
       "<Figure size 864x432 with 2 Axes>"
      ]
     },
     "metadata": {
      "needs_background": "light"
     },
     "output_type": "display_data"
    },
    {
     "data": {
      "text/plain": [
       "(0.08969016965905939, 0.29948317091125404, 0.7103800114086347)"
      ]
     },
     "execution_count": 51,
     "metadata": {},
     "output_type": "execute_result"
    }
   ],
   "source": [
    "ridge_model = ridge_pipe.fit(Xve_train , y_train)\n",
    "model_fit(ridge_model, Xve_train, y_train, plot = True)"
   ]
  },
  {
   "cell_type": "code",
   "execution_count": 52,
   "metadata": {},
   "outputs": [
    {
     "data": {
      "image/png": "[encoded data removed]",
      "text/plain": [
       "<Figure size 864x432 with 2 Axes>"
      ]
     },
     "metadata": {
      "needs_background": "light"
     },
     "output_type": "display_data"
    },
    {
     "data": {
      "text/plain": [
       "(0.061939665003557416, 0.24887680688155217, 0.6213341394363382)"
      ]
     },
     "execution_count": 52,
     "metadata": {},
     "output_type": "execute_result"
    }
   ],
   "source": [
    "model_fit(ridge_model, Xve_test, y_test, plot = True)"
   ]
  },
  {
   "cell_type": "code",
   "execution_count": 53,
   "metadata": {},
   "outputs": [
    {
     "data": {
      "image/png": "[encoded data removed]",
      "text/plain": [
       "<Figure size 864x432 with 2 Axes>"
      ]
     },
     "metadata": {
      "needs_background": "light"
     },
     "output_type": "display_data"
    },
    {
     "data": {
      "text/plain": [
       "(0.08503273889239922, 0.2916037360741443, 0.7254193970027609)"
      ]
     },
     "execution_count": 53,
     "metadata": {},
     "output_type": "execute_result"
    }
   ],
   "source": [
    "linear_model = linear_pipe.fit(Xve_train , y_train)\n",
    "model_fit(linear_model, Xve_train, y_train, plot = True)"
   ]
  },
  {
   "cell_type": "code",
   "execution_count": 54,
   "metadata": {},
   "outputs": [
    {
     "data": {
      "image/png": "[encoded data removed]",
      "text/plain": [
       "<Figure size 864x432 with 2 Axes>"
      ]
     },
     "metadata": {
      "needs_background": "light"
     },
     "output_type": "display_data"
    },
    {
     "data": {
      "text/plain": [
       "(0.07111902457081708, 0.26668150399084123, 0.5652164628270115)"
      ]
     },
     "execution_count": 54,
     "metadata": {},
     "output_type": "execute_result"
    }
   ],
   "source": [
    "model_fit(linear_model, Xve_test, y_test, plot = True)"
   ]
  },
  {
   "cell_type": "code",
   "execution_count": 57,
   "metadata": {},
   "outputs": [
    {
     "data": {
      "text/plain": [
       "array([ 8.28648649e+00,  1.02539092e-01,  3.66078385e-02,  3.68977367e-03,\n",
       "        0.00000000e+00,  0.00000000e+00,  0.00000000e+00,  0.00000000e+00,\n",
       "        0.00000000e+00,  3.42185596e-03,  0.00000000e+00,  0.00000000e+00,\n",
       "       -0.00000000e+00,  7.75442545e-03,  0.00000000e+00,  0.00000000e+00,\n",
       "        3.54905530e-03,  0.00000000e+00,  1.70244305e-03,  0.00000000e+00,\n",
       "       -0.00000000e+00, -0.00000000e+00, -0.00000000e+00,  3.67092578e-01,\n",
       "        7.68651860e-02,  0.00000000e+00, -0.00000000e+00, -0.00000000e+00,\n",
       "       -0.00000000e+00,  0.00000000e+00,  0.00000000e+00,  0.00000000e+00,\n",
       "        0.00000000e+00, -0.00000000e+00, -0.00000000e+00])"
      ]
     },
     "execution_count": 57,
     "metadata": {},
     "output_type": "execute_result"
    }
   ],
   "source": [
    "m = linear_model.Lasso(alpha = best_lasso).fit(Xve_train_pow, y_train)\n",
    "get_coefs(m)"
   ]
  },
  {
   "cell_type": "code",
   "execution_count": 58,
   "metadata": {},
   "outputs": [
    {
     "data": {
      "text/plain": [
       "array([ 8.27603102e+00,  4.42719415e-02,  3.53014448e-02,  3.98719541e-02,\n",
       "        6.14815548e-03,  3.72219883e-02,  2.95582096e-02, -3.01378927e-02,\n",
       "        8.65040034e-02,  3.75785174e-02, -1.02699086e-02, -5.56615804e-03,\n",
       "       -4.55647709e-02,  2.19227702e-02,  3.34083008e-02,  2.20810680e-02,\n",
       "        2.61569012e-02,  2.80056771e-02,  8.15252966e-03,  3.83033069e-02,\n",
       "       -1.38875515e-02, -3.06273947e-02, -4.91338540e-02,  3.58170264e-01,\n",
       "        1.16912290e-01,  5.81056549e-02, -3.67032887e-02, -3.04422985e-02,\n",
       "       -1.33370587e-02,  2.06669872e-02,  8.20747953e-02,  4.02849074e-02,\n",
       "        7.29180521e-03, -2.23834027e-02,  3.40894811e-03])"
      ]
     },
     "execution_count": 58,
     "metadata": {},
     "output_type": "execute_result"
    }
   ],
   "source": [
    "mr = linear_model.Ridge(alpha = best_ridge).fit(Xve_train_pow, y_train)\n",
    "get_coefs(mr)"
   ]
  },
  {
   "cell_type": "markdown",
   "metadata": {},
   "source": [
    "## Dummy"
   ]
  },
  {
   "cell_type": "code",
   "execution_count": 59,
   "metadata": {},
   "outputs": [],
   "source": [
    "Xex = df.drop(['Unnamed: 0', 'imdb_rating', 'Paul Feig','Ken Kwapis','Greg Daniels','Ken Whittingham','Jeffrey Blitz',\n",
    "               'Greg Daniels.1','Gene Stupnitsky;Lee Eisenberg','Michael Schur','Paul Lieberstein','B.J. Novak'], axis = 1)\n",
    "Xex_train, Xex_test, y_train, y_test = train_test_split(Xex, y, test_size = 0.2, random_state = 42)"
   ]
  },
  {
   "cell_type": "code",
   "execution_count": 60,
   "metadata": {},
   "outputs": [
    {
     "data": {
      "text/html": [
       "<div>\n",
       "<style scoped>\n",
       "    .dataframe tbody tr th:only-of-type {\n",
       "        vertical-align: middle;\n",
       "    }\n",
       "\n",
       "    .dataframe tbody tr th {\n",
       "        vertical-align: top;\n",
       "    }\n",
       "\n",
       "    .dataframe thead th {\n",
       "        text-align: right;\n",
       "    }\n",
       "</style>\n",
       "<table border=\"1\" class=\"dataframe\">\n",
       "  <thead>\n",
       "    <tr style=\"text-align: right;\">\n",
       "      <th></th>\n",
       "      <th>n_lines</th>\n",
       "      <th>n_directions</th>\n",
       "      <th>n_speak_char</th>\n",
       "      <th>Angela</th>\n",
       "      <th>Dwight</th>\n",
       "      <th>Jim</th>\n",
       "      <th>Kevin</th>\n",
       "      <th>Michael</th>\n",
       "      <th>Oscar</th>\n",
       "      <th>Pam</th>\n",
       "      <th>...</th>\n",
       "      <th>Toby</th>\n",
       "      <th>Meredith</th>\n",
       "      <th>Darryl</th>\n",
       "      <th>Creed</th>\n",
       "      <th>Andy</th>\n",
       "      <th>Erin</th>\n",
       "      <th>Other_director</th>\n",
       "      <th>Other_writer</th>\n",
       "      <th>pos_score</th>\n",
       "      <th>neg_score</th>\n",
       "    </tr>\n",
       "  </thead>\n",
       "  <tbody>\n",
       "    <tr>\n",
       "      <th>0</th>\n",
       "      <td>229</td>\n",
       "      <td>27</td>\n",
       "      <td>15</td>\n",
       "      <td>1.0</td>\n",
       "      <td>29.0</td>\n",
       "      <td>36.0</td>\n",
       "      <td>1.0</td>\n",
       "      <td>81.0</td>\n",
       "      <td>3.0</td>\n",
       "      <td>40.0</td>\n",
       "      <td>...</td>\n",
       "      <td>0.0</td>\n",
       "      <td>0.0</td>\n",
       "      <td>0.0</td>\n",
       "      <td>0.0</td>\n",
       "      <td>0.0</td>\n",
       "      <td>0.0</td>\n",
       "      <td>0</td>\n",
       "      <td>1</td>\n",
       "      <td>0.196</td>\n",
       "      <td>0.093</td>\n",
       "    </tr>\n",
       "    <tr>\n",
       "      <th>1</th>\n",
       "      <td>203</td>\n",
       "      <td>20</td>\n",
       "      <td>12</td>\n",
       "      <td>4.0</td>\n",
       "      <td>17.0</td>\n",
       "      <td>24.0</td>\n",
       "      <td>8.0</td>\n",
       "      <td>75.0</td>\n",
       "      <td>13.0</td>\n",
       "      <td>12.0</td>\n",
       "      <td>...</td>\n",
       "      <td>2.0</td>\n",
       "      <td>0.0</td>\n",
       "      <td>0.0</td>\n",
       "      <td>0.0</td>\n",
       "      <td>0.0</td>\n",
       "      <td>0.0</td>\n",
       "      <td>0</td>\n",
       "      <td>0</td>\n",
       "      <td>0.240</td>\n",
       "      <td>0.076</td>\n",
       "    </tr>\n",
       "    <tr>\n",
       "      <th>2</th>\n",
       "      <td>244</td>\n",
       "      <td>21</td>\n",
       "      <td>13</td>\n",
       "      <td>5.0</td>\n",
       "      <td>62.0</td>\n",
       "      <td>42.0</td>\n",
       "      <td>6.0</td>\n",
       "      <td>56.0</td>\n",
       "      <td>9.0</td>\n",
       "      <td>32.0</td>\n",
       "      <td>...</td>\n",
       "      <td>0.0</td>\n",
       "      <td>3.0</td>\n",
       "      <td>0.0</td>\n",
       "      <td>0.0</td>\n",
       "      <td>0.0</td>\n",
       "      <td>0.0</td>\n",
       "      <td>0</td>\n",
       "      <td>0</td>\n",
       "      <td>0.215</td>\n",
       "      <td>0.092</td>\n",
       "    </tr>\n",
       "    <tr>\n",
       "      <th>3</th>\n",
       "      <td>243</td>\n",
       "      <td>24</td>\n",
       "      <td>14</td>\n",
       "      <td>7.0</td>\n",
       "      <td>47.0</td>\n",
       "      <td>49.0</td>\n",
       "      <td>3.0</td>\n",
       "      <td>68.0</td>\n",
       "      <td>14.0</td>\n",
       "      <td>22.0</td>\n",
       "      <td>...</td>\n",
       "      <td>4.0</td>\n",
       "      <td>10.0</td>\n",
       "      <td>0.0</td>\n",
       "      <td>0.0</td>\n",
       "      <td>0.0</td>\n",
       "      <td>0.0</td>\n",
       "      <td>1</td>\n",
       "      <td>0</td>\n",
       "      <td>0.228</td>\n",
       "      <td>0.089</td>\n",
       "    </tr>\n",
       "    <tr>\n",
       "      <th>4</th>\n",
       "      <td>230</td>\n",
       "      <td>49</td>\n",
       "      <td>18</td>\n",
       "      <td>3.0</td>\n",
       "      <td>25.0</td>\n",
       "      <td>21.0</td>\n",
       "      <td>1.0</td>\n",
       "      <td>104.0</td>\n",
       "      <td>2.0</td>\n",
       "      <td>14.0</td>\n",
       "      <td>...</td>\n",
       "      <td>0.0</td>\n",
       "      <td>0.0</td>\n",
       "      <td>15.0</td>\n",
       "      <td>0.0</td>\n",
       "      <td>0.0</td>\n",
       "      <td>0.0</td>\n",
       "      <td>0</td>\n",
       "      <td>0</td>\n",
       "      <td>0.180</td>\n",
       "      <td>0.109</td>\n",
       "    </tr>\n",
       "  </tbody>\n",
       "</table>\n",
       "<p>5 rows × 24 columns</p>\n",
       "</div>"
      ],
      "text/plain": [
       "   n_lines  n_directions  n_speak_char  Angela  Dwight   Jim  Kevin  Michael  \\\n",
       "0      229            27            15     1.0    29.0  36.0    1.0     81.0   \n",
       "1      203            20            12     4.0    17.0  24.0    8.0     75.0   \n",
       "2      244            21            13     5.0    62.0  42.0    6.0     56.0   \n",
       "3      243            24            14     7.0    47.0  49.0    3.0     68.0   \n",
       "4      230            49            18     3.0    25.0  21.0    1.0    104.0   \n",
       "\n",
       "   Oscar   Pam  ...  Toby  Meredith  Darryl  Creed  Andy  Erin  \\\n",
       "0    3.0  40.0  ...   0.0       0.0     0.0    0.0   0.0   0.0   \n",
       "1   13.0  12.0  ...   2.0       0.0     0.0    0.0   0.0   0.0   \n",
       "2    9.0  32.0  ...   0.0       3.0     0.0    0.0   0.0   0.0   \n",
       "3   14.0  22.0  ...   4.0      10.0     0.0    0.0   0.0   0.0   \n",
       "4    2.0  14.0  ...   0.0       0.0    15.0    0.0   0.0   0.0   \n",
       "\n",
       "   Other_director  Other_writer  pos_score  neg_score  \n",
       "0               0             1      0.196      0.093  \n",
       "1               0             0      0.240      0.076  \n",
       "2               0             0      0.215      0.092  \n",
       "3               1             0      0.228      0.089  \n",
       "4               0             0      0.180      0.109  \n",
       "\n",
       "[5 rows x 24 columns]"
      ]
     },
     "execution_count": 60,
     "metadata": {},
     "output_type": "execute_result"
    }
   ],
   "source": [
    "Xex.head()"
   ]
  },
  {
   "cell_type": "code",
   "execution_count": 61,
   "metadata": {},
   "outputs": [],
   "source": [
    "num_index = list(range(0,Xex.shape[1]))\n",
    "del num_index[20:22]\n",
    "factor_index = list(range(20,22))"
   ]
  },
  {
   "cell_type": "code",
   "execution_count": 62,
   "metadata": {},
   "outputs": [
    {
     "data": {
      "text/html": [
       "<div>\n",
       "<style scoped>\n",
       "    .dataframe tbody tr th:only-of-type {\n",
       "        vertical-align: middle;\n",
       "    }\n",
       "\n",
       "    .dataframe tbody tr th {\n",
       "        vertical-align: top;\n",
       "    }\n",
       "\n",
       "    .dataframe thead th {\n",
       "        text-align: right;\n",
       "    }\n",
       "</style>\n",
       "<table border=\"1\" class=\"dataframe\">\n",
       "  <thead>\n",
       "    <tr style=\"text-align: right;\">\n",
       "      <th></th>\n",
       "      <th>Other_director</th>\n",
       "      <th>Other_writer</th>\n",
       "    </tr>\n",
       "  </thead>\n",
       "  <tbody>\n",
       "    <tr>\n",
       "      <th>0</th>\n",
       "      <td>0</td>\n",
       "      <td>1</td>\n",
       "    </tr>\n",
       "    <tr>\n",
       "      <th>1</th>\n",
       "      <td>0</td>\n",
       "      <td>0</td>\n",
       "    </tr>\n",
       "    <tr>\n",
       "      <th>2</th>\n",
       "      <td>0</td>\n",
       "      <td>0</td>\n",
       "    </tr>\n",
       "    <tr>\n",
       "      <th>3</th>\n",
       "      <td>1</td>\n",
       "      <td>0</td>\n",
       "    </tr>\n",
       "    <tr>\n",
       "      <th>4</th>\n",
       "      <td>0</td>\n",
       "      <td>0</td>\n",
       "    </tr>\n",
       "  </tbody>\n",
       "</table>\n",
       "</div>"
      ],
      "text/plain": [
       "   Other_director  Other_writer\n",
       "0               0             1\n",
       "1               0             0\n",
       "2               0             0\n",
       "3               1             0\n",
       "4               0             0"
      ]
     },
     "execution_count": 62,
     "metadata": {},
     "output_type": "execute_result"
    }
   ],
   "source": [
    "Xex.iloc[:,factor_index].head()"
   ]
  },
  {
   "cell_type": "code",
   "execution_count": 63,
   "metadata": {},
   "outputs": [],
   "source": [
    "trans_processing = ColumnTransformer([\n",
    "    (\"power_transformer\", power, num_index),\n",
    "    ('factor', 'passthrough', factor_index)\n",
    "])"
   ]
  },
  {
   "cell_type": "code",
   "execution_count": 64,
   "metadata": {},
   "outputs": [],
   "source": [
    "Xex_train_pow = trans_processing.fit_transform(Xex_train)"
   ]
  },
  {
   "cell_type": "code",
   "execution_count": 65,
   "metadata": {},
   "outputs": [
    {
     "name": "stdout",
     "output_type": "stream",
     "text": [
      "{'ridge__alpha': 57.28643216080401}\n"
     ]
    }
   ],
   "source": [
    "# find Ridge's optimal alpha\n",
    "alphas = np.linspace(0, 60, num=200)\n",
    "gs = GridSearchCV(\n",
    "    make_pipeline(\n",
    "    linear_model.Ridge()),\n",
    "    param_grid = {'ridge__alpha': alphas},\n",
    "    cv = KFold(5, shuffle = True, random_state = 42),\n",
    "    scoring = \"neg_root_mean_squared_error\"\n",
    ")\n",
    "\n",
    "gs.fit(Xex_train_pow, y_train)\n",
    "print(gs.best_params_)"
   ]
  },
  {
   "cell_type": "code",
   "execution_count": 66,
   "metadata": {},
   "outputs": [],
   "source": [
    "best_ridge = 57.28643216080401"
   ]
  },
  {
   "cell_type": "code",
   "execution_count": 67,
   "metadata": {},
   "outputs": [
    {
     "name": "stdout",
     "output_type": "stream",
     "text": [
      "{'lasso__alpha': 0.02221946860939524}\n"
     ]
    }
   ],
   "source": [
    "# find lasso's optimal alpha\n",
    "alphas = np.logspace(-3, 1, num=200)\n",
    "gs = GridSearchCV(\n",
    "    make_pipeline(\n",
    "    linear_model.Lasso()),\n",
    "    param_grid = {'lasso__alpha': alphas},\n",
    "    cv = KFold(5, shuffle = True, random_state = 42),\n",
    "    scoring = \"neg_root_mean_squared_error\"\n",
    ")\n",
    "\n",
    "gs.fit(Xex_train_pow, y_train)\n",
    "print(gs.best_params_)"
   ]
  },
  {
   "cell_type": "code",
   "execution_count": 68,
   "metadata": {},
   "outputs": [],
   "source": [
    "best_lasso = 0.02221946860939524"
   ]
  },
  {
   "cell_type": "code",
   "execution_count": 69,
   "metadata": {},
   "outputs": [],
   "source": [
    "trans_processing = ColumnTransformer([\n",
    "    (\"power_transformer\", power, num_index),\n",
    "    ('factor', 'passthrough', factor_index)\n",
    "])\n",
    "\n",
    "\n",
    "# Description of different models via pipeline\n",
    "linear_pipe = Pipeline(steps = [(\"trans_processing\", trans_processing),(\"model\", LinearRegression())])\n",
    "knn_pipe = Pipeline(steps = [(\"trans_processing\", trans_processing), (\"model\", KNeighborsRegressor(n_neighbors=3))])\n",
    "lasso_pipe = Pipeline(steps = [(\"trans_processing\", trans_processing),(\"model\", linear_model.Lasso(alpha = best_lasso))])\n",
    "ridge_pipe = Pipeline(steps = [(\"trans_processing\", trans_processing), (\"model\", linear_model.Ridge(alpha = best_ridge))])\n",
    "\n",
    "# Collection of all models\n",
    "model_dict = {\n",
    "    'LinearRegression': linear_pipe,\n",
    "    'KNN': knn_pipe,\n",
    "    'Lasso': lasso_pipe,\n",
    "    'Ridge': ridge_pipe}\n",
    "\n",
    "for i, model_name in enumerate(model_dict): \n",
    "    scores = cross_validate(model_dict[model_name], Xex_train, y_train, cv = kf, return_train_score = True)\n",
    "    scores_df = tidy_scores(scores)\n",
    "    scores_df['model'] = model_name\n",
    "    scores_df = scores_df.set_index(\"model\", append=True)\n",
    "    scores_df = scores_df.swaplevel()\n",
    "    \n",
    "    if i == 0:\n",
    "        all_scores = scores_df\n",
    "    else:\n",
    "        all_scores = pd.concat([all_scores, scores_df], axis=0)"
   ]
  },
  {
   "cell_type": "code",
   "execution_count": 70,
   "metadata": {},
   "outputs": [
    {
     "data": {
      "text/html": [
       "<div>\n",
       "<style scoped>\n",
       "    .dataframe tbody tr th:only-of-type {\n",
       "        vertical-align: middle;\n",
       "    }\n",
       "\n",
       "    .dataframe tbody tr th {\n",
       "        vertical-align: top;\n",
       "    }\n",
       "\n",
       "    .dataframe thead th {\n",
       "        text-align: right;\n",
       "    }\n",
       "</style>\n",
       "<table border=\"1\" class=\"dataframe\">\n",
       "  <thead>\n",
       "    <tr style=\"text-align: right;\">\n",
       "      <th></th>\n",
       "      <th></th>\n",
       "      <th>fit_time</th>\n",
       "      <th>score_time</th>\n",
       "      <th>val_score</th>\n",
       "      <th>train_score</th>\n",
       "    </tr>\n",
       "    <tr>\n",
       "      <th>model</th>\n",
       "      <th>fold</th>\n",
       "      <th></th>\n",
       "      <th></th>\n",
       "      <th></th>\n",
       "      <th></th>\n",
       "    </tr>\n",
       "  </thead>\n",
       "  <tbody>\n",
       "    <tr>\n",
       "      <th>LinearRegression</th>\n",
       "      <th>mean</th>\n",
       "      <td>0.16</td>\n",
       "      <td>0.02</td>\n",
       "      <td>0.14</td>\n",
       "      <td>0.48</td>\n",
       "    </tr>\n",
       "    <tr>\n",
       "      <th>KNN</th>\n",
       "      <th>mean</th>\n",
       "      <td>0.08</td>\n",
       "      <td>0.08</td>\n",
       "      <td>0.10</td>\n",
       "      <td>0.55</td>\n",
       "    </tr>\n",
       "    <tr>\n",
       "      <th>Lasso</th>\n",
       "      <th>mean</th>\n",
       "      <td>0.08</td>\n",
       "      <td>0.01</td>\n",
       "      <td>0.24</td>\n",
       "      <td>0.45</td>\n",
       "    </tr>\n",
       "    <tr>\n",
       "      <th>Ridge</th>\n",
       "      <th>mean</th>\n",
       "      <td>0.14</td>\n",
       "      <td>0.02</td>\n",
       "      <td>0.23</td>\n",
       "      <td>0.43</td>\n",
       "    </tr>\n",
       "  </tbody>\n",
       "</table>\n",
       "</div>"
      ],
      "text/plain": [
       "                       fit_time  score_time  val_score  train_score\n",
       "model            fold                                              \n",
       "LinearRegression mean      0.16        0.02       0.14         0.48\n",
       "KNN              mean      0.08        0.08       0.10         0.55\n",
       "Lasso            mean      0.08        0.01       0.24         0.45\n",
       "Ridge            mean      0.14        0.02       0.23         0.43"
      ]
     },
     "metadata": {},
     "output_type": "display_data"
    },
    {
     "data": {
      "text/html": [
       "<div>\n",
       "<style scoped>\n",
       "    .dataframe tbody tr th:only-of-type {\n",
       "        vertical-align: middle;\n",
       "    }\n",
       "\n",
       "    .dataframe tbody tr th {\n",
       "        vertical-align: top;\n",
       "    }\n",
       "\n",
       "    .dataframe thead th {\n",
       "        text-align: right;\n",
       "    }\n",
       "</style>\n",
       "<table border=\"1\" class=\"dataframe\">\n",
       "  <thead>\n",
       "    <tr style=\"text-align: right;\">\n",
       "      <th></th>\n",
       "      <th></th>\n",
       "      <th>fit_time</th>\n",
       "      <th>score_time</th>\n",
       "      <th>val_score</th>\n",
       "      <th>train_score</th>\n",
       "    </tr>\n",
       "    <tr>\n",
       "      <th>model</th>\n",
       "      <th>fold</th>\n",
       "      <th></th>\n",
       "      <th></th>\n",
       "      <th></th>\n",
       "      <th></th>\n",
       "    </tr>\n",
       "  </thead>\n",
       "  <tbody>\n",
       "    <tr>\n",
       "      <th>LinearRegression</th>\n",
       "      <th>sd</th>\n",
       "      <td>0.02</td>\n",
       "      <td>0.01</td>\n",
       "      <td>0.20</td>\n",
       "      <td>0.02</td>\n",
       "    </tr>\n",
       "    <tr>\n",
       "      <th>KNN</th>\n",
       "      <th>sd</th>\n",
       "      <td>0.03</td>\n",
       "      <td>0.01</td>\n",
       "      <td>0.17</td>\n",
       "      <td>0.03</td>\n",
       "    </tr>\n",
       "    <tr>\n",
       "      <th>Lasso</th>\n",
       "      <th>sd</th>\n",
       "      <td>0.03</td>\n",
       "      <td>0.01</td>\n",
       "      <td>0.09</td>\n",
       "      <td>0.02</td>\n",
       "    </tr>\n",
       "    <tr>\n",
       "      <th>Ridge</th>\n",
       "      <th>sd</th>\n",
       "      <td>0.02</td>\n",
       "      <td>0.00</td>\n",
       "      <td>0.10</td>\n",
       "      <td>0.02</td>\n",
       "    </tr>\n",
       "  </tbody>\n",
       "</table>\n",
       "</div>"
      ],
      "text/plain": [
       "                       fit_time  score_time  val_score  train_score\n",
       "model            fold                                              \n",
       "LinearRegression sd        0.02        0.01       0.20         0.02\n",
       "KNN              sd        0.03        0.01       0.17         0.03\n",
       "Lasso            sd        0.03        0.01       0.09         0.02\n",
       "Ridge            sd        0.02        0.00       0.10         0.02"
      ]
     },
     "metadata": {},
     "output_type": "display_data"
    }
   ],
   "source": [
    "# Mean values for the train and valid scores        \n",
    "display(all_scores.xs('mean', level=1, drop_level=False))\n",
    "# Std Dev. values for the train and valid scores\n",
    "display(all_scores.xs('sd', level=1, drop_level=False))"
   ]
  },
  {
   "cell_type": "markdown",
   "metadata": {},
   "source": [
    "# Dummy with votes and episode"
   ]
  },
  {
   "cell_type": "code",
   "execution_count": 71,
   "metadata": {},
   "outputs": [],
   "source": [
    "Xexa = Xex.copy()\n",
    "Xexa['episode'] = dff['episode']\n",
    "Xexa['total_votes'] = dff['total_votes']\n",
    "Xexa_train, Xexa_test, y_train, y_test = train_test_split(Xexa, y, test_size = 0.2, random_state = 42)"
   ]
  },
  {
   "cell_type": "code",
   "execution_count": 72,
   "metadata": {},
   "outputs": [],
   "source": [
    "num_index = list(range(0,Xexa.shape[1]))\n",
    "del num_index[20:22]\n",
    "factor_index = list(range(20,22))"
   ]
  },
  {
   "cell_type": "code",
   "execution_count": 73,
   "metadata": {},
   "outputs": [],
   "source": [
    "trans_processing = ColumnTransformer([\n",
    "    (\"power_transformer\", power, num_index),\n",
    "    ('factor', 'passthrough', factor_index)\n",
    "])"
   ]
  },
  {
   "cell_type": "code",
   "execution_count": 74,
   "metadata": {},
   "outputs": [],
   "source": [
    "Xexa_train_pow = trans_processing.fit_transform(Xexa_train)"
   ]
  },
  {
   "cell_type": "code",
   "execution_count": 75,
   "metadata": {},
   "outputs": [
    {
     "name": "stdout",
     "output_type": "stream",
     "text": [
      "{'ridge__alpha': 11.457286432160803}\n"
     ]
    }
   ],
   "source": [
    "# find Ridge's optimal alpha\n",
    "alphas = np.linspace(0, 60, num=200)\n",
    "gs = GridSearchCV(\n",
    "    make_pipeline(\n",
    "    linear_model.Ridge()),\n",
    "    param_grid = {'ridge__alpha': alphas},\n",
    "    cv = KFold(5, shuffle = True, random_state = 42),\n",
    "    scoring = \"neg_root_mean_squared_error\"\n",
    ")\n",
    "\n",
    "gs.fit(Xexa_train_pow, y_train)\n",
    "print(gs.best_params_)"
   ]
  },
  {
   "cell_type": "code",
   "execution_count": 76,
   "metadata": {},
   "outputs": [],
   "source": [
    "best_ridge = 11.457286432160803"
   ]
  },
  {
   "cell_type": "code",
   "execution_count": 77,
   "metadata": {},
   "outputs": [
    {
     "name": "stdout",
     "output_type": "stream",
     "text": [
      "{'lasso__alpha': 0.036969127071950283}\n"
     ]
    }
   ],
   "source": [
    "# find lasso's optimal alpha\n",
    "alphas = np.logspace(-3, 1, num=200)\n",
    "gs = GridSearchCV(\n",
    "    make_pipeline(\n",
    "    linear_model.Lasso()),\n",
    "    param_grid = {'lasso__alpha': alphas},\n",
    "    cv = KFold(5, shuffle = True, random_state = 42),\n",
    "    scoring = \"neg_root_mean_squared_error\"\n",
    ")\n",
    "\n",
    "gs.fit(Xexa_train_pow, y_train)\n",
    "print(gs.best_params_)"
   ]
  },
  {
   "cell_type": "code",
   "execution_count": 78,
   "metadata": {},
   "outputs": [],
   "source": [
    "best_lasso = 0.036969127071950283"
   ]
  },
  {
   "cell_type": "code",
   "execution_count": 79,
   "metadata": {},
   "outputs": [],
   "source": [
    "trans_processing = ColumnTransformer([\n",
    "    (\"power_transformer\", power, num_index),\n",
    "    ('factor', 'passthrough', factor_index)\n",
    "])\n",
    "\n",
    "\n",
    "# Description of different models via pipeline\n",
    "linear_pipe = Pipeline(steps = [(\"trans_processing\", trans_processing),(\"model\", LinearRegression())])\n",
    "knn_pipe = Pipeline(steps = [(\"trans_processing\", trans_processing), (\"model\", KNeighborsRegressor(n_neighbors=3))])\n",
    "lasso_pipe = Pipeline(steps = [(\"trans_processing\", trans_processing),(\"model\", linear_model.Lasso(alpha = best_lasso))])\n",
    "ridge_pipe = Pipeline(steps = [(\"trans_processing\", trans_processing), (\"model\", linear_model.Ridge(alpha = best_ridge))])\n",
    "\n",
    "# Collection of all models\n",
    "model_dict = {\n",
    "    'LinearRegression': linear_pipe,\n",
    "    'KNN': knn_pipe,\n",
    "    'Lasso': lasso_pipe,\n",
    "    'Ridge': ridge_pipe}\n",
    "\n",
    "for i, model_name in enumerate(model_dict): \n",
    "    scores = cross_validate(model_dict[model_name], Xexa_train, y_train, cv = kf, return_train_score = True)\n",
    "    scores_df = tidy_scores(scores)\n",
    "    scores_df['model'] = model_name\n",
    "    scores_df = scores_df.set_index(\"model\", append=True)\n",
    "    scores_df = scores_df.swaplevel()\n",
    "    \n",
    "    if i == 0:\n",
    "        all_scores = scores_df\n",
    "    else:\n",
    "        all_scores = pd.concat([all_scores, scores_df], axis=0)"
   ]
  },
  {
   "cell_type": "code",
   "execution_count": 80,
   "metadata": {},
   "outputs": [
    {
     "data": {
      "text/html": [
       "<div>\n",
       "<style scoped>\n",
       "    .dataframe tbody tr th:only-of-type {\n",
       "        vertical-align: middle;\n",
       "    }\n",
       "\n",
       "    .dataframe tbody tr th {\n",
       "        vertical-align: top;\n",
       "    }\n",
       "\n",
       "    .dataframe thead th {\n",
       "        text-align: right;\n",
       "    }\n",
       "</style>\n",
       "<table border=\"1\" class=\"dataframe\">\n",
       "  <thead>\n",
       "    <tr style=\"text-align: right;\">\n",
       "      <th></th>\n",
       "      <th></th>\n",
       "      <th>fit_time</th>\n",
       "      <th>score_time</th>\n",
       "      <th>val_score</th>\n",
       "      <th>train_score</th>\n",
       "    </tr>\n",
       "    <tr>\n",
       "      <th>model</th>\n",
       "      <th>fold</th>\n",
       "      <th></th>\n",
       "      <th></th>\n",
       "      <th></th>\n",
       "      <th></th>\n",
       "    </tr>\n",
       "  </thead>\n",
       "  <tbody>\n",
       "    <tr>\n",
       "      <th>LinearRegression</th>\n",
       "      <th>mean</th>\n",
       "      <td>0.16</td>\n",
       "      <td>0.02</td>\n",
       "      <td>0.55</td>\n",
       "      <td>0.73</td>\n",
       "    </tr>\n",
       "    <tr>\n",
       "      <th>KNN</th>\n",
       "      <th>mean</th>\n",
       "      <td>0.13</td>\n",
       "      <td>0.15</td>\n",
       "      <td>0.32</td>\n",
       "      <td>0.63</td>\n",
       "    </tr>\n",
       "    <tr>\n",
       "      <th>Lasso</th>\n",
       "      <th>mean</th>\n",
       "      <td>0.07</td>\n",
       "      <td>0.02</td>\n",
       "      <td>0.59</td>\n",
       "      <td>0.66</td>\n",
       "    </tr>\n",
       "    <tr>\n",
       "      <th>Ridge</th>\n",
       "      <th>mean</th>\n",
       "      <td>0.10</td>\n",
       "      <td>0.01</td>\n",
       "      <td>0.57</td>\n",
       "      <td>0.71</td>\n",
       "    </tr>\n",
       "  </tbody>\n",
       "</table>\n",
       "</div>"
      ],
      "text/plain": [
       "                       fit_time  score_time  val_score  train_score\n",
       "model            fold                                              \n",
       "LinearRegression mean      0.16        0.02       0.55         0.73\n",
       "KNN              mean      0.13        0.15       0.32         0.63\n",
       "Lasso            mean      0.07        0.02       0.59         0.66\n",
       "Ridge            mean      0.10        0.01       0.57         0.71"
      ]
     },
     "metadata": {},
     "output_type": "display_data"
    },
    {
     "data": {
      "text/html": [
       "<div>\n",
       "<style scoped>\n",
       "    .dataframe tbody tr th:only-of-type {\n",
       "        vertical-align: middle;\n",
       "    }\n",
       "\n",
       "    .dataframe tbody tr th {\n",
       "        vertical-align: top;\n",
       "    }\n",
       "\n",
       "    .dataframe thead th {\n",
       "        text-align: right;\n",
       "    }\n",
       "</style>\n",
       "<table border=\"1\" class=\"dataframe\">\n",
       "  <thead>\n",
       "    <tr style=\"text-align: right;\">\n",
       "      <th></th>\n",
       "      <th></th>\n",
       "      <th>fit_time</th>\n",
       "      <th>score_time</th>\n",
       "      <th>val_score</th>\n",
       "      <th>train_score</th>\n",
       "    </tr>\n",
       "    <tr>\n",
       "      <th>model</th>\n",
       "      <th>fold</th>\n",
       "      <th></th>\n",
       "      <th></th>\n",
       "      <th></th>\n",
       "      <th></th>\n",
       "    </tr>\n",
       "  </thead>\n",
       "  <tbody>\n",
       "    <tr>\n",
       "      <th>LinearRegression</th>\n",
       "      <th>sd</th>\n",
       "      <td>0.01</td>\n",
       "      <td>0.01</td>\n",
       "      <td>0.08</td>\n",
       "      <td>0.03</td>\n",
       "    </tr>\n",
       "    <tr>\n",
       "      <th>KNN</th>\n",
       "      <th>sd</th>\n",
       "      <td>0.03</td>\n",
       "      <td>0.03</td>\n",
       "      <td>0.15</td>\n",
       "      <td>0.01</td>\n",
       "    </tr>\n",
       "    <tr>\n",
       "      <th>Lasso</th>\n",
       "      <th>sd</th>\n",
       "      <td>0.01</td>\n",
       "      <td>0.00</td>\n",
       "      <td>0.10</td>\n",
       "      <td>0.03</td>\n",
       "    </tr>\n",
       "    <tr>\n",
       "      <th>Ridge</th>\n",
       "      <th>sd</th>\n",
       "      <td>0.03</td>\n",
       "      <td>0.01</td>\n",
       "      <td>0.07</td>\n",
       "      <td>0.03</td>\n",
       "    </tr>\n",
       "  </tbody>\n",
       "</table>\n",
       "</div>"
      ],
      "text/plain": [
       "                       fit_time  score_time  val_score  train_score\n",
       "model            fold                                              \n",
       "LinearRegression sd        0.01        0.01       0.08         0.03\n",
       "KNN              sd        0.03        0.03       0.15         0.01\n",
       "Lasso            sd        0.01        0.00       0.10         0.03\n",
       "Ridge            sd        0.03        0.01       0.07         0.03"
      ]
     },
     "metadata": {},
     "output_type": "display_data"
    }
   ],
   "source": [
    "# Mean values for the train and valid scores        \n",
    "display(all_scores.xs('mean', level=1, drop_level=False))\n",
    "# Std Dev. values for the train and valid scores\n",
    "display(all_scores.xs('sd', level=1, drop_level=False))"
   ]
  }
 ],
 "metadata": {
  "kernelspec": {
   "display_name": "Python 3 (ipykernel)",
   "language": "python",
   "name": "python3"
  },
  "language_info": {
   "codemirror_mode": {
    "name": "ipython",
    "version": 3
   },
   "file_extension": ".py",
   "mimetype": "text/x-python",
   "name": "python",
   "nbconvert_exporter": "python",
   "pygments_lexer": "ipython3",
   "version": "3.9.7"
  }
 },
 "nbformat": 4,
 "nbformat_minor": 2
}
